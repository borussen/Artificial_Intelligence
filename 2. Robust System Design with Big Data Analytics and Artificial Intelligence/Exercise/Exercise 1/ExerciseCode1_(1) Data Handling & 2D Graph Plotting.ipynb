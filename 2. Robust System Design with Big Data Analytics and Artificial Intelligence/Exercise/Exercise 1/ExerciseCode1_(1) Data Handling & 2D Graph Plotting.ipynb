{
 "cells": [
  {
   "cell_type": "markdown",
   "metadata": {},
   "source": [
    "## 라이브러리(패키지) import"
   ]
  },
  {
   "cell_type": "markdown",
   "metadata": {},
   "source": [
    "데이터프레임, 행렬, 그래프 그리기 위한 라이브러리"
   ]
  },
  {
   "cell_type": "code",
   "execution_count": 1,
   "metadata": {},
   "outputs": [],
   "source": [
    "import pandas as pd\n",
    "import numpy as np\n",
    "import matplotlib.pyplot as plt"
   ]
  },
  {
   "cell_type": "markdown",
   "metadata": {},
   "source": [
    "## 데이터 불러오기"
   ]
  },
  {
   "cell_type": "markdown",
   "metadata": {},
   "source": [
    "현재폴더 데이터 불러오기"
   ]
  },
  {
   "cell_type": "code",
   "execution_count": 2,
   "metadata": {
    "scrolled": false
   },
   "outputs": [
    {
     "data": {
      "text/html": [
       "<div>\n",
       "<style scoped>\n",
       "    .dataframe tbody tr th:only-of-type {\n",
       "        vertical-align: middle;\n",
       "    }\n",
       "\n",
       "    .dataframe tbody tr th {\n",
       "        vertical-align: top;\n",
       "    }\n",
       "\n",
       "    .dataframe thead th {\n",
       "        text-align: right;\n",
       "    }\n",
       "</style>\n",
       "<table border=\"1\" class=\"dataframe\">\n",
       "  <thead>\n",
       "    <tr style=\"text-align: right;\">\n",
       "      <th></th>\n",
       "      <th>0</th>\n",
       "      <th>1</th>\n",
       "      <th>2</th>\n",
       "      <th>3</th>\n",
       "    </tr>\n",
       "  </thead>\n",
       "  <tbody>\n",
       "    <tr>\n",
       "      <th>0</th>\n",
       "      <td>0.000000</td>\n",
       "      <td>0.016440</td>\n",
       "      <td>-0.014200</td>\n",
       "      <td>0.001433</td>\n",
       "    </tr>\n",
       "    <tr>\n",
       "      <th>1</th>\n",
       "      <td>0.000078</td>\n",
       "      <td>0.013822</td>\n",
       "      <td>-0.015707</td>\n",
       "      <td>0.001504</td>\n",
       "    </tr>\n",
       "    <tr>\n",
       "      <th>2</th>\n",
       "      <td>0.000156</td>\n",
       "      <td>0.019431</td>\n",
       "      <td>-0.016963</td>\n",
       "      <td>0.001433</td>\n",
       "    </tr>\n",
       "    <tr>\n",
       "      <th>3</th>\n",
       "      <td>0.000234</td>\n",
       "      <td>0.003726</td>\n",
       "      <td>-0.017248</td>\n",
       "      <td>0.001549</td>\n",
       "    </tr>\n",
       "    <tr>\n",
       "      <th>4</th>\n",
       "      <td>0.000313</td>\n",
       "      <td>0.022049</td>\n",
       "      <td>-0.009840</td>\n",
       "      <td>0.001864</td>\n",
       "    </tr>\n",
       "    <tr>\n",
       "      <th>...</th>\n",
       "      <td>...</td>\n",
       "      <td>...</td>\n",
       "      <td>...</td>\n",
       "      <td>...</td>\n",
       "    </tr>\n",
       "    <tr>\n",
       "      <th>2769</th>\n",
       "      <td>0.216330</td>\n",
       "      <td>0.077392</td>\n",
       "      <td>0.002404</td>\n",
       "      <td>0.003453</td>\n",
       "    </tr>\n",
       "    <tr>\n",
       "      <th>2770</th>\n",
       "      <td>0.216410</td>\n",
       "      <td>0.030276</td>\n",
       "      <td>0.003952</td>\n",
       "      <td>0.003498</td>\n",
       "    </tr>\n",
       "    <tr>\n",
       "      <th>2771</th>\n",
       "      <td>0.216480</td>\n",
       "      <td>0.017188</td>\n",
       "      <td>0.005504</td>\n",
       "      <td>0.003397</td>\n",
       "    </tr>\n",
       "    <tr>\n",
       "      <th>2772</th>\n",
       "      <td>0.216560</td>\n",
       "      <td>0.037754</td>\n",
       "      <td>-0.000108</td>\n",
       "      <td>0.003506</td>\n",
       "    </tr>\n",
       "    <tr>\n",
       "      <th>2773</th>\n",
       "      <td>0.216640</td>\n",
       "      <td>-0.016093</td>\n",
       "      <td>-0.001652</td>\n",
       "      <td>0.003600</td>\n",
       "    </tr>\n",
       "  </tbody>\n",
       "</table>\n",
       "<p>2774 rows × 4 columns</p>\n",
       "</div>"
      ],
      "text/plain": [
       "             0         1         2         3\n",
       "0     0.000000  0.016440 -0.014200  0.001433\n",
       "1     0.000078  0.013822 -0.015707  0.001504\n",
       "2     0.000156  0.019431 -0.016963  0.001433\n",
       "3     0.000234  0.003726 -0.017248  0.001549\n",
       "4     0.000313  0.022049 -0.009840  0.001864\n",
       "...        ...       ...       ...       ...\n",
       "2769  0.216330  0.077392  0.002404  0.003453\n",
       "2770  0.216410  0.030276  0.003952  0.003498\n",
       "2771  0.216480  0.017188  0.005504  0.003397\n",
       "2772  0.216560  0.037754 -0.000108  0.003506\n",
       "2773  0.216640 -0.016093 -0.001652  0.003600\n",
       "\n",
       "[2774 rows x 4 columns]"
      ]
     },
     "execution_count": 2,
     "metadata": {},
     "output_type": "execute_result"
    }
   ],
   "source": [
    "ExampleData = pd.read_csv('./ExampleData', sep=',', header=None)\n",
    "ExampleData"
   ]
  },
  {
   "cell_type": "markdown",
   "metadata": {},
   "source": [
    "하위폴더 데이터 불러오기"
   ]
  },
  {
   "cell_type": "code",
   "execution_count": 3,
   "metadata": {},
   "outputs": [
    {
     "data": {
      "text/html": [
       "<div>\n",
       "<style scoped>\n",
       "    .dataframe tbody tr th:only-of-type {\n",
       "        vertical-align: middle;\n",
       "    }\n",
       "\n",
       "    .dataframe tbody tr th {\n",
       "        vertical-align: top;\n",
       "    }\n",
       "\n",
       "    .dataframe thead th {\n",
       "        text-align: right;\n",
       "    }\n",
       "</style>\n",
       "<table border=\"1\" class=\"dataframe\">\n",
       "  <thead>\n",
       "    <tr style=\"text-align: right;\">\n",
       "      <th></th>\n",
       "      <th>time</th>\n",
       "      <th>Accelerometer</th>\n",
       "      <th>Voltage</th>\n",
       "      <th>Current</th>\n",
       "    </tr>\n",
       "  </thead>\n",
       "  <tbody>\n",
       "    <tr>\n",
       "      <th>0</th>\n",
       "      <td>0.000000</td>\n",
       "      <td>0.016440</td>\n",
       "      <td>-0.014200</td>\n",
       "      <td>0.001433</td>\n",
       "    </tr>\n",
       "    <tr>\n",
       "      <th>1</th>\n",
       "      <td>0.000078</td>\n",
       "      <td>0.013822</td>\n",
       "      <td>-0.015707</td>\n",
       "      <td>0.001504</td>\n",
       "    </tr>\n",
       "    <tr>\n",
       "      <th>2</th>\n",
       "      <td>0.000156</td>\n",
       "      <td>0.019431</td>\n",
       "      <td>-0.016963</td>\n",
       "      <td>0.001433</td>\n",
       "    </tr>\n",
       "    <tr>\n",
       "      <th>3</th>\n",
       "      <td>0.000234</td>\n",
       "      <td>0.003726</td>\n",
       "      <td>-0.017248</td>\n",
       "      <td>0.001549</td>\n",
       "    </tr>\n",
       "    <tr>\n",
       "      <th>4</th>\n",
       "      <td>0.000313</td>\n",
       "      <td>0.022049</td>\n",
       "      <td>-0.009840</td>\n",
       "      <td>0.001864</td>\n",
       "    </tr>\n",
       "    <tr>\n",
       "      <th>...</th>\n",
       "      <td>...</td>\n",
       "      <td>...</td>\n",
       "      <td>...</td>\n",
       "      <td>...</td>\n",
       "    </tr>\n",
       "    <tr>\n",
       "      <th>2769</th>\n",
       "      <td>0.216330</td>\n",
       "      <td>0.077392</td>\n",
       "      <td>0.002404</td>\n",
       "      <td>0.003453</td>\n",
       "    </tr>\n",
       "    <tr>\n",
       "      <th>2770</th>\n",
       "      <td>0.216410</td>\n",
       "      <td>0.030276</td>\n",
       "      <td>0.003952</td>\n",
       "      <td>0.003498</td>\n",
       "    </tr>\n",
       "    <tr>\n",
       "      <th>2771</th>\n",
       "      <td>0.216480</td>\n",
       "      <td>0.017188</td>\n",
       "      <td>0.005504</td>\n",
       "      <td>0.003397</td>\n",
       "    </tr>\n",
       "    <tr>\n",
       "      <th>2772</th>\n",
       "      <td>0.216560</td>\n",
       "      <td>0.037754</td>\n",
       "      <td>-0.000108</td>\n",
       "      <td>0.003506</td>\n",
       "    </tr>\n",
       "    <tr>\n",
       "      <th>2773</th>\n",
       "      <td>0.216640</td>\n",
       "      <td>-0.016093</td>\n",
       "      <td>-0.001652</td>\n",
       "      <td>0.003600</td>\n",
       "    </tr>\n",
       "  </tbody>\n",
       "</table>\n",
       "<p>2774 rows × 4 columns</p>\n",
       "</div>"
      ],
      "text/plain": [
       "          time  Accelerometer   Voltage   Current\n",
       "0     0.000000       0.016440 -0.014200  0.001433\n",
       "1     0.000078       0.013822 -0.015707  0.001504\n",
       "2     0.000156       0.019431 -0.016963  0.001433\n",
       "3     0.000234       0.003726 -0.017248  0.001549\n",
       "4     0.000313       0.022049 -0.009840  0.001864\n",
       "...        ...            ...       ...       ...\n",
       "2769  0.216330       0.077392  0.002404  0.003453\n",
       "2770  0.216410       0.030276  0.003952  0.003498\n",
       "2771  0.216480       0.017188  0.005504  0.003397\n",
       "2772  0.216560       0.037754 -0.000108  0.003506\n",
       "2773  0.216640      -0.016093 -0.001652  0.003600\n",
       "\n",
       "[2774 rows x 4 columns]"
      ]
     },
     "execution_count": 3,
     "metadata": {},
     "output_type": "execute_result"
    }
   ],
   "source": [
    "path = './Subfolder/ExampleData2' # 파일 경로\n",
    "ExampleData2 = pd.read_csv(path, sep=',',names=['time', 'Accelerometer', 'Voltage', 'Current'])\n",
    "ExampleData2"
   ]
  },
  {
   "cell_type": "markdown",
   "metadata": {},
   "source": [
    "## 데이터 핸들링 (Handling)"
   ]
  },
  {
   "cell_type": "markdown",
   "metadata": {},
   "source": [
    "시간열(time column) 제거한 센서 데이터 추출"
   ]
  },
  {
   "cell_type": "code",
   "execution_count": 4,
   "metadata": {},
   "outputs": [
    {
     "data": {
      "text/html": [
       "<div>\n",
       "<style scoped>\n",
       "    .dataframe tbody tr th:only-of-type {\n",
       "        vertical-align: middle;\n",
       "    }\n",
       "\n",
       "    .dataframe tbody tr th {\n",
       "        vertical-align: top;\n",
       "    }\n",
       "\n",
       "    .dataframe thead th {\n",
       "        text-align: right;\n",
       "    }\n",
       "</style>\n",
       "<table border=\"1\" class=\"dataframe\">\n",
       "  <thead>\n",
       "    <tr style=\"text-align: right;\">\n",
       "      <th></th>\n",
       "      <th>1</th>\n",
       "      <th>2</th>\n",
       "      <th>3</th>\n",
       "    </tr>\n",
       "  </thead>\n",
       "  <tbody>\n",
       "    <tr>\n",
       "      <th>0</th>\n",
       "      <td>0.016440</td>\n",
       "      <td>-0.014200</td>\n",
       "      <td>0.001433</td>\n",
       "    </tr>\n",
       "    <tr>\n",
       "      <th>1</th>\n",
       "      <td>0.013822</td>\n",
       "      <td>-0.015707</td>\n",
       "      <td>0.001504</td>\n",
       "    </tr>\n",
       "    <tr>\n",
       "      <th>2</th>\n",
       "      <td>0.019431</td>\n",
       "      <td>-0.016963</td>\n",
       "      <td>0.001433</td>\n",
       "    </tr>\n",
       "    <tr>\n",
       "      <th>3</th>\n",
       "      <td>0.003726</td>\n",
       "      <td>-0.017248</td>\n",
       "      <td>0.001549</td>\n",
       "    </tr>\n",
       "    <tr>\n",
       "      <th>4</th>\n",
       "      <td>0.022049</td>\n",
       "      <td>-0.009840</td>\n",
       "      <td>0.001864</td>\n",
       "    </tr>\n",
       "    <tr>\n",
       "      <th>...</th>\n",
       "      <td>...</td>\n",
       "      <td>...</td>\n",
       "      <td>...</td>\n",
       "    </tr>\n",
       "    <tr>\n",
       "      <th>2769</th>\n",
       "      <td>0.077392</td>\n",
       "      <td>0.002404</td>\n",
       "      <td>0.003453</td>\n",
       "    </tr>\n",
       "    <tr>\n",
       "      <th>2770</th>\n",
       "      <td>0.030276</td>\n",
       "      <td>0.003952</td>\n",
       "      <td>0.003498</td>\n",
       "    </tr>\n",
       "    <tr>\n",
       "      <th>2771</th>\n",
       "      <td>0.017188</td>\n",
       "      <td>0.005504</td>\n",
       "      <td>0.003397</td>\n",
       "    </tr>\n",
       "    <tr>\n",
       "      <th>2772</th>\n",
       "      <td>0.037754</td>\n",
       "      <td>-0.000108</td>\n",
       "      <td>0.003506</td>\n",
       "    </tr>\n",
       "    <tr>\n",
       "      <th>2773</th>\n",
       "      <td>-0.016093</td>\n",
       "      <td>-0.001652</td>\n",
       "      <td>0.003600</td>\n",
       "    </tr>\n",
       "  </tbody>\n",
       "</table>\n",
       "<p>2774 rows × 3 columns</p>\n",
       "</div>"
      ],
      "text/plain": [
       "             1         2         3\n",
       "0     0.016440 -0.014200  0.001433\n",
       "1     0.013822 -0.015707  0.001504\n",
       "2     0.019431 -0.016963  0.001433\n",
       "3     0.003726 -0.017248  0.001549\n",
       "4     0.022049 -0.009840  0.001864\n",
       "...        ...       ...       ...\n",
       "2769  0.077392  0.002404  0.003453\n",
       "2770  0.030276  0.003952  0.003498\n",
       "2771  0.017188  0.005504  0.003397\n",
       "2772  0.037754 -0.000108  0.003506\n",
       "2773 -0.016093 -0.001652  0.003600\n",
       "\n",
       "[2774 rows x 3 columns]"
      ]
     },
     "execution_count": 4,
     "metadata": {},
     "output_type": "execute_result"
    }
   ],
   "source": [
    "SensorDataOnly = ExampleData.iloc[:,1:]\n",
    "SensorDataOnly"
   ]
  },
  {
   "cell_type": "markdown",
   "metadata": {},
   "source": [
    "0.01초부터(이상, 0.01초 포함) 0.02초까지(미만, 0.02초 미포함) 해당하는 데이터 추출"
   ]
  },
  {
   "cell_type": "code",
   "execution_count": 5,
   "metadata": {
    "scrolled": true
   },
   "outputs": [
    {
     "data": {
      "text/plain": [
       "(128, 256)"
      ]
     },
     "execution_count": 5,
     "metadata": {},
     "output_type": "execute_result"
    }
   ],
   "source": [
    "StartPoint = np.where(ExampleData.iloc[:,0].values == 0.01)[0][0]\n",
    "EndPoint   = np.where(ExampleData.iloc[:,0].values == 0.02)[0][0]\n",
    "\n",
    "StartPoint, EndPoint"
   ]
  },
  {
   "cell_type": "code",
   "execution_count": 6,
   "metadata": {},
   "outputs": [
    {
     "data": {
      "text/html": [
       "<div>\n",
       "<style scoped>\n",
       "    .dataframe tbody tr th:only-of-type {\n",
       "        vertical-align: middle;\n",
       "    }\n",
       "\n",
       "    .dataframe tbody tr th {\n",
       "        vertical-align: top;\n",
       "    }\n",
       "\n",
       "    .dataframe thead th {\n",
       "        text-align: right;\n",
       "    }\n",
       "</style>\n",
       "<table border=\"1\" class=\"dataframe\">\n",
       "  <thead>\n",
       "    <tr style=\"text-align: right;\">\n",
       "      <th></th>\n",
       "      <th>0</th>\n",
       "      <th>1</th>\n",
       "      <th>2</th>\n",
       "      <th>3</th>\n",
       "    </tr>\n",
       "  </thead>\n",
       "  <tbody>\n",
       "    <tr>\n",
       "      <th>128</th>\n",
       "      <td>0.010000</td>\n",
       "      <td>-0.017962</td>\n",
       "      <td>-0.010766</td>\n",
       "      <td>-0.005784</td>\n",
       "    </tr>\n",
       "    <tr>\n",
       "      <th>129</th>\n",
       "      <td>0.010078</td>\n",
       "      <td>-0.094246</td>\n",
       "      <td>0.022769</td>\n",
       "      <td>0.001770</td>\n",
       "    </tr>\n",
       "    <tr>\n",
       "      <th>130</th>\n",
       "      <td>0.010156</td>\n",
       "      <td>-0.103970</td>\n",
       "      <td>-0.086215</td>\n",
       "      <td>-0.008154</td>\n",
       "    </tr>\n",
       "    <tr>\n",
       "      <th>131</th>\n",
       "      <td>0.010234</td>\n",
       "      <td>-0.103590</td>\n",
       "      <td>0.165990</td>\n",
       "      <td>0.005673</td>\n",
       "    </tr>\n",
       "    <tr>\n",
       "      <th>132</th>\n",
       "      <td>0.010313</td>\n",
       "      <td>-0.103220</td>\n",
       "      <td>-0.925800</td>\n",
       "      <td>-0.033911</td>\n",
       "    </tr>\n",
       "    <tr>\n",
       "      <th>...</th>\n",
       "      <td>...</td>\n",
       "      <td>...</td>\n",
       "      <td>...</td>\n",
       "      <td>...</td>\n",
       "    </tr>\n",
       "    <tr>\n",
       "      <th>251</th>\n",
       "      <td>0.019609</td>\n",
       "      <td>-0.222880</td>\n",
       "      <td>2.025500</td>\n",
       "      <td>3.797800</td>\n",
       "    </tr>\n",
       "    <tr>\n",
       "      <th>252</th>\n",
       "      <td>0.019688</td>\n",
       "      <td>-0.213910</td>\n",
       "      <td>1.954200</td>\n",
       "      <td>3.787500</td>\n",
       "    </tr>\n",
       "    <tr>\n",
       "      <th>253</th>\n",
       "      <td>0.019766</td>\n",
       "      <td>-0.256910</td>\n",
       "      <td>1.879100</td>\n",
       "      <td>3.767100</td>\n",
       "    </tr>\n",
       "    <tr>\n",
       "      <th>254</th>\n",
       "      <td>0.019844</td>\n",
       "      <td>-0.278220</td>\n",
       "      <td>1.790100</td>\n",
       "      <td>3.738200</td>\n",
       "    </tr>\n",
       "    <tr>\n",
       "      <th>255</th>\n",
       "      <td>0.019922</td>\n",
       "      <td>-0.379560</td>\n",
       "      <td>1.695900</td>\n",
       "      <td>3.700200</td>\n",
       "    </tr>\n",
       "  </tbody>\n",
       "</table>\n",
       "<p>128 rows × 4 columns</p>\n",
       "</div>"
      ],
      "text/plain": [
       "            0         1         2         3\n",
       "128  0.010000 -0.017962 -0.010766 -0.005784\n",
       "129  0.010078 -0.094246  0.022769  0.001770\n",
       "130  0.010156 -0.103970 -0.086215 -0.008154\n",
       "131  0.010234 -0.103590  0.165990  0.005673\n",
       "132  0.010313 -0.103220 -0.925800 -0.033911\n",
       "..        ...       ...       ...       ...\n",
       "251  0.019609 -0.222880  2.025500  3.797800\n",
       "252  0.019688 -0.213910  1.954200  3.787500\n",
       "253  0.019766 -0.256910  1.879100  3.767100\n",
       "254  0.019844 -0.278220  1.790100  3.738200\n",
       "255  0.019922 -0.379560  1.695900  3.700200\n",
       "\n",
       "[128 rows x 4 columns]"
      ]
     },
     "execution_count": 6,
     "metadata": {},
     "output_type": "execute_result"
    }
   ],
   "source": [
    "NewData = ExampleData.iloc[StartPoint:EndPoint, :]\n",
    "NewData"
   ]
  },
  {
   "cell_type": "markdown",
   "metadata": {},
   "source": [
    "데이터 형태(차원) 확인"
   ]
  },
  {
   "cell_type": "code",
   "execution_count": 7,
   "metadata": {},
   "outputs": [
    {
     "data": {
      "text/plain": [
       "(128, 4)"
      ]
     },
     "execution_count": 7,
     "metadata": {},
     "output_type": "execute_result"
    }
   ],
   "source": [
    "NewData.shape"
   ]
  },
  {
   "cell_type": "markdown",
   "metadata": {},
   "source": [
    "데이터를 파일(.csv)로 저장"
   ]
  },
  {
   "cell_type": "code",
   "execution_count": 8,
   "metadata": {},
   "outputs": [],
   "source": [
    "path = './Subfolder/NewData_exercise'\n",
    "NewData.to_csv(path , sep=',' , header=None , index=None)"
   ]
  },
  {
   "cell_type": "markdown",
   "metadata": {},
   "source": [
    "데이터 행렬바꾸기"
   ]
  },
  {
   "cell_type": "code",
   "execution_count": null,
   "metadata": {
    "scrolled": true
   },
   "outputs": [],
   "source": [
    "TransposedData = np.transpose(NewData)\n",
    "TransposedData"
   ]
  },
  {
   "cell_type": "markdown",
   "metadata": {},
   "source": [
    "## 데이터 그래프 그리기"
   ]
  },
  {
   "cell_type": "markdown",
   "metadata": {},
   "source": [
    "그리드, 라벨, 제목, 범례 표시 등"
   ]
  },
  {
   "cell_type": "code",
   "execution_count": null,
   "metadata": {
    "scrolled": true
   },
   "outputs": [],
   "source": [
    "# ExampleData 0열 (1번째 열) = 시간\n",
    "# ExampleData 1열 (2번째 열) = 가속도 센서 데이터\n",
    "\n",
    "plt.plot(ExampleData.iloc[:,0], ExampleData.iloc[:,1])\n",
    "plt.grid()                                                     # 그리드 표시\n",
    "plt.xlabel('time(s)')                                          # x 라벨 표시\n",
    "plt.ylabel('Acceleration(g)')                                  # y 라벨 표시\n",
    "plt.title('Spot Welding Acceleration Data')                    # 제목 표시\n",
    "plt.legend(['Acc'], loc = 'upper right', fontsize=10)          # 범례 표시\n",
    "#plt.xlim(0,0.02) # x축 범위 설정\n",
    "plt.ylim(-1.5,1.5) # y축 범위 설정\n",
    "plt.show()"
   ]
  },
  {
   "cell_type": "code",
   "execution_count": null,
   "metadata": {},
   "outputs": [],
   "source": [
    "# ExampleData 0열 (1번째 열) = 시간\n",
    "# ExampleData 2열 (3번째 열) = 전압 센서 데이터\n",
    "\n",
    "plt.plot(ExampleData.iloc[:,0], ExampleData.iloc[:,2])\n",
    "plt.grid()                                                     # 그리드 표시\n",
    "plt.xlabel('time(s)')                                          # x 라벨 표시\n",
    "plt.ylabel('Voltage(V)')                                       # y 라벨 표시\n",
    "plt.title('Spot Welding Voltage Data')                         # 제목 표시\n",
    "plt.legend(['Voltage'], loc = 'upper right', fontsize=10)      # 범례 표시\n",
    "plt.show()"
   ]
  },
  {
   "cell_type": "code",
   "execution_count": null,
   "metadata": {},
   "outputs": [],
   "source": [
    "# ExampleData 0열 (1번째 열) = 시간\n",
    "# ExampleData 3열 (4번째 열) = 전류 센서 데이터\n",
    "\n",
    "plt.plot(ExampleData.iloc[:,0], ExampleData.iloc[:,3])\n",
    "plt.grid()                                                     # 그리드 표시\n",
    "plt.xlabel('time(s)')                                          # x 라벨 표시\n",
    "plt.ylabel('Current(kA)')                                      # y 라벨 표시\n",
    "plt.title('Spot Welding Current Data')                         # 제목 표시\n",
    "plt.legend(['Current'], loc = 'upper right', fontsize=10)      # 범례 표시\n",
    "plt.show()"
   ]
  },
  {
   "cell_type": "markdown",
   "metadata": {},
   "source": [
    "그래프 모양 변경 등"
   ]
  },
  {
   "cell_type": "code",
   "execution_count": null,
   "metadata": {},
   "outputs": [],
   "source": [
    "plt.figure(figsize = (12,9))\n",
    "plt.plot(ExampleData.iloc[:100,0],ExampleData.iloc[:100,1],\n",
    "         linestyle       = '-.', \n",
    "         linewidth       = 2.0, \n",
    "         color           = 'b',           \n",
    "         marker          = 'o', \n",
    "         markersize      = 8, \n",
    "         markeredgecolor = 'g', \n",
    "         markeredgewidth = 1.5, \n",
    "         markerfacecolor = 'r', \n",
    "         alpha           = 0.5)\n",
    "\n",
    "plt.grid()\n",
    "plt.xlabel('time(s)') \n",
    "plt.ylabel('Acceleration(g)')\n",
    "plt.title('Spot Welding Acceleration Data') \n",
    "plt.legend(['Acc'], loc = 'upper right', fontsize=10)"
   ]
  },
  {
   "cell_type": "markdown",
   "metadata": {},
   "source": [
    "그래프 겹쳐서 그리기"
   ]
  },
  {
   "cell_type": "code",
   "execution_count": null,
   "metadata": {},
   "outputs": [],
   "source": [
    "DataLength = 128   # 데이터 길이 128개까지만 제한 (~128/12800, 0.01 초까지)\n",
    "\n",
    "plt.plot(ExampleData.iloc[:DataLength,0],ExampleData.iloc[:DataLength,1])\n",
    "plt.plot(ExampleData.iloc[:DataLength,0],ExampleData.iloc[:DataLength,2])\n",
    "plt.plot(ExampleData.iloc[:DataLength,0],ExampleData.iloc[:DataLength,3])\n",
    "\n",
    "plt.xlabel('time(s)')\n",
    "plt.ylabel('Acceleration(g)')\n",
    "plt.title('Spot Welding Acceleration Data')\n",
    "plt.legend(['Acc', 'Voltage', 'Current'], loc = 'upper right', fontsize=10)\n",
    "\n",
    "plt.grid()\n",
    "plt.show()"
   ]
  },
  {
   "cell_type": "code",
   "execution_count": null,
   "metadata": {},
   "outputs": [],
   "source": []
  }
 ],
 "metadata": {
  "kernelspec": {
   "display_name": "Python 3 (ipykernel)",
   "language": "python",
   "name": "python3"
  },
  "language_info": {
   "codemirror_mode": {
    "name": "ipython",
    "version": 3
   },
   "file_extension": ".py",
   "mimetype": "text/x-python",
   "name": "python",
   "nbconvert_exporter": "python",
   "pygments_lexer": "ipython3",
   "version": "3.9.12"
  }
 },
 "nbformat": 4,
 "nbformat_minor": 2
}
