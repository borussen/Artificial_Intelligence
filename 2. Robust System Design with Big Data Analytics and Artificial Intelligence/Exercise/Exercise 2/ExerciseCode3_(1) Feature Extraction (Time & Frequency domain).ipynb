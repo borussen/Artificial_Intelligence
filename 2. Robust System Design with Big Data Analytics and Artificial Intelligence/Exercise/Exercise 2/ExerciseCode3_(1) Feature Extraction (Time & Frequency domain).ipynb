{
 "cells": [
  {
   "cell_type": "code",
   "execution_count": null,
   "metadata": {},
   "outputs": [],
   "source": [
    "%matplotlib                    # Pyplot 그래프 새창에서 열기 옵션"
   ]
  },
  {
   "cell_type": "code",
   "execution_count": null,
   "metadata": {},
   "outputs": [],
   "source": [
    "%matplotlib inline             # Pyplot 그래프 새창에서 열기 '취소' 옵션"
   ]
  },
  {
   "cell_type": "code",
   "execution_count": null,
   "metadata": {},
   "outputs": [],
   "source": [
    "pd.set_option('display.max_rows',    100)      # DataFrame 데이터 확인 시 최대 표시 행 수\n",
    "pd.set_option('display.max_columns', 100)      # DataFrame 데이터 확인 시 최대 표시 열 수"
   ]
  },
  {
   "cell_type": "markdown",
   "metadata": {},
   "source": [
    "## 라이브러리 import"
   ]
  },
  {
   "cell_type": "code",
   "execution_count": 1,
   "metadata": {},
   "outputs": [],
   "source": [
    "import pandas as pd\n",
    "import numpy as np\n",
    "import scipy.stats as sp\n",
    "import pywt"
   ]
  },
  {
   "cell_type": "markdown",
   "metadata": {},
   "source": [
    "## 데이터 크기 정의하기"
   ]
  },
  {
   "cell_type": "code",
   "execution_count": 2,
   "metadata": {},
   "outputs": [
    {
     "data": {
      "text/plain": [
       "(180, 3, 10)"
      ]
     },
     "execution_count": 2,
     "metadata": {},
     "output_type": "execute_result"
    }
   ],
   "source": [
    "NoOfData    = 180  # 정상/고장 데이터 각 180개씩 \n",
    "NoOfSensor  = 3    # 가속도(Acceleration), 전압(Voltage), 전류(Current)\n",
    "NoOfFeature = 10   # 특징 개수:10개 (순서: Max, Min, Mean, RMS, Variance, Skewness, Kurtosis, Crest factor, Impulse factor, Shape factor)\n",
    "\n",
    "NoOfData, NoOfSensor, NoOfFeature"
   ]
  },
  {
   "cell_type": "markdown",
   "metadata": {},
   "source": [
    "## Time Domain 특징값 추출 (10 features * 3 sensors = 30개씩)"
   ]
  },
  {
   "cell_type": "code",
   "execution_count": 3,
   "metadata": {},
   "outputs": [],
   "source": [
    "def rms(x): # RMS 함수 정의\n",
    "    return np.sqrt(np.mean(x**2))"
   ]
  },
  {
   "cell_type": "code",
   "execution_count": 4,
   "metadata": {},
   "outputs": [
    {
     "name": "stdout",
     "output_type": "stream",
     "text": [
      "(30, 180)\n",
      "(30, 180)\n"
     ]
    }
   ],
   "source": [
    "# 특징데이터 크기 지정\n",
    "TimeFeature_Normal   = np.zeros((NoOfSensor*NoOfFeature , NoOfData))\n",
    "TimeFeature_Abnormal = np.zeros((NoOfSensor*NoOfFeature , NoOfData))\n",
    "\n",
    "for i in range(NoOfData):\n",
    "    \n",
    "    # 데이터 불러오기\n",
    "    temp_path1 = './SpotWeldingData/Normal_%d'%(i+1)   # Normal 데이터 파일 경로\n",
    "    temp_path2 = './SpotWeldingData/Abnormal_%d'%(i+1) # Abnormal 데이터 파일 경로\n",
    "    temp_data1 = pd.read_csv(temp_path1 , sep=',' , header=None).iloc[:,1:] # 임시 Normal 데이터\n",
    "    temp_data2 = pd.read_csv(temp_path2 , sep=',' , header=None).iloc[:,1:] # 임시 Abnormal 데이터\n",
    "    \n",
    "    # Time Domain 특징값 추출\n",
    "    for j in range(NoOfSensor):\n",
    "        \n",
    "        # Normal Time Domain Feature\n",
    "        TimeFeature_Normal[10*j+0, i] = np.max(temp_data1.iloc[:,j])\n",
    "        TimeFeature_Normal[10*j+1, i] = np.min(temp_data1.iloc[:,j])\n",
    "        TimeFeature_Normal[10*j+2, i] = np.mean(temp_data1.iloc[:,j])\n",
    "        TimeFeature_Normal[10*j+3, i] = rms(temp_data1.iloc[:,j])\n",
    "        TimeFeature_Normal[10*j+4, i] = np.var(temp_data1.iloc[:,j])\n",
    "        TimeFeature_Normal[10*j+5, i] = sp.skew(temp_data1.iloc[:,j])\n",
    "        TimeFeature_Normal[10*j+6, i] = sp.kurtosis(temp_data1.iloc[:,j])\n",
    "        TimeFeature_Normal[10*j+7, i] = np.max(temp_data1.iloc[:,j])/rms(temp_data1.iloc[:,j])\n",
    "        TimeFeature_Normal[10*j+8, i] = np.max(temp_data1.iloc[:,j])/np.mean(temp_data1.iloc[:,j])\n",
    "        TimeFeature_Normal[10*j+9, i] = rms(temp_data1.iloc[:,j])/np.mean(temp_data1.iloc[:,j])\n",
    "        \n",
    "        # Abnormal Time Domain Feature\n",
    "        TimeFeature_Abnormal[10*j+0, i] = np.max(temp_data2.iloc[:,j])\n",
    "        TimeFeature_Abnormal[10*j+1, i] = np.min(temp_data2.iloc[:,j])\n",
    "        TimeFeature_Abnormal[10*j+2, i] = np.mean(temp_data2.iloc[:,j])\n",
    "        TimeFeature_Abnormal[10*j+3, i] = rms(temp_data2.iloc[:,j])\n",
    "        TimeFeature_Abnormal[10*j+4, i] = np.var(temp_data2.iloc[:,j])\n",
    "        TimeFeature_Abnormal[10*j+5, i] = sp.skew(temp_data2.iloc[:,j])\n",
    "        TimeFeature_Abnormal[10*j+6, i] = sp.kurtosis(temp_data2.iloc[:,j])\n",
    "        TimeFeature_Abnormal[10*j+7, i] = np.max(temp_data2.iloc[:,j])/rms(temp_data2.iloc[:,j])\n",
    "        TimeFeature_Abnormal[10*j+8, i] = np.max(temp_data2.iloc[:,j])/np.mean(temp_data2.iloc[:,j])\n",
    "        TimeFeature_Abnormal[10*j+9, i] = rms(temp_data2.iloc[:,j])/np.mean(temp_data2.iloc[:,j])\n",
    "        \n",
    "print(TimeFeature_Normal.shape)\n",
    "print(TimeFeature_Abnormal.shape)"
   ]
  },
  {
   "cell_type": "markdown",
   "metadata": {},
   "source": [
    "Normal, Abnormal 데이터 합치기  "
   ]
  },
  {
   "cell_type": "code",
   "execution_count": 5,
   "metadata": {},
   "outputs": [
    {
     "data": {
      "text/plain": [
       "(30, 360)"
      ]
     },
     "execution_count": 5,
     "metadata": {},
     "output_type": "execute_result"
    }
   ],
   "source": [
    "TimeFeature = np.concatenate([TimeFeature_Normal, TimeFeature_Abnormal] , axis=1)\n",
    "TimeFeature.shape"
   ]
  },
  {
   "cell_type": "markdown",
   "metadata": {},
   "source": [
    ".\n",
    "\n",
    ".\n",
    "\n",
    ".\n",
    "\n"
   ]
  },
  {
   "cell_type": "markdown",
   "metadata": {},
   "source": [
    "## Frequency Domain 특징값 추출 (10 features \\* 8 wavelet levels * 3 sensors = 240개씩)"
   ]
  },
  {
   "cell_type": "code",
   "execution_count": 9,
   "metadata": {},
   "outputs": [],
   "source": [
    "# Wavelet options\n",
    "\n",
    "MotherWavelet = pywt.Wavelet('haar')   # Mother wavelet (모함수) 지정\n",
    "Level   = 8                            # Wavelet 분해 레벨 지정\n",
    "select  = 8                            # 특징추출 영역 고주파 영역부터 개수 지정 (d1~)"
   ]
  },
  {
   "cell_type": "code",
   "execution_count": 10,
   "metadata": {},
   "outputs": [
    {
     "name": "stdout",
     "output_type": "stream",
     "text": [
      "(240, 180)\n",
      "(240, 180)\n"
     ]
    }
   ],
   "source": [
    "#Frequency Domain 특징값 추출 (Wavelet Transform 기반)\n",
    "FreqFeature_Normal   = np.zeros(shape=(NoOfSensor*NoOfFeature*select , NoOfData))\n",
    "FreqFeature_Abnormal = np.zeros(shape=(NoOfSensor*NoOfFeature*select , NoOfData))\n",
    "\n",
    "for i in range(NoOfData):\n",
    "    \n",
    "    # 데이터 불러오기\n",
    "    temp_path1 = './SpotWeldingData/Normal_%d'%(i+1)   # Normal 데이터 파일 경로\n",
    "    temp_path2 = './SpotWeldingData/Abnormal_%d'%(i+1) # Abnormal 데이터 파일 경로\n",
    "    temp_data1 = np.array(pd.read_csv(temp_path1 , sep=',', header=None).iloc[:,1:]) # 임시 Normal 데이터\n",
    "    temp_data2 = np.array(pd.read_csv(temp_path2 , sep=',', header=None).iloc[:,1:]) # 임시 Abnormal 데이터\n",
    "    Coef1      = pywt.wavedec(temp_data1, MotherWavelet, level=Level, axis=0)\n",
    "    Coef2      = pywt.wavedec(temp_data2, MotherWavelet, level=Level, axis=0)\n",
    "    \n",
    "    # Frequency Domain 특징값 추출\n",
    "    for j in range(NoOfSensor):\n",
    "        \n",
    "        for k in np.arange(select):\n",
    "            coef1 = Coef1[Level-k]\n",
    "            coef2 = Coef2[Level-k]\n",
    "            \n",
    "            # Normal Frequency Domain Feature\n",
    "            FreqFeature_Normal[NoOfFeature*j*select+k*NoOfFeature+0 , i] = np.max(coef1[:,j])\n",
    "            FreqFeature_Normal[NoOfFeature*j*select+k*NoOfFeature+1 , i] = np.min(coef1[:,j])\n",
    "            FreqFeature_Normal[NoOfFeature*j*select+k*NoOfFeature+2 , i] = np.mean(coef1[:,j])\n",
    "            FreqFeature_Normal[NoOfFeature*j*select+k*NoOfFeature+3 , i] = rms(coef1[:,j])\n",
    "            FreqFeature_Normal[NoOfFeature*j*select+k*NoOfFeature+4 , i] = np.var(coef1[:,j])\n",
    "            FreqFeature_Normal[NoOfFeature*j*select+k*NoOfFeature+5 , i] = sp.skew(coef1[:,j])\n",
    "            FreqFeature_Normal[NoOfFeature*j*select+k*NoOfFeature+6 , i] = sp.kurtosis(coef1[:,j])\n",
    "            FreqFeature_Normal[NoOfFeature*j*select+k*NoOfFeature+7 , i] = np.max(coef1[:,j])/rms(coef1[:,j])\n",
    "            FreqFeature_Normal[NoOfFeature*j*select+k*NoOfFeature+8 , i] = np.max(coef1[:,j])/np.mean(coef1[:,j])\n",
    "            FreqFeature_Normal[NoOfFeature*j*select+k*NoOfFeature+9 , i] = rms(coef1[:,j])/np.mean(coef1[:,j])\n",
    "            \n",
    "            # Abnormal Frequency Domain Feature\n",
    "            FreqFeature_Abnormal[NoOfFeature*j*select+k*NoOfFeature+0 , i] = np.max(coef2[:,j])\n",
    "            FreqFeature_Abnormal[NoOfFeature*j*select+k*NoOfFeature+1 , i] = np.min(coef2[:,j])\n",
    "            FreqFeature_Abnormal[NoOfFeature*j*select+k*NoOfFeature+2 , i] = np.mean(coef2[:,j])\n",
    "            FreqFeature_Abnormal[NoOfFeature*j*select+k*NoOfFeature+3 , i] = rms(coef2[:,j])\n",
    "            FreqFeature_Abnormal[NoOfFeature*j*select+k*NoOfFeature+4 , i] = np.var(coef2[:,j])\n",
    "            FreqFeature_Abnormal[NoOfFeature*j*select+k*NoOfFeature+5 , i] = sp.skew(coef2[:,j])\n",
    "            FreqFeature_Abnormal[NoOfFeature*j*select+k*NoOfFeature+6 , i] = sp.kurtosis(coef2[:,j])\n",
    "            FreqFeature_Abnormal[NoOfFeature*j*select+k*NoOfFeature+7 , i] = np.max(coef2[:,j])/rms(coef2[:,j])\n",
    "            FreqFeature_Abnormal[NoOfFeature*j*select+k*NoOfFeature+8 , i] = np.max(coef2[:,j])/np.mean(coef2[:,j])\n",
    "            FreqFeature_Abnormal[NoOfFeature*j*select+k*NoOfFeature+9 , i] = rms(coef2[:,j])/np.mean(coef2[:,j])\n",
    "\n",
    "print(FreqFeature_Normal.shape)\n",
    "print(FreqFeature_Abnormal.shape)"
   ]
  },
  {
   "cell_type": "markdown",
   "metadata": {},
   "source": [
    "Normal, Abnormal 특징값 합치기      "
   ]
  },
  {
   "cell_type": "code",
   "execution_count": 11,
   "metadata": {},
   "outputs": [
    {
     "data": {
      "text/plain": [
       "(240, 360)"
      ]
     },
     "execution_count": 11,
     "metadata": {},
     "output_type": "execute_result"
    }
   ],
   "source": [
    "FreqFeature = np.concatenate([FreqFeature_Normal, FreqFeature_Abnormal] , axis=1)\n",
    "FreqFeature.shape"
   ]
  },
  {
   "cell_type": "markdown",
   "metadata": {},
   "source": [
    ".\n",
    "\n",
    ".\n",
    "\n",
    ".\n",
    "\n"
   ]
  },
  {
   "cell_type": "markdown",
   "metadata": {},
   "source": [
    "## Feature 통합 (Time domain 30개 + Freq. domain 240 = 270개)"
   ]
  },
  {
   "cell_type": "code",
   "execution_count": 12,
   "metadata": {},
   "outputs": [
    {
     "name": "stdout",
     "output_type": "stream",
     "text": [
      "Feature Data Size : (270, 360)\n",
      "= 데이터 360개(정상/고장 각 180개씩)가 각각 270개의 특징값으로 구성됨\n"
     ]
    }
   ],
   "source": [
    "Features = np.concatenate([TimeFeature,FreqFeature] , axis=0)\n",
    "\n",
    "print(\"Feature Data Size :\", Features.shape)\n",
    "print(\"= 데이터 %d개(정상/고장 각 %d개씩)가 각각 %d개의 특징값으로 구성됨\"%(Features.shape[1], Features.shape[1]/2, Features.shape[0]))"
   ]
  },
  {
   "cell_type": "markdown",
   "metadata": {},
   "source": [
    "저장에 용이한 Data frame 형식으로 변환"
   ]
  },
  {
   "cell_type": "code",
   "execution_count": 13,
   "metadata": {},
   "outputs": [
    {
     "data": {
      "text/html": [
       "<div>\n",
       "<style scoped>\n",
       "    .dataframe tbody tr th:only-of-type {\n",
       "        vertical-align: middle;\n",
       "    }\n",
       "\n",
       "    .dataframe tbody tr th {\n",
       "        vertical-align: top;\n",
       "    }\n",
       "\n",
       "    .dataframe thead th {\n",
       "        text-align: right;\n",
       "    }\n",
       "</style>\n",
       "<table border=\"1\" class=\"dataframe\">\n",
       "  <thead>\n",
       "    <tr style=\"text-align: right;\">\n",
       "      <th></th>\n",
       "      <th>0</th>\n",
       "      <th>1</th>\n",
       "      <th>2</th>\n",
       "      <th>3</th>\n",
       "      <th>4</th>\n",
       "      <th>5</th>\n",
       "      <th>6</th>\n",
       "      <th>7</th>\n",
       "      <th>8</th>\n",
       "      <th>9</th>\n",
       "      <th>...</th>\n",
       "      <th>350</th>\n",
       "      <th>351</th>\n",
       "      <th>352</th>\n",
       "      <th>353</th>\n",
       "      <th>354</th>\n",
       "      <th>355</th>\n",
       "      <th>356</th>\n",
       "      <th>357</th>\n",
       "      <th>358</th>\n",
       "      <th>359</th>\n",
       "    </tr>\n",
       "  </thead>\n",
       "  <tbody>\n",
       "    <tr>\n",
       "      <th>0</th>\n",
       "      <td>1.351000</td>\n",
       "      <td>31.661000</td>\n",
       "      <td>31.832000</td>\n",
       "      <td>1.418300</td>\n",
       "      <td>1.053400</td>\n",
       "      <td>30.628000</td>\n",
       "      <td>0.992040</td>\n",
       "      <td>0.992420</td>\n",
       "      <td>1.059700</td>\n",
       "      <td>1.170800</td>\n",
       "      <td>...</td>\n",
       "      <td>0.931090</td>\n",
       "      <td>0.732910</td>\n",
       "      <td>1.016000</td>\n",
       "      <td>0.717950</td>\n",
       "      <td>0.853310</td>\n",
       "      <td>0.747490</td>\n",
       "      <td>0.718320</td>\n",
       "      <td>0.845460</td>\n",
       "      <td>0.848450</td>\n",
       "      <td>0.758330</td>\n",
       "    </tr>\n",
       "    <tr>\n",
       "      <th>1</th>\n",
       "      <td>-1.372000</td>\n",
       "      <td>-22.786000</td>\n",
       "      <td>-23.613000</td>\n",
       "      <td>-1.085600</td>\n",
       "      <td>-1.057500</td>\n",
       "      <td>-19.468000</td>\n",
       "      <td>-1.319600</td>\n",
       "      <td>-1.056400</td>\n",
       "      <td>-2.041700</td>\n",
       "      <td>-1.343200</td>\n",
       "      <td>...</td>\n",
       "      <td>-1.564900</td>\n",
       "      <td>-0.730310</td>\n",
       "      <td>-1.387000</td>\n",
       "      <td>-0.796880</td>\n",
       "      <td>-0.860070</td>\n",
       "      <td>-0.782290</td>\n",
       "      <td>-0.513800</td>\n",
       "      <td>-0.656270</td>\n",
       "      <td>-0.747890</td>\n",
       "      <td>-0.914290</td>\n",
       "    </tr>\n",
       "    <tr>\n",
       "      <th>2</th>\n",
       "      <td>0.011083</td>\n",
       "      <td>0.023339</td>\n",
       "      <td>0.020506</td>\n",
       "      <td>0.027215</td>\n",
       "      <td>0.016574</td>\n",
       "      <td>0.018563</td>\n",
       "      <td>0.020904</td>\n",
       "      <td>0.024480</td>\n",
       "      <td>0.029605</td>\n",
       "      <td>0.028426</td>\n",
       "      <td>...</td>\n",
       "      <td>0.029894</td>\n",
       "      <td>0.027896</td>\n",
       "      <td>0.032512</td>\n",
       "      <td>0.036554</td>\n",
       "      <td>0.031676</td>\n",
       "      <td>0.037731</td>\n",
       "      <td>0.036942</td>\n",
       "      <td>0.035927</td>\n",
       "      <td>0.035836</td>\n",
       "      <td>0.036279</td>\n",
       "    </tr>\n",
       "    <tr>\n",
       "      <th>3</th>\n",
       "      <td>0.426105</td>\n",
       "      <td>2.312749</td>\n",
       "      <td>2.313820</td>\n",
       "      <td>0.396240</td>\n",
       "      <td>0.388252</td>\n",
       "      <td>2.088591</td>\n",
       "      <td>0.403801</td>\n",
       "      <td>0.404898</td>\n",
       "      <td>0.381526</td>\n",
       "      <td>0.412919</td>\n",
       "      <td>...</td>\n",
       "      <td>0.339540</td>\n",
       "      <td>0.317581</td>\n",
       "      <td>0.335417</td>\n",
       "      <td>0.328550</td>\n",
       "      <td>0.336647</td>\n",
       "      <td>0.338766</td>\n",
       "      <td>0.265980</td>\n",
       "      <td>0.321351</td>\n",
       "      <td>0.323284</td>\n",
       "      <td>0.302785</td>\n",
       "    </tr>\n",
       "    <tr>\n",
       "      <th>4</th>\n",
       "      <td>0.181443</td>\n",
       "      <td>5.348262</td>\n",
       "      <td>5.353342</td>\n",
       "      <td>0.156266</td>\n",
       "      <td>0.150465</td>\n",
       "      <td>4.361866</td>\n",
       "      <td>0.162618</td>\n",
       "      <td>0.163343</td>\n",
       "      <td>0.144686</td>\n",
       "      <td>0.169694</td>\n",
       "      <td>...</td>\n",
       "      <td>0.114394</td>\n",
       "      <td>0.100079</td>\n",
       "      <td>0.111448</td>\n",
       "      <td>0.106609</td>\n",
       "      <td>0.112328</td>\n",
       "      <td>0.113339</td>\n",
       "      <td>0.069381</td>\n",
       "      <td>0.101976</td>\n",
       "      <td>0.103229</td>\n",
       "      <td>0.090362</td>\n",
       "    </tr>\n",
       "    <tr>\n",
       "      <th>...</th>\n",
       "      <td>...</td>\n",
       "      <td>...</td>\n",
       "      <td>...</td>\n",
       "      <td>...</td>\n",
       "      <td>...</td>\n",
       "      <td>...</td>\n",
       "      <td>...</td>\n",
       "      <td>...</td>\n",
       "      <td>...</td>\n",
       "      <td>...</td>\n",
       "      <td>...</td>\n",
       "      <td>...</td>\n",
       "      <td>...</td>\n",
       "      <td>...</td>\n",
       "      <td>...</td>\n",
       "      <td>...</td>\n",
       "      <td>...</td>\n",
       "      <td>...</td>\n",
       "      <td>...</td>\n",
       "      <td>...</td>\n",
       "      <td>...</td>\n",
       "    </tr>\n",
       "    <tr>\n",
       "      <th>265</th>\n",
       "      <td>-0.069441</td>\n",
       "      <td>-0.095775</td>\n",
       "      <td>-0.094919</td>\n",
       "      <td>-0.098230</td>\n",
       "      <td>-0.091625</td>\n",
       "      <td>-0.100346</td>\n",
       "      <td>-0.101488</td>\n",
       "      <td>-0.105314</td>\n",
       "      <td>-0.111518</td>\n",
       "      <td>-0.094917</td>\n",
       "      <td>...</td>\n",
       "      <td>-0.074033</td>\n",
       "      <td>-0.110826</td>\n",
       "      <td>-0.094207</td>\n",
       "      <td>-0.112633</td>\n",
       "      <td>-0.086361</td>\n",
       "      <td>-0.115580</td>\n",
       "      <td>-0.106127</td>\n",
       "      <td>-0.117642</td>\n",
       "      <td>-0.080779</td>\n",
       "      <td>-0.074024</td>\n",
       "    </tr>\n",
       "    <tr>\n",
       "      <th>266</th>\n",
       "      <td>-1.500603</td>\n",
       "      <td>-1.513689</td>\n",
       "      <td>-1.520788</td>\n",
       "      <td>-1.502072</td>\n",
       "      <td>-1.514240</td>\n",
       "      <td>-1.522188</td>\n",
       "      <td>-1.515150</td>\n",
       "      <td>-1.520913</td>\n",
       "      <td>-1.511260</td>\n",
       "      <td>-1.516616</td>\n",
       "      <td>...</td>\n",
       "      <td>-1.509721</td>\n",
       "      <td>-1.516912</td>\n",
       "      <td>-1.510511</td>\n",
       "      <td>-1.515570</td>\n",
       "      <td>-1.511200</td>\n",
       "      <td>-1.518307</td>\n",
       "      <td>-1.515108</td>\n",
       "      <td>-1.526302</td>\n",
       "      <td>-1.508744</td>\n",
       "      <td>-1.499973</td>\n",
       "    </tr>\n",
       "    <tr>\n",
       "      <th>267</th>\n",
       "      <td>1.372567</td>\n",
       "      <td>1.390663</td>\n",
       "      <td>1.361458</td>\n",
       "      <td>1.367672</td>\n",
       "      <td>1.364317</td>\n",
       "      <td>1.356064</td>\n",
       "      <td>1.355348</td>\n",
       "      <td>1.343550</td>\n",
       "      <td>1.382847</td>\n",
       "      <td>1.354853</td>\n",
       "      <td>...</td>\n",
       "      <td>1.370056</td>\n",
       "      <td>1.353368</td>\n",
       "      <td>1.383478</td>\n",
       "      <td>1.355935</td>\n",
       "      <td>1.367196</td>\n",
       "      <td>1.364669</td>\n",
       "      <td>1.350503</td>\n",
       "      <td>1.316537</td>\n",
       "      <td>1.375664</td>\n",
       "      <td>1.388699</td>\n",
       "    </tr>\n",
       "    <tr>\n",
       "      <th>268</th>\n",
       "      <td>20.459834</td>\n",
       "      <td>17.425173</td>\n",
       "      <td>19.383177</td>\n",
       "      <td>21.343799</td>\n",
       "      <td>24.413509</td>\n",
       "      <td>27.462784</td>\n",
       "      <td>26.525343</td>\n",
       "      <td>33.534883</td>\n",
       "      <td>19.818044</td>\n",
       "      <td>26.012992</td>\n",
       "      <td>...</td>\n",
       "      <td>28.431916</td>\n",
       "      <td>41.051191</td>\n",
       "      <td>23.262035</td>\n",
       "      <td>41.866692</td>\n",
       "      <td>33.111548</td>\n",
       "      <td>35.342983</td>\n",
       "      <td>37.087866</td>\n",
       "      <td>46.118610</td>\n",
       "      <td>22.520906</td>\n",
       "      <td>23.623453</td>\n",
       "    </tr>\n",
       "    <tr>\n",
       "      <th>269</th>\n",
       "      <td>14.906255</td>\n",
       "      <td>12.530115</td>\n",
       "      <td>14.237071</td>\n",
       "      <td>15.605930</td>\n",
       "      <td>17.894307</td>\n",
       "      <td>20.251831</td>\n",
       "      <td>19.570869</td>\n",
       "      <td>24.959900</td>\n",
       "      <td>14.331337</td>\n",
       "      <td>19.199867</td>\n",
       "      <td>...</td>\n",
       "      <td>20.752380</td>\n",
       "      <td>30.332611</td>\n",
       "      <td>16.814173</td>\n",
       "      <td>30.876628</td>\n",
       "      <td>24.218578</td>\n",
       "      <td>25.898582</td>\n",
       "      <td>27.462255</td>\n",
       "      <td>35.030230</td>\n",
       "      <td>16.370933</td>\n",
       "      <td>17.011210</td>\n",
       "    </tr>\n",
       "  </tbody>\n",
       "</table>\n",
       "<p>270 rows × 360 columns</p>\n",
       "</div>"
      ],
      "text/plain": [
       "           0          1          2          3          4          5    \\\n",
       "0     1.351000  31.661000  31.832000   1.418300   1.053400  30.628000   \n",
       "1    -1.372000 -22.786000 -23.613000  -1.085600  -1.057500 -19.468000   \n",
       "2     0.011083   0.023339   0.020506   0.027215   0.016574   0.018563   \n",
       "3     0.426105   2.312749   2.313820   0.396240   0.388252   2.088591   \n",
       "4     0.181443   5.348262   5.353342   0.156266   0.150465   4.361866   \n",
       "..         ...        ...        ...        ...        ...        ...   \n",
       "265  -0.069441  -0.095775  -0.094919  -0.098230  -0.091625  -0.100346   \n",
       "266  -1.500603  -1.513689  -1.520788  -1.502072  -1.514240  -1.522188   \n",
       "267   1.372567   1.390663   1.361458   1.367672   1.364317   1.356064   \n",
       "268  20.459834  17.425173  19.383177  21.343799  24.413509  27.462784   \n",
       "269  14.906255  12.530115  14.237071  15.605930  17.894307  20.251831   \n",
       "\n",
       "           6          7          8          9    ...        350        351  \\\n",
       "0     0.992040   0.992420   1.059700   1.170800  ...   0.931090   0.732910   \n",
       "1    -1.319600  -1.056400  -2.041700  -1.343200  ...  -1.564900  -0.730310   \n",
       "2     0.020904   0.024480   0.029605   0.028426  ...   0.029894   0.027896   \n",
       "3     0.403801   0.404898   0.381526   0.412919  ...   0.339540   0.317581   \n",
       "4     0.162618   0.163343   0.144686   0.169694  ...   0.114394   0.100079   \n",
       "..         ...        ...        ...        ...  ...        ...        ...   \n",
       "265  -0.101488  -0.105314  -0.111518  -0.094917  ...  -0.074033  -0.110826   \n",
       "266  -1.515150  -1.520913  -1.511260  -1.516616  ...  -1.509721  -1.516912   \n",
       "267   1.355348   1.343550   1.382847   1.354853  ...   1.370056   1.353368   \n",
       "268  26.525343  33.534883  19.818044  26.012992  ...  28.431916  41.051191   \n",
       "269  19.570869  24.959900  14.331337  19.199867  ...  20.752380  30.332611   \n",
       "\n",
       "           352        353        354        355        356        357  \\\n",
       "0     1.016000   0.717950   0.853310   0.747490   0.718320   0.845460   \n",
       "1    -1.387000  -0.796880  -0.860070  -0.782290  -0.513800  -0.656270   \n",
       "2     0.032512   0.036554   0.031676   0.037731   0.036942   0.035927   \n",
       "3     0.335417   0.328550   0.336647   0.338766   0.265980   0.321351   \n",
       "4     0.111448   0.106609   0.112328   0.113339   0.069381   0.101976   \n",
       "..         ...        ...        ...        ...        ...        ...   \n",
       "265  -0.094207  -0.112633  -0.086361  -0.115580  -0.106127  -0.117642   \n",
       "266  -1.510511  -1.515570  -1.511200  -1.518307  -1.515108  -1.526302   \n",
       "267   1.383478   1.355935   1.367196   1.364669   1.350503   1.316537   \n",
       "268  23.262035  41.866692  33.111548  35.342983  37.087866  46.118610   \n",
       "269  16.814173  30.876628  24.218578  25.898582  27.462255  35.030230   \n",
       "\n",
       "           358        359  \n",
       "0     0.848450   0.758330  \n",
       "1    -0.747890  -0.914290  \n",
       "2     0.035836   0.036279  \n",
       "3     0.323284   0.302785  \n",
       "4     0.103229   0.090362  \n",
       "..         ...        ...  \n",
       "265  -0.080779  -0.074024  \n",
       "266  -1.508744  -1.499973  \n",
       "267   1.375664   1.388699  \n",
       "268  22.520906  23.623453  \n",
       "269  16.370933  17.011210  \n",
       "\n",
       "[270 rows x 360 columns]"
      ]
     },
     "execution_count": 13,
     "metadata": {},
     "output_type": "execute_result"
    }
   ],
   "source": [
    "FeatureData = pd.DataFrame(Features)\n",
    "FeatureData"
   ]
  },
  {
   "cell_type": "markdown",
   "metadata": {},
   "source": [
    "추출된 특징 데이터 저장 (.csv 파일)"
   ]
  },
  {
   "cell_type": "code",
   "execution_count": null,
   "metadata": {},
   "outputs": [],
   "source": [
    "path = './ProcessedData/FeatureData'   # path = '파일 경로/저장할 파일 이름'\n",
    "FeatureData.to_csv(path, sep=',', header=None , index=None)"
   ]
  },
  {
   "cell_type": "code",
   "execution_count": null,
   "metadata": {},
   "outputs": [],
   "source": []
  }
 ],
 "metadata": {
  "kernelspec": {
   "display_name": "Python 3 (ipykernel)",
   "language": "python",
   "name": "python3"
  },
  "language_info": {
   "codemirror_mode": {
    "name": "ipython",
    "version": 3
   },
   "file_extension": ".py",
   "mimetype": "text/x-python",
   "name": "python",
   "nbconvert_exporter": "python",
   "pygments_lexer": "ipython3",
   "version": "3.9.12"
  }
 },
 "nbformat": 4,
 "nbformat_minor": 2
}
