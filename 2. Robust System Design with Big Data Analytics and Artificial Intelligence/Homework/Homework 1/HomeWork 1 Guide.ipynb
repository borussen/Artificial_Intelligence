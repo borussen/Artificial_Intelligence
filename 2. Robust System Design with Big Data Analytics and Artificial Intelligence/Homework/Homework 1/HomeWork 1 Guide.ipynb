{
 "cells": [
  {
   "cell_type": "markdown",
   "metadata": {},
   "source": [
    "### ****** 필독 !! 실습과제 주의사항 ******"
   ]
  },
  {
   "cell_type": "markdown",
   "metadata": {},
   "source": [
    "- 각자의 <span style='color:red'>\"수강생 번호\"</span> 확인 (아이캠퍼스 공지) \n",
    "- 제출하는 실습과제 파일에 \"수강생 번호\"를 기준으로 작성 (이름, 학번 등 작성X)\n",
    "- 각 실습과제에 대한 구체적인 파일 이름은 매번 개별 안내 <br>\n",
    "  (수강생 번호 123번 학생 과제파일 예시 : <span style='color:red'>'ST123_HW1_1'</span>)\n",
    "  \n",
    "- 과제 파일이름 양식 지키지 않을 시 감점!"
   ]
  },
  {
   "cell_type": "markdown",
   "metadata": {},
   "source": [
    "# [세부 과제 1]"
   ]
  },
  {
   "cell_type": "markdown",
   "metadata": {},
   "source": [
    "## ExampleData의 <span style='color:red'>0.01초 이상 0.09초 미만</span>에 대하여 <span style='color:red'>'센서 데이터(시간열 제외)'</span>만 추출하기\n",
    "#### >>>>>> 추출된 데이터를 파일로 저장 후 제출\n",
    "#### >>>>>> 파일 형식은 실습과 동일하게 <span style='color:red'>확장자명 없이</span> 제출 (.csv 확장자로 제출 금지!)\n",
    "#### >>>>>> 데이터 파일 이름 : ST(수강생 번호)_HW1_1  (예시 : 'ST000_HW1_1'  //  'ST00_HW1_1'  //  'ST0_HW1_1')\n",
    "#### >>>>>> 데이터 파일 이름 중 'ST' , 'HW' 등 영어는 모두 대문자"
   ]
  },
  {
   "cell_type": "markdown",
   "metadata": {},
   "source": [
    " "
   ]
  },
  {
   "cell_type": "markdown",
   "metadata": {},
   "source": [
    "# [세부 과제 2]"
   ]
  },
  {
   "cell_type": "markdown",
   "metadata": {},
   "source": [
    "## <span style='color:red'>0.01 간격으로 1이상 10미만 </span>데이터를 1열의 행렬로 생성하기\n",
    "#### >>>>>> 생성된 데이터를 파일로 저장 후 제출\n",
    "#### >>>>>> 파일 형식은 실습과 동일하게 <span style='color:red'>확장자명 없이</span> 제출 (.csv 확장자로 제출 금지!)\n",
    "#### >>>>>> 데이터 파일 이름 : ST(수강생 번호)_HW1_2  (예시 : 'ST000_HW1_2'  //  'ST00_HW1_2'  //  'ST0_HW1_2')\n",
    "#### >>>>>> 데이터 파일 이름 중 'ST' , 'HW' 등 영어는 모두 대문자"
   ]
  },
  {
   "cell_type": "markdown",
   "metadata": {},
   "source": [
    " "
   ]
  },
  {
   "cell_type": "markdown",
   "metadata": {},
   "source": [
    "## ***** 1번, 2번 데이터 파일 함께 zip파일로 압축하여 제출\n",
    "### >>> 압축파일 이름 ST(수강생 번호)_HW1 (예시 : 'ST000_HW1.zip'  //  'ST00_HW1.zip'  //  'ST0_HW1.zip')"
   ]
  },
  {
   "cell_type": "code",
   "execution_count": null,
   "metadata": {},
   "outputs": [],
   "source": []
  }
 ],
 "metadata": {
  "kernelspec": {
   "display_name": "Python 3 (ipykernel)",
   "language": "python",
   "name": "python3"
  },
  "language_info": {
   "codemirror_mode": {
    "name": "ipython",
    "version": 3
   },
   "file_extension": ".py",
   "mimetype": "text/x-python",
   "name": "python",
   "nbconvert_exporter": "python",
   "pygments_lexer": "ipython3",
   "version": "3.9.12"
  }
 },
 "nbformat": 4,
 "nbformat_minor": 4
}
