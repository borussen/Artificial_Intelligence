{
 "cells": [
  {
   "cell_type": "markdown",
   "metadata": {},
   "source": [
    "### ****** 필독 !! 실습과제 주의사항 ******"
   ]
  },
  {
   "cell_type": "markdown",
   "metadata": {},
   "source": [
    "- 각자의 <span style='color:red'>\"수강생 번호\"</span> 확인 (아이캠퍼스 공지) \n",
    "- 제출하는 실습과제 파일에 \"수강생 번호\"를 기준으로 작성 (이름, 학번 등 작성X)\n",
    "- 각 실습과제에 대한 구체적인 파일 이름은 매번 개별 안내 <br>\n",
    "  (수강생 번호 123번 학생 과제파일 예시 : <span style='color:red'>'ST123_HW2_1'</span>)\n",
    "  \n",
    "- 과제 파일이름 양식 지키지 않을 시 감점!"
   ]
  },
  {
   "cell_type": "markdown",
   "metadata": {},
   "source": [
    "# [실습 과제 2]"
   ]
  },
  {
   "cell_type": "markdown",
   "metadata": {},
   "source": [
    "## 1. KNN의 Parameter를 아래와 같이 변경 후 Fold1의 학습 데이터만 이용하여 학습\n",
    "#### >>>>>> KNN의 Parameter 중 <font color=red>n_neighbors는 7</font>, <font color=red>p 는 1</font>, <font color=red>weights는 distance</font>로 변경\n",
    "#### >>>>>> <font color=red>주의!) 다른 Parameter는 수정 X </font>\n",
    "#### >>>>>> Parameter 설정법은 sklearn 공식 홈페이지에서 확인\n",
    "#### >>>>>> 학습된 모델을 저장 후 제출\n",
    "#### >>>>>> 모델 이름 : ST(수강생 번호)_HW2_1.plk  (예시 : 'ST00_HW2_1.plk'  //  'ST0_HW2_1.plk')\n",
    "#### >>>>>> 데이터 파일 이름 중 'ST' , 'HW' 등 영어는 모두 대문자"
   ]
  },
  {
   "cell_type": "code",
   "execution_count": 1,
   "metadata": {},
   "outputs": [],
   "source": [
    "import pandas as pd\n",
    "import numpy as np\n",
    "from sklearn.neighbors import KNeighborsClassifier\n",
    "import joblib"
   ]
  },
  {
   "cell_type": "markdown",
   "metadata": {},
   "source": [
    "## 데이터 불러오기"
   ]
  },
  {
   "cell_type": "code",
   "execution_count": 2,
   "metadata": {},
   "outputs": [
    {
     "name": "stdout",
     "output_type": "stream",
     "text": [
      "(288, 30)\n",
      "(72, 30)\n",
      "(288,)\n",
      "(72,)\n",
      "(360, 30)\n"
     ]
    }
   ],
   "source": [
    "Fold = 5\n",
    "\n",
    "# k-fold 학습/검증 데이터\n",
    "for i in range(Fold):\n",
    "    \n",
    "    path1 = './K_FoldData/Training_Fold%d'%(i+1)\n",
    "    path2 = './K_FoldData/Validation_Fold%d'%(i+1)\n",
    "    c1 = 'Training_Fold%d   = np.array(pd.read_csv(path1, sep=\",\", header=None))'%(i+1)\n",
    "    c2 = 'Validation_Fold%d = np.array(pd.read_csv(path2, sep=\",\", header=None))'%(i+1)\n",
    "    exec(c1)\n",
    "    exec(c2)\n",
    "\n",
    "# K-fold 학습/검증 레이블\n",
    "TrainingFold_Label   = np.array(pd.read_csv('./K_FoldData/TrainingFold_Label'  , sep=\",\", header=None).T.squeeze())\n",
    "ValidationFold_Label = np.array(pd.read_csv('./K_FoldData/ValidationFold_Label', sep=\",\", header=None).T.squeeze())\n",
    "    \n",
    "    \n",
    "# 전체 학습용 데이터\n",
    "Training_All       = np.array(pd.read_csv('./K_FoldData/Training_All', sep = \",\", header = None))\n",
    "Training_All_Label = np.array(pd.read_csv('./K_FoldData/Training_All_Label', sep = \",\", header = None).T.squeeze())\n",
    "\n",
    "print(Training_Fold1.shape)\n",
    "print(Validation_Fold1.shape)\n",
    "print(TrainingFold_Label.shape)\n",
    "print(ValidationFold_Label.shape)\n",
    "print(Training_All.shape)"
   ]
  },
  {
   "cell_type": "markdown",
   "metadata": {},
   "source": [
    "## KNN(K-Nearest-Neighbor) 기반 모델링 및 성능평가"
   ]
  },
  {
   "cell_type": "code",
   "execution_count": 3,
   "metadata": {
    "scrolled": true
   },
   "outputs": [
    {
     "name": "stdout",
     "output_type": "stream",
     "text": [
      "[Performance of KNN model] \n",
      "\n",
      " Fold 1: 94.44% \n",
      " Fold 2: 100.00% \n",
      " Fold 3: 100.00% \n",
      " Fold 4: 100.00% \n",
      " Fold 5: 100.00%\n",
      "\n",
      " Average accuracy: 98.89%\n"
     ]
    }
   ],
   "source": [
    "Add    = 0\n",
    "Divide = 0\n",
    "\n",
    "KNN_Model = KNeighborsClassifier(n_neighbors = 7, p = 1, weights=\"distance\").fit(Training_Fold1, TrainingFold_Label)\n",
    "\n",
    "for i in range(Fold):\n",
    "    c1 = 'Validation_CurrentFold = Validation_Fold%d'%(i+1)\n",
    "    exec(c1)    \n",
    "    \n",
    "    c2 = 'knnscore_Fold%d = KNN_Model.score(Validation_CurrentFold , ValidationFold_Label)'%(i+1)\n",
    "    exec(c2)\n",
    "        \n",
    "    Add += KNN_Model.score(Validation_CurrentFold, ValidationFold_Label)\n",
    "    Divide += 1\n",
    "    \n",
    "Avg_accuracy = Add/Divide\n",
    "\n",
    "print('[Performance of KNN model] \\n')\n",
    "print(' Fold 1: {:.2f}% \\n Fold 2: {:.2f}% \\n Fold 3: {:.2f}% \\n Fold 4: {:.2f}% \\n Fold 5: {:.2f}%'.\n",
    "        format(knnscore_Fold1*100, knnscore_Fold2*100, knnscore_Fold3*100, knnscore_Fold4*100, knnscore_Fold5*100))\n",
    "print('\\n Average accuracy: {:.2f}%'.format(Avg_accuracy*100))"
   ]
  },
  {
   "cell_type": "markdown",
   "metadata": {},
   "source": [
    "## KNN model 모델 저장"
   ]
  },
  {
   "cell_type": "markdown",
   "metadata": {},
   "source": [
    "Pickle 패키지(라이브러리)를 이용한 머신러닝 모델 저장"
   ]
  },
  {
   "cell_type": "code",
   "execution_count": 4,
   "metadata": {},
   "outputs": [
    {
     "data": {
      "text/plain": [
       "['./MLmodels/ST136_HW2_1.plk']"
      ]
     },
     "execution_count": 4,
     "metadata": {},
     "output_type": "execute_result"
    }
   ],
   "source": [
    "joblib.dump(KNN_Model, './MLmodels/ST136_HW2_1.plk')"
   ]
  },
  {
   "cell_type": "markdown",
   "metadata": {},
   "source": [
    " "
   ]
  },
  {
   "cell_type": "markdown",
   "metadata": {},
   "source": [
    "## 2. SVM의 Parameter를 아래와 같이 변경 후 Training_All을 이용하여 학습\n",
    "#### >>>>>> SVM의 Parameter 중 <font color=red>kernel은 rbf</font>, <font color=red>C는 0.1</font>, <font color=red>gamma는 1</font>로 변경\n",
    "#### >>>>>> <font color=red>주의!) 다른 Parameter는 수정 X </font>\n",
    "\n",
    "#### >>>>>> Parameter 설정법은 sklearn 공식 홈페이지에서 확인\n",
    "#### >>>>>> 학습된 모델을 저장 후 제출\n",
    "#### >>>>>> 모델 이름 : ST(수강생 번호)_HW2_2.plk  (예시 : 'ST00_HW2_2.plk'  //  'ST0_HW2_2.plk')\n",
    "#### >>>>>> 데이터 파일 이름 중 'ST' , 'HW' 등 영어는 모두 대문자"
   ]
  },
  {
   "cell_type": "code",
   "execution_count": 5,
   "metadata": {},
   "outputs": [],
   "source": [
    "import pandas as pd\n",
    "import numpy as np\n",
    "from sklearn import svm,metrics\n",
    "import joblib"
   ]
  },
  {
   "cell_type": "markdown",
   "metadata": {},
   "source": [
    "## SVM model 모델 생성(전체 데이터) 및 저장"
   ]
  },
  {
   "cell_type": "markdown",
   "metadata": {},
   "source": [
    "Pickle 패키지(라이브러리)를 이용한 머신러닝 모델 저장"
   ]
  },
  {
   "cell_type": "code",
   "execution_count": 6,
   "metadata": {},
   "outputs": [
    {
     "data": {
      "text/plain": [
       "['./MLmodels/ST136_HW2_2.plk']"
      ]
     },
     "execution_count": 6,
     "metadata": {},
     "output_type": "execute_result"
    }
   ],
   "source": [
    "SVM_model = svm.SVC(kernel='rbf', C=0.1, gamma=1)\n",
    "SVM_model.fit(Training_All, Training_All_Label)\n",
    "\n",
    "joblib.dump(SVM_model, './MLmodels/ST136_HW2_2.plk')"
   ]
  },
  {
   "cell_type": "markdown",
   "metadata": {},
   "source": [
    "## SVM model 불러와서 진단"
   ]
  },
  {
   "cell_type": "markdown",
   "metadata": {},
   "source": [
    "저장된 SVM 모델 불러오기"
   ]
  },
  {
   "cell_type": "code",
   "execution_count": 7,
   "metadata": {},
   "outputs": [],
   "source": [
    "SVM_model_Final = joblib.load('./MLmodels/ST136_HW2_2.plk')"
   ]
  },
  {
   "cell_type": "markdown",
   "metadata": {},
   "source": [
    "Fold별 검증데이터에 대한 진단 정확도 평가 (Fold별 학습데이터만 학습한 모델에 비해 성능향상 확인)"
   ]
  },
  {
   "cell_type": "code",
   "execution_count": 8,
   "metadata": {},
   "outputs": [
    {
     "name": "stdout",
     "output_type": "stream",
     "text": [
      "[Performance of SVM model] \n",
      "\n",
      " Fold 1: 94.44% \n",
      " Fold 2: 98.61% \n",
      " Fold 3: 93.06% \n",
      " Fold 4: 97.22% \n",
      " Fold 5: 93.06%\n",
      "\n",
      " Average accuracy: 95.28%\n"
     ]
    }
   ],
   "source": [
    "Add    = 0\n",
    "Divide = 0\n",
    "\n",
    "for i in range(Fold):\n",
    "    c1 = 'Validation_CurrentFold = Validation_Fold%d'%(i+1)\n",
    "    exec(c1)    \n",
    "    \n",
    "    Predicted = SVM_model_Final.predict(Validation_CurrentFold)\n",
    "    \n",
    "    c2 = 'svmscore_Fold%d = metrics.accuracy_score(ValidationFold_Label , Predicted)'%(i+1)\n",
    "    exec(c2)\n",
    "        \n",
    "    Add += metrics.accuracy_score(ValidationFold_Label , Predicted)\n",
    "    Divide += 1\n",
    "    \n",
    "Avg_accuracy = Add/Divide\n",
    "\n",
    "print('[Performance of SVM model] \\n')\n",
    "print(' Fold 1: {:.2f}% \\n Fold 2: {:.2f}% \\n Fold 3: {:.2f}% \\n Fold 4: {:.2f}% \\n Fold 5: {:.2f}%'.\n",
    "        format(svmscore_Fold1*100, svmscore_Fold2*100, svmscore_Fold3*100, svmscore_Fold4*100, svmscore_Fold5*100))\n",
    "print('\\n Average accuracy: {:.2f}%'.format(Avg_accuracy*100))"
   ]
  },
  {
   "cell_type": "markdown",
   "metadata": {},
   "source": [
    ".\n",
    "\n",
    ".\n",
    "\n",
    "."
   ]
  },
  {
   "cell_type": "markdown",
   "metadata": {},
   "source": [
    "## ***** 두가지의 학습된 모델을 zip파일로 압축하여 제출\n",
    "### >>> 압축파일 이름 ST(수강생 번호)_HW2 (예시 : 'ST000_HW2'  // 'ST00_HW2'  //  'ST0_HW2')"
   ]
  }
 ],
 "metadata": {
  "kernelspec": {
   "display_name": "Python 3 (ipykernel)",
   "language": "python",
   "name": "python3"
  },
  "language_info": {
   "codemirror_mode": {
    "name": "ipython",
    "version": 3
   },
   "file_extension": ".py",
   "mimetype": "text/x-python",
   "name": "python",
   "nbconvert_exporter": "python",
   "pygments_lexer": "ipython3",
   "version": "3.9.12"
  }
 },
 "nbformat": 4,
 "nbformat_minor": 4
}
