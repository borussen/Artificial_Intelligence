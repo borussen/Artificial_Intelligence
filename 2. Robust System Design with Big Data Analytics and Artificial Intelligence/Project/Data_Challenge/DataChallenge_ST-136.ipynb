{
 "cells": [
  {
   "cell_type": "markdown",
   "metadata": {
    "id": "NtZPVPMbSBVT"
   },
   "source": [
    "## 2022년도 도전학기 '빅데이터와 인공지능을 활용한 시스템 강건설계' 데이터 챌린지"
   ]
  },
  {
   "cell_type": "markdown",
   "metadata": {
    "id": "9JLk3yutSBVV"
   },
   "source": [
    "#### - 데이터 챌린지 목표: 빅데이터 핸들링 능력, 데이터 특징 추출 및 선택 능력 평가\n",
    "#### - 제공 데이터 구성 : 정상/고장 각각의 센서데이터 및 기록데이터\n",
    "#### - 총 3단계의 데이터 챌린지를 수행하며, 단계별 결과가 저장된 폴더(Result) 내의 결과물을 1개 압축파일(.zip)로 제출"
   ]
  },
  {
   "cell_type": "markdown",
   "metadata": {
    "id": "VyPWx7JTSBVW"
   },
   "source": [
    ".\n",
    "\n",
    ".\n",
    "\n",
    "."
   ]
  },
  {
   "cell_type": "markdown",
   "metadata": {
    "id": "s3r0NursSBVX"
   },
   "source": [
    "## 라이브러리 import"
   ]
  },
  {
   "cell_type": "code",
   "execution_count": 1,
   "metadata": {
    "executionInfo": {
     "elapsed": 1238,
     "status": "ok",
     "timestamp": 1649470130092,
     "user": {
      "displayName": "공과대학/최영운",
      "userId": "17538933824946727174"
     },
     "user_tz": -540
    },
    "id": "fjOhm7H7SBVX"
   },
   "outputs": [],
   "source": [
    "import pandas as pd\n",
    "import numpy  as np\n",
    "import matplotlib.pyplot as plt\n",
    "\n",
    "import scipy.stats as sp\n",
    "import pywt"
   ]
  },
  {
   "cell_type": "markdown",
   "metadata": {
    "id": "wph1qsOjSBVY"
   },
   "source": [
    "## 센서데이터, 기록데이터 보기"
   ]
  },
  {
   "cell_type": "markdown",
   "metadata": {
    "id": "uT-Mblz0SBVZ"
   },
   "source": [
    "### - 센서데이터 :\n",
    "* 전류 / 전압 / 가속도 3열로 구성(시간열 없음)\n",
    "* 샘플링 주파수: 12800Hz\n",
    "* 데이터 시작 시간: 0초 - (정상/고장 데이터 모두 0행의 시간은 0초)\n",
    "* 정상/고장 각각 120개의 용접 Spot 포함됨\n",
    "* 각 용접 Spot 별 용접 소요 시간 약 0.2167초\n",
    "\n",
    "### - 기록데이터 :\n",
    "* 정상/고장 센서데이터의 Spot 별 용접 시작 시점이 초(second) 단위로 기록됨"
   ]
  },
  {
   "cell_type": "markdown",
   "metadata": {
    "id": "uVZtaFTsSBVZ"
   },
   "source": [
    "### 데이터 살펴보기"
   ]
  },
  {
   "cell_type": "code",
   "execution_count": 2,
   "metadata": {
    "executionInfo": {
     "elapsed": 2587,
     "status": "ok",
     "timestamp": 1649470167916,
     "user": {
      "displayName": "공과대학/최영운",
      "userId": "17538933824946727174"
     },
     "user_tz": -540
    },
    "id": "KrPB-WN1SBVa",
    "scrolled": true
   },
   "outputs": [],
   "source": [
    "# 센서데이터\n",
    "NormalData   = pd.read_csv('./Data/NormalData',   header = None, names = ['Current', 'Voltage', 'Acceleration'])\n",
    "AbnormalData = pd.read_csv('./Data/AbnormalData', header = None, names = ['Current', 'Voltage', 'Acceleration'])\n",
    "\n",
    "# 기록데이터\n",
    "NormalRecord   = pd.read_csv('./Data/NormalRecord',   header = None)\n",
    "AbnormalRecord = pd.read_csv('./Data/AbnormalRecord', header = None)"
   ]
  },
  {
   "cell_type": "code",
   "execution_count": 3,
   "metadata": {
    "colab": {
     "base_uri": "https://localhost:8080/",
     "height": 424
    },
    "executionInfo": {
     "elapsed": 548,
     "status": "ok",
     "timestamp": 1649423470174,
     "user": {
      "displayName": "공과대학/최영운",
      "userId": "17538933824946727174"
     },
     "user_tz": -540
    },
    "id": "BgyIfEvxSBVa",
    "outputId": "25e73b27-3ed1-4aac-940b-63bf2dc5d19f"
   },
   "outputs": [
    {
     "data": {
      "text/html": [
       "<div>\n",
       "<style scoped>\n",
       "    .dataframe tbody tr th:only-of-type {\n",
       "        vertical-align: middle;\n",
       "    }\n",
       "\n",
       "    .dataframe tbody tr th {\n",
       "        vertical-align: top;\n",
       "    }\n",
       "\n",
       "    .dataframe thead th {\n",
       "        text-align: right;\n",
       "    }\n",
       "</style>\n",
       "<table border=\"1\" class=\"dataframe\">\n",
       "  <thead>\n",
       "    <tr style=\"text-align: right;\">\n",
       "      <th></th>\n",
       "      <th>Current</th>\n",
       "      <th>Voltage</th>\n",
       "      <th>Acceleration</th>\n",
       "    </tr>\n",
       "  </thead>\n",
       "  <tbody>\n",
       "    <tr>\n",
       "      <th>0</th>\n",
       "      <td>0.001073</td>\n",
       "      <td>0.009074</td>\n",
       "      <td>-0.075739</td>\n",
       "    </tr>\n",
       "    <tr>\n",
       "      <th>1</th>\n",
       "      <td>0.001174</td>\n",
       "      <td>0.030515</td>\n",
       "      <td>-0.070865</td>\n",
       "    </tr>\n",
       "    <tr>\n",
       "      <th>2</th>\n",
       "      <td>0.001257</td>\n",
       "      <td>0.004781</td>\n",
       "      <td>-0.077989</td>\n",
       "    </tr>\n",
       "    <tr>\n",
       "      <th>3</th>\n",
       "      <td>0.001182</td>\n",
       "      <td>-0.026037</td>\n",
       "      <td>-0.071990</td>\n",
       "    </tr>\n",
       "    <tr>\n",
       "      <th>4</th>\n",
       "      <td>0.001039</td>\n",
       "      <td>-0.020050</td>\n",
       "      <td>-0.068615</td>\n",
       "    </tr>\n",
       "    <tr>\n",
       "      <th>...</th>\n",
       "      <td>...</td>\n",
       "      <td>...</td>\n",
       "      <td>...</td>\n",
       "    </tr>\n",
       "    <tr>\n",
       "      <th>3225721</th>\n",
       "      <td>0.003956</td>\n",
       "      <td>-0.011292</td>\n",
       "      <td>0.044613</td>\n",
       "    </tr>\n",
       "    <tr>\n",
       "      <th>3225722</th>\n",
       "      <td>0.004057</td>\n",
       "      <td>-0.006789</td>\n",
       "      <td>0.031116</td>\n",
       "    </tr>\n",
       "    <tr>\n",
       "      <th>3225723</th>\n",
       "      <td>0.004069</td>\n",
       "      <td>-0.012165</td>\n",
       "      <td>0.029991</td>\n",
       "    </tr>\n",
       "    <tr>\n",
       "      <th>3225724</th>\n",
       "      <td>0.003874</td>\n",
       "      <td>0.010734</td>\n",
       "      <td>0.032990</td>\n",
       "    </tr>\n",
       "    <tr>\n",
       "      <th>3225725</th>\n",
       "      <td>0.003892</td>\n",
       "      <td>-0.001949</td>\n",
       "      <td>-0.002253</td>\n",
       "    </tr>\n",
       "  </tbody>\n",
       "</table>\n",
       "<p>3225726 rows × 3 columns</p>\n",
       "</div>"
      ],
      "text/plain": [
       "          Current   Voltage  Acceleration\n",
       "0        0.001073  0.009074     -0.075739\n",
       "1        0.001174  0.030515     -0.070865\n",
       "2        0.001257  0.004781     -0.077989\n",
       "3        0.001182 -0.026037     -0.071990\n",
       "4        0.001039 -0.020050     -0.068615\n",
       "...           ...       ...           ...\n",
       "3225721  0.003956 -0.011292      0.044613\n",
       "3225722  0.004057 -0.006789      0.031116\n",
       "3225723  0.004069 -0.012165      0.029991\n",
       "3225724  0.003874  0.010734      0.032990\n",
       "3225725  0.003892 -0.001949     -0.002253\n",
       "\n",
       "[3225726 rows x 3 columns]"
      ]
     },
     "execution_count": 3,
     "metadata": {},
     "output_type": "execute_result"
    }
   ],
   "source": [
    "NormalData"
   ]
  },
  {
   "cell_type": "code",
   "execution_count": 4,
   "metadata": {
    "colab": {
     "base_uri": "https://localhost:8080/",
     "height": 592
    },
    "executionInfo": {
     "elapsed": 1273,
     "status": "ok",
     "timestamp": 1649423476147,
     "user": {
      "displayName": "공과대학/최영운",
      "userId": "17538933824946727174"
     },
     "user_tz": -540
    },
    "id": "MuukYn7sSBVb",
    "outputId": "ecaae6fa-f175-4ea0-c6b0-ef0c3854d074"
   },
   "outputs": [
    {
     "data": {
      "image/png": "[encoded data removed]",
      "text/plain": [
       "<Figure size 1080x720 with 3 Axes>"
      ]
     },
     "metadata": {
      "needs_background": "light"
     },
     "output_type": "display_data"
    }
   ],
   "source": [
    "plt.figure(1, figsize=(15,10))\n",
    "\n",
    "# 전류데이터 Plot\n",
    "plt.subplot(3,1,1)\n",
    "plt.plot(NormalData.iloc[:,0], c = 'r', label = NormalData.columns[0])\n",
    "plt.legend(loc = 'upper right', fontsize = 12)\n",
    "plt.title('Normal Data', fontsize = 20)\n",
    "plt.grid()\n",
    "# 전압데이터 Plot\n",
    "plt.subplot(3,1,2)\n",
    "plt.plot(NormalData.iloc[:,1], c = 'g', label = NormalData.columns[1])\n",
    "plt.legend(loc = 'upper right', fontsize = 12)\n",
    "plt.grid()\n",
    "# 가속도데이터 Plot\n",
    "plt.subplot(3,1,3)\n",
    "plt.plot(NormalData.iloc[:,2], c = 'b', label = NormalData.columns[2])\n",
    "plt.legend(loc = 'upper right', fontsize = 12)\n",
    "plt.grid()\n",
    "plt.show()"
   ]
  },
  {
   "cell_type": "code",
   "execution_count": 5,
   "metadata": {
    "colab": {
     "base_uri": "https://localhost:8080/",
     "height": 363
    },
    "executionInfo": {
     "elapsed": 12,
     "status": "ok",
     "timestamp": 1649470170274,
     "user": {
      "displayName": "공과대학/최영운",
      "userId": "17538933824946727174"
     },
     "user_tz": -540
    },
    "id": "OFR-jVwRSBVb",
    "outputId": "6fee922d-9d2c-4d67-9406-6a7987d45a8c",
    "scrolled": false
   },
   "outputs": [
    {
     "data": {
      "text/html": [
       "<div>\n",
       "<style scoped>\n",
       "    .dataframe tbody tr th:only-of-type {\n",
       "        vertical-align: middle;\n",
       "    }\n",
       "\n",
       "    .dataframe tbody tr th {\n",
       "        vertical-align: top;\n",
       "    }\n",
       "\n",
       "    .dataframe thead th {\n",
       "        text-align: right;\n",
       "    }\n",
       "</style>\n",
       "<table border=\"1\" class=\"dataframe\">\n",
       "  <thead>\n",
       "    <tr style=\"text-align: right;\">\n",
       "      <th></th>\n",
       "      <th>0</th>\n",
       "    </tr>\n",
       "  </thead>\n",
       "  <tbody>\n",
       "    <tr>\n",
       "      <th>0</th>\n",
       "      <td>1.093750</td>\n",
       "    </tr>\n",
       "    <tr>\n",
       "      <th>1</th>\n",
       "      <td>3.194375</td>\n",
       "    </tr>\n",
       "    <tr>\n",
       "      <th>2</th>\n",
       "      <td>5.278516</td>\n",
       "    </tr>\n",
       "    <tr>\n",
       "      <th>3</th>\n",
       "      <td>7.346094</td>\n",
       "    </tr>\n",
       "    <tr>\n",
       "      <th>4</th>\n",
       "      <td>9.430312</td>\n",
       "    </tr>\n",
       "    <tr>\n",
       "      <th>...</th>\n",
       "      <td>...</td>\n",
       "    </tr>\n",
       "    <tr>\n",
       "      <th>115</th>\n",
       "      <td>242.484531</td>\n",
       "    </tr>\n",
       "    <tr>\n",
       "      <th>116</th>\n",
       "      <td>244.617422</td>\n",
       "    </tr>\n",
       "    <tr>\n",
       "      <th>117</th>\n",
       "      <td>246.783906</td>\n",
       "    </tr>\n",
       "    <tr>\n",
       "      <th>118</th>\n",
       "      <td>248.900313</td>\n",
       "    </tr>\n",
       "    <tr>\n",
       "      <th>119</th>\n",
       "      <td>251.016641</td>\n",
       "    </tr>\n",
       "  </tbody>\n",
       "</table>\n",
       "<p>120 rows × 1 columns</p>\n",
       "</div>"
      ],
      "text/plain": [
       "              0\n",
       "0      1.093750\n",
       "1      3.194375\n",
       "2      5.278516\n",
       "3      7.346094\n",
       "4      9.430312\n",
       "..          ...\n",
       "115  242.484531\n",
       "116  244.617422\n",
       "117  246.783906\n",
       "118  248.900313\n",
       "119  251.016641\n",
       "\n",
       "[120 rows x 1 columns]"
      ]
     },
     "execution_count": 5,
     "metadata": {},
     "output_type": "execute_result"
    }
   ],
   "source": [
    "NormalRecord"
   ]
  },
  {
   "cell_type": "markdown",
   "metadata": {
    "id": "KyAGklToSBVc"
   },
   "source": [
    ".\n",
    "\n",
    ".\n",
    "\n",
    "."
   ]
  },
  {
   "cell_type": "markdown",
   "metadata": {
    "id": "CzJmA6y4SBVc"
   },
   "source": [
    "# [1단계] 기록데이터 활용 센서데이터 분할(15점)\n",
    "> #### 기록데이터 상 각각의 용접 시작 시점부터 <font color=red>용접 소요 시간</font>만큼(<font color=red>2774행≒0.2167초</font> 간) 해당 센서데이터 Spot별로 분할, 저장\n",
    "> #### 저장 경로 : 이 코드 파일이 위치한 경로의 ' SplitData' 폴더 내부\n",
    "> #### <font color=red>★ 주의: 분할된 센서 데이터는 분할 전과 동일하게 센서 종류 3열로 구성</font>"
   ]
  },
  {
   "cell_type": "markdown",
   "metadata": {
    "id": "htWyoQOQSBVc"
   },
   "source": [
    "## 필수!\n",
    "\n",
    "#### SplitData 폴더 내부 각 데이터 파일명:\n",
    "* 정상(Normal) : Normal_1, Normal_2, Normal_3, ..., Normal_120\n",
    "* 고장(Abnormal) : Abnormal_1, Abnormal_2, Abnormal_3, ..., Abnormal_120"
   ]
  },
  {
   "cell_type": "markdown",
   "metadata": {},
   "source": [
    "#### 데이터 분할을 위한 시간열 만들기"
   ]
  },
  {
   "cell_type": "code",
   "execution_count": 6,
   "metadata": {},
   "outputs": [],
   "source": [
    "# 센서데이터 시간열 만들기 (변수명 수정 x)\n",
    "Fs = 12800 # 샘플링 주파수\n",
    "\n",
    "NormalData_time   = np.arange(0, 3225726 * (1/Fs), 1/Fs)\n",
    "AbnormalData_time = np.arange(0, 3200639 * (1/Fs), 1/Fs)"
   ]
  },
  {
   "cell_type": "markdown",
   "metadata": {},
   "source": [
    "#### Normal 및 Abnormal 데이터 분할"
   ]
  },
  {
   "cell_type": "markdown",
   "metadata": {},
   "source": [
    "! 힌트 : np.round(5) or array.round(5) 활용"
   ]
  },
  {
   "cell_type": "code",
   "execution_count": 7,
   "metadata": {
    "id": "RA9WglGoSBVd"
   },
   "outputs": [],
   "source": [
    "# 시간열 이용하여 분할\n",
    "\n",
    "# 정상 데이터\n",
    "for i in range(NormalRecord.shape[0]):\n",
    "    Start_index = np.where(NormalData_time.round(5) == NormalRecord.iloc[i][0].round(5))\n",
    "    \n",
    "    SplitNormal = NormalData.iloc[Start_index[0][0]:Start_index[0][0]+2774]\n",
    "    path = './SplitData/Normal_%d'%(i+1)\n",
    "    SplitNormal.to_csv(path , sep=',' , header=None , index=None)\n",
    "\n",
    "# 고장 데이터\n",
    "for i in range(AbnormalRecord.shape[0]):\n",
    "    Start_index = np.where(AbnormalData_time.round(5) == AbnormalRecord.iloc[i][0].round(5))\n",
    "    \n",
    "    SplitAbnormal = AbnormalData.iloc[Start_index[0][0]:Start_index[0][0]+2774]\n",
    "    path = './SplitData/Abnormal_%d'%(i+1)\n",
    "    SplitAbnormal.to_csv(path , sep=',' , header=None , index=None)"
   ]
  },
  {
   "cell_type": "markdown",
   "metadata": {
    "id": "j0I5sOq7SBVe"
   },
   "source": [
    "### 1단계 결과물을 제출용 파일로 저장(수강생 번호 외 코드 수정 X)"
   ]
  },
  {
   "cell_type": "code",
   "execution_count": 8,
   "metadata": {
    "id": "oRdOJcMPSBVe"
   },
   "outputs": [],
   "source": [
    "StudentNo = 136   # 수강생 번호 입력\n",
    "\n",
    "NormalResult     = pd.read_csv('./SplitData/Normal_80', header=None)\n",
    "AbnormalResult   = pd.read_csv('./SplitData/Abnormal_60', header=None)\n",
    "temp_Normal_time = pd.DataFrame(NormalData_time)\n",
    "\n",
    "Path1 = './Result/ST%d_DC1_1'%StudentNo\n",
    "Path2 = './Result/ST%d_DC1_2'%StudentNo\n",
    "Path3 = './Result/ST%d_DC1_3'%StudentNo\n",
    "\n",
    "temp_Normal_time.to_csv(Path1, header=None, index=None)\n",
    "NormalResult.to_csv(    Path2, header=None, index=None)\n",
    "AbnormalResult.to_csv(  Path3, header=None, index=None)"
   ]
  },
  {
   "cell_type": "markdown",
   "metadata": {
    "id": "a6em82hhSBVf"
   },
   "source": [
    ".\n",
    "\n",
    ".\n",
    "\n",
    "."
   ]
  },
  {
   "cell_type": "markdown",
   "metadata": {
    "id": "C4aax4TDSBVf"
   },
   "source": [
    "# [2단계] 데이터 특징 추출(10점)\n",
    "\n",
    "> ### 1단계에서 분할한 정상/고장 데이터 모두 불러와서 <font color=red>시간 영역</font>에서만 특징 추출"
   ]
  },
  {
   "cell_type": "markdown",
   "metadata": {
    "id": "mXUYJbMeSBVg"
   },
   "source": [
    "## 필수!\n",
    "* 1단계에서 추출한 데이터에 대하여 각 센서(열) 별로 아래 10개 특징값 순서대로 추출\n",
    "* 특징값 종류 및 순서(실습코드와 동일) : Max, Min, Mean, RMS, Variance, Skewness, Kurtosis, Crest factor, Impulse factor, Shape factor\n",
    "* 추출된 특징데이터(DataFrame) 변수 이름: FeatureData\n",
    "* 행 순서: 전류-Max, 전류-Min, ..., 전압-Max, 전압-Min, ..., 가속도-Max, 가속도-Min, ...\n",
    "* 열 순서: Normal_1, Normal_2, ..., Abnormal_1, Abnormal_2, ..."
   ]
  },
  {
   "cell_type": "code",
   "execution_count": 9,
   "metadata": {
    "executionInfo": {
     "elapsed": 310,
     "status": "ok",
     "timestamp": 1649470320270,
     "user": {
      "displayName": "공과대학/최영운",
      "userId": "17538933824946727174"
     },
     "user_tz": -540
    },
    "id": "jnLw7tILSBVg"
   },
   "outputs": [],
   "source": [
    "NoOfData    = 120   # 정상/고장 데이터 각 120개씩 \n",
    "NoOfSensor  = 3     # 전류(Current), 전압(Voltage), 가속도(Acceleration)\n",
    "NoOfFeature = 10    # 특징 개수:10개 (순서: Max, Min, Mean, RMS, Variance, Skewness, Kurtosis, Crest factor, Impulse factor, Shape factor)"
   ]
  },
  {
   "cell_type": "code",
   "execution_count": 10,
   "metadata": {
    "colab": {
     "base_uri": "https://localhost:8080/"
    },
    "executionInfo": {
     "elapsed": 119743,
     "status": "ok",
     "timestamp": 1649470442535,
     "user": {
      "displayName": "공과대학/최영운",
      "userId": "17538933824946727174"
     },
     "user_tz": -540
    },
    "id": "w1oL4VffSBVh",
    "outputId": "bfc265f5-1154-44f3-8b2a-635099eb169e"
   },
   "outputs": [],
   "source": [
    "def rms(x): # RMS 함수 정의\n",
    "    return np.sqrt(np.mean(x**2))\n",
    "\n",
    "# 특징값 추출\n",
    "\n",
    "# 특징데이터 크기 지정\n",
    "TimeFeature_Normal = np.zeros((NoOfSensor*NoOfFeature , NoOfData))\n",
    "TimeFeature_Abnormal = np.zeros((NoOfSensor*NoOfFeature , NoOfData))\n",
    "\n",
    "for i in range(NoOfData):\n",
    "    \n",
    "    # 데이터 불러오기\n",
    "    temp_path1 = './SplitData/Normal_%d'%(i+1)   # Normal 데이터 파일 경로\n",
    "    temp_path2 = './SplitData/Abnormal_%d'%(i+1) # Abnormal 데이터 파일 경로\n",
    "    temp_data1 = pd.read_csv(temp_path1 , sep=',' , header=None).iloc[:,0:] # 임시 Normal 데이터\n",
    "    temp_data2 = pd.read_csv(temp_path2 , sep=',' , header=None).iloc[:,0:] # 임시 Abnormal 데이터\n",
    "    \n",
    "    \n",
    "    # Time Domain 특징값 추출\n",
    "    for j in range(NoOfSensor):\n",
    "        \n",
    "        # Normal Time Domain Feature\n",
    "        TimeFeature_Normal[10*j+0, i] = np.max(temp_data1.iloc[:,j])\n",
    "        TimeFeature_Normal[10*j+1, i] = np.min(temp_data1.iloc[:,j])\n",
    "        TimeFeature_Normal[10*j+2, i] = np.mean(temp_data1.iloc[:,j])\n",
    "        TimeFeature_Normal[10*j+3, i] = rms(temp_data1.iloc[:,j])\n",
    "        TimeFeature_Normal[10*j+4, i] = np.var(temp_data1.iloc[:,j])\n",
    "        TimeFeature_Normal[10*j+5, i] = sp.skew(temp_data1.iloc[:,j])\n",
    "        TimeFeature_Normal[10*j+6, i] = sp.kurtosis(temp_data1.iloc[:,j])\n",
    "        TimeFeature_Normal[10*j+7, i] = np.max(temp_data1.iloc[:,j])/rms(temp_data1.iloc[:,j])\n",
    "        TimeFeature_Normal[10*j+8, i] = np.max(temp_data1.iloc[:,j])/np.mean(temp_data1.iloc[:,j])\n",
    "        TimeFeature_Normal[10*j+9, i] = rms(temp_data1.iloc[:,j])/np.mean(temp_data1.iloc[:,j])\n",
    "            \n",
    "        # Abnormal Time Domain Feature\n",
    "        TimeFeature_Abnormal[10*j+0, i] = np.max(temp_data2.iloc[:,j])\n",
    "        TimeFeature_Abnormal[10*j+1, i] = np.min(temp_data2.iloc[:,j])\n",
    "        TimeFeature_Abnormal[10*j+2, i] = np.mean(temp_data2.iloc[:,j])\n",
    "        TimeFeature_Abnormal[10*j+3, i] = rms(temp_data2.iloc[:,j])\n",
    "        TimeFeature_Abnormal[10*j+4, i] = np.var(temp_data2.iloc[:,j])\n",
    "        TimeFeature_Abnormal[10*j+5, i] = sp.skew(temp_data2.iloc[:,j])\n",
    "        TimeFeature_Abnormal[10*j+6, i] = sp.kurtosis(temp_data2.iloc[:,j])\n",
    "        TimeFeature_Abnormal[10*j+7, i] = np.max(temp_data2.iloc[:,j])/rms(temp_data2.iloc[:,j])\n",
    "        TimeFeature_Abnormal[10*j+8, i] = np.max(temp_data2.iloc[:,j])/np.mean(temp_data2.iloc[:,j])\n",
    "        TimeFeature_Abnormal[10*j+9, i] = rms(temp_data2.iloc[:,j])/np.mean(temp_data2.iloc[:,j])"
   ]
  },
  {
   "cell_type": "code",
   "execution_count": 11,
   "metadata": {},
   "outputs": [],
   "source": [
    "# 시간영역 특징 합치기(가로 방향)\n",
    "TimeFeature = np.concatenate([TimeFeature_Normal, TimeFeature_Abnormal] , axis=1)\n",
    "FeatureData = pd.DataFrame(TimeFeature)"
   ]
  },
  {
   "cell_type": "markdown",
   "metadata": {
    "id": "V42OE7qHSBVm"
   },
   "source": [
    "### 2단계 결과물 제출용 파일로 저장(수강생 번호 외 코드 수정 X)"
   ]
  },
  {
   "cell_type": "code",
   "execution_count": 12,
   "metadata": {
    "id": "4BB1zbrwSBVn"
   },
   "outputs": [],
   "source": [
    "# StudentNo = 136   # 수강생 번호 입력\n",
    "\n",
    "Path1 = './Result/ST%d_DC2'%StudentNo\n",
    "FeatureData.to_csv(Path1, header=None, index=None)"
   ]
  },
  {
   "cell_type": "markdown",
   "metadata": {
    "id": "sQ8Et9ZjSBVn"
   },
   "source": [
    ".\n",
    "\n",
    ".\n",
    "\n",
    "."
   ]
  },
  {
   "cell_type": "markdown",
   "metadata": {
    "id": "6lX23VqNSBVn"
   },
   "source": [
    "# [3단계] t-Test 기반 주요 특징 선택(10점)"
   ]
  },
  {
   "cell_type": "markdown",
   "metadata": {
    "id": "vdP_7S30SBVn"
   },
   "source": [
    "## 필수!\n",
    "* 정상/고장의 각 특징 별 t-Test 수행, P-value 오름차순 기준 상위 10개 주요 특징 선택하여 저장\n",
    "* 선택된 특징데이터(DataFrame) 변수 이름: FeatureSelected"
   ]
  },
  {
   "cell_type": "markdown",
   "metadata": {
    "id": "bY52fjRHSBVn"
   },
   "source": [
    "#### 특징데이터 분리: 정상, 고장"
   ]
  },
  {
   "cell_type": "code",
   "execution_count": 13,
   "metadata": {
    "colab": {
     "base_uri": "https://localhost:8080/"
    },
    "executionInfo": {
     "elapsed": 531,
     "status": "ok",
     "timestamp": 1649426107769,
     "user": {
      "displayName": "공과대학/최영운",
      "userId": "17538933824946727174"
     },
     "user_tz": -540
    },
    "id": "_xHpjVMsSBVn",
    "outputId": "ac8bf51a-8ba5-46df-bcbd-86d499377842"
   },
   "outputs": [],
   "source": [
    "NoOfData = int(FeatureData.shape[1]/2)\n",
    "Normal_FeatureData   = FeatureData.iloc[:,:NoOfData]\n",
    "Abnormal_FeatureData = FeatureData.iloc[:,NoOfData:]"
   ]
  },
  {
   "cell_type": "markdown",
   "metadata": {
    "id": "_I1BtQkfSBVo"
   },
   "source": [
    "#### t-Test 수행, P-value 기준 정렬"
   ]
  },
  {
   "cell_type": "code",
   "execution_count": 14,
   "metadata": {
    "colab": {
     "base_uri": "https://localhost:8080/",
     "height": 424
    },
    "executionInfo": {
     "elapsed": 570,
     "status": "ok",
     "timestamp": 1649426261981,
     "user": {
      "displayName": "공과대학/최영운",
      "userId": "17538933824946727174"
     },
     "user_tz": -540
    },
    "id": "aTFh6e6uSBVo",
    "outputId": "8d54bae4-9af4-43b2-834d-cbc3eed2b866",
    "scrolled": true
   },
   "outputs": [
    {
     "data": {
      "text/html": [
       "<div>\n",
       "<style scoped>\n",
       "    .dataframe tbody tr th:only-of-type {\n",
       "        vertical-align: middle;\n",
       "    }\n",
       "\n",
       "    .dataframe tbody tr th {\n",
       "        vertical-align: top;\n",
       "    }\n",
       "\n",
       "    .dataframe thead th {\n",
       "        text-align: right;\n",
       "    }\n",
       "</style>\n",
       "<table border=\"1\" class=\"dataframe\">\n",
       "  <thead>\n",
       "    <tr style=\"text-align: right;\">\n",
       "      <th></th>\n",
       "      <th>0</th>\n",
       "      <th>1</th>\n",
       "    </tr>\n",
       "  </thead>\n",
       "  <tbody>\n",
       "    <tr>\n",
       "      <th>14</th>\n",
       "      <td>14.0</td>\n",
       "      <td>1.726412e-106</td>\n",
       "    </tr>\n",
       "    <tr>\n",
       "      <th>13</th>\n",
       "      <td>13.0</td>\n",
       "      <td>4.168146e-106</td>\n",
       "    </tr>\n",
       "    <tr>\n",
       "      <th>22</th>\n",
       "      <td>22.0</td>\n",
       "      <td>2.645262e-66</td>\n",
       "    </tr>\n",
       "    <tr>\n",
       "      <th>15</th>\n",
       "      <td>15.0</td>\n",
       "      <td>4.670393e-26</td>\n",
       "    </tr>\n",
       "    <tr>\n",
       "      <th>6</th>\n",
       "      <td>6.0</td>\n",
       "      <td>5.497632e-21</td>\n",
       "    </tr>\n",
       "    <tr>\n",
       "      <th>29</th>\n",
       "      <td>29.0</td>\n",
       "      <td>3.978677e-19</td>\n",
       "    </tr>\n",
       "    <tr>\n",
       "      <th>11</th>\n",
       "      <td>11.0</td>\n",
       "      <td>6.326357e-19</td>\n",
       "    </tr>\n",
       "    <tr>\n",
       "      <th>17</th>\n",
       "      <td>17.0</td>\n",
       "      <td>1.398986e-18</td>\n",
       "    </tr>\n",
       "    <tr>\n",
       "      <th>23</th>\n",
       "      <td>23.0</td>\n",
       "      <td>1.003415e-16</td>\n",
       "    </tr>\n",
       "    <tr>\n",
       "      <th>9</th>\n",
       "      <td>9.0</td>\n",
       "      <td>1.194194e-13</td>\n",
       "    </tr>\n",
       "    <tr>\n",
       "      <th>8</th>\n",
       "      <td>8.0</td>\n",
       "      <td>1.006173e-12</td>\n",
       "    </tr>\n",
       "    <tr>\n",
       "      <th>28</th>\n",
       "      <td>28.0</td>\n",
       "      <td>2.793545e-12</td>\n",
       "    </tr>\n",
       "    <tr>\n",
       "      <th>2</th>\n",
       "      <td>2.0</td>\n",
       "      <td>3.507042e-12</td>\n",
       "    </tr>\n",
       "    <tr>\n",
       "      <th>21</th>\n",
       "      <td>21.0</td>\n",
       "      <td>5.711338e-12</td>\n",
       "    </tr>\n",
       "    <tr>\n",
       "      <th>24</th>\n",
       "      <td>24.0</td>\n",
       "      <td>6.876115e-12</td>\n",
       "    </tr>\n",
       "    <tr>\n",
       "      <th>20</th>\n",
       "      <td>20.0</td>\n",
       "      <td>6.888253e-12</td>\n",
       "    </tr>\n",
       "    <tr>\n",
       "      <th>1</th>\n",
       "      <td>1.0</td>\n",
       "      <td>3.036623e-11</td>\n",
       "    </tr>\n",
       "    <tr>\n",
       "      <th>26</th>\n",
       "      <td>26.0</td>\n",
       "      <td>3.831296e-11</td>\n",
       "    </tr>\n",
       "    <tr>\n",
       "      <th>4</th>\n",
       "      <td>4.0</td>\n",
       "      <td>8.195100e-11</td>\n",
       "    </tr>\n",
       "    <tr>\n",
       "      <th>3</th>\n",
       "      <td>3.0</td>\n",
       "      <td>8.869466e-11</td>\n",
       "    </tr>\n",
       "    <tr>\n",
       "      <th>16</th>\n",
       "      <td>16.0</td>\n",
       "      <td>9.235987e-11</td>\n",
       "    </tr>\n",
       "    <tr>\n",
       "      <th>27</th>\n",
       "      <td>27.0</td>\n",
       "      <td>9.729771e-11</td>\n",
       "    </tr>\n",
       "    <tr>\n",
       "      <th>19</th>\n",
       "      <td>19.0</td>\n",
       "      <td>1.618412e-09</td>\n",
       "    </tr>\n",
       "    <tr>\n",
       "      <th>7</th>\n",
       "      <td>7.0</td>\n",
       "      <td>4.377655e-07</td>\n",
       "    </tr>\n",
       "    <tr>\n",
       "      <th>10</th>\n",
       "      <td>10.0</td>\n",
       "      <td>1.412293e-06</td>\n",
       "    </tr>\n",
       "    <tr>\n",
       "      <th>12</th>\n",
       "      <td>12.0</td>\n",
       "      <td>2.001390e-05</td>\n",
       "    </tr>\n",
       "    <tr>\n",
       "      <th>5</th>\n",
       "      <td>5.0</td>\n",
       "      <td>2.842876e-05</td>\n",
       "    </tr>\n",
       "    <tr>\n",
       "      <th>0</th>\n",
       "      <td>0.0</td>\n",
       "      <td>4.836995e-04</td>\n",
       "    </tr>\n",
       "    <tr>\n",
       "      <th>25</th>\n",
       "      <td>25.0</td>\n",
       "      <td>1.046969e-02</td>\n",
       "    </tr>\n",
       "    <tr>\n",
       "      <th>18</th>\n",
       "      <td>18.0</td>\n",
       "      <td>1.288265e-02</td>\n",
       "    </tr>\n",
       "  </tbody>\n",
       "</table>\n",
       "</div>"
      ],
      "text/plain": [
       "       0              1\n",
       "14  14.0  1.726412e-106\n",
       "13  13.0  4.168146e-106\n",
       "22  22.0   2.645262e-66\n",
       "15  15.0   4.670393e-26\n",
       "6    6.0   5.497632e-21\n",
       "29  29.0   3.978677e-19\n",
       "11  11.0   6.326357e-19\n",
       "17  17.0   1.398986e-18\n",
       "23  23.0   1.003415e-16\n",
       "9    9.0   1.194194e-13\n",
       "8    8.0   1.006173e-12\n",
       "28  28.0   2.793545e-12\n",
       "2    2.0   3.507042e-12\n",
       "21  21.0   5.711338e-12\n",
       "24  24.0   6.876115e-12\n",
       "20  20.0   6.888253e-12\n",
       "1    1.0   3.036623e-11\n",
       "26  26.0   3.831296e-11\n",
       "4    4.0   8.195100e-11\n",
       "3    3.0   8.869466e-11\n",
       "16  16.0   9.235987e-11\n",
       "27  27.0   9.729771e-11\n",
       "19  19.0   1.618412e-09\n",
       "7    7.0   4.377655e-07\n",
       "10  10.0   1.412293e-06\n",
       "12  12.0   2.001390e-05\n",
       "5    5.0   2.842876e-05\n",
       "0    0.0   4.836995e-04\n",
       "25  25.0   1.046969e-02\n",
       "18  18.0   1.288265e-02"
      ]
     },
     "execution_count": 14,
     "metadata": {},
     "output_type": "execute_result"
    }
   ],
   "source": [
    "NoOfFeature = FeatureData.shape[0] # 추출된 Feature 갯수\n",
    "\n",
    "P_value = np.zeros((NoOfFeature , 2))\n",
    "\n",
    "# 특징값 각각 T-검정 수행\n",
    "for i in np.arange(NoOfFeature):\n",
    "    \n",
    "    T_test       = np.array(sp.ttest_ind(Normal_FeatureData.iloc[i,:] , Abnormal_FeatureData.iloc[i,:]))\n",
    "    P_value[i,0] = i          # Feature Index\n",
    "    P_value[i,1] = T_test[1]  # P값 (P-value)\n",
    "    \n",
    "P_value      = pd.DataFrame(P_value)\n",
    "P_value_Rank = P_value.sort_values([1],ascending=True)  # P-value 기준 오름차순 정렬\n",
    "\n",
    "P_value_Rank"
   ]
  },
  {
   "cell_type": "markdown",
   "metadata": {
    "id": "OOoaAPy-SBVo"
   },
   "source": [
    "#### P-value 기준 특징 선택"
   ]
  },
  {
   "cell_type": "code",
   "execution_count": 15,
   "metadata": {
    "colab": {
     "base_uri": "https://localhost:8080/"
    },
    "executionInfo": {
     "elapsed": 2,
     "status": "ok",
     "timestamp": 1649426262572,
     "user": {
      "displayName": "공과대학/최영운",
      "userId": "17538933824946727174"
     },
     "user_tz": -540
    },
    "id": "0JK7WCr4SBVo",
    "outputId": "baa46c43-1b4b-4c3c-fd0b-1acf04708455"
   },
   "outputs": [],
   "source": [
    "Rank = 10\n",
    "\n",
    "Normal   = np.zeros((Rank,NoOfData))\n",
    "Abnormal = np.zeros((Rank,NoOfData))\n",
    "\n",
    "for i in range(Rank):\n",
    "    \n",
    "    index         = int(P_value_Rank.iloc[i,0])\n",
    "    Normal[i,:]   = Normal_FeatureData.iloc[index,:].values\n",
    "    Abnormal[i,:] = Abnormal_FeatureData.iloc[index,:].values\n",
    "\n",
    "# 정상, 고장 특징값 합치기    \n",
    "FeatureSelected = pd.DataFrame(np.concatenate([Normal, Abnormal] , axis=1))"
   ]
  },
  {
   "cell_type": "markdown",
   "metadata": {
    "id": "NS6x_d2cSBVp"
   },
   "source": [
    "### 3단계 결과물 제출용 파일로 저장(수강생 번호 외 코드 수정 X)"
   ]
  },
  {
   "cell_type": "code",
   "execution_count": 16,
   "metadata": {
    "id": "slLaPJhPSBVp"
   },
   "outputs": [],
   "source": [
    "# StudentNo = 136   # 수강생 번호 입력\n",
    "\n",
    "Path1 = './Result/ST%d_DC3_1'%StudentNo\n",
    "Path2 = './Result/ST%d_DC3_2'%StudentNo\n",
    "\n",
    "FeatureSelected.to_csv(Path1, header=None, index=None)\n",
    "P_value_Rank.to_csv(Path2, header=None, index=None)"
   ]
  },
  {
   "cell_type": "markdown",
   "metadata": {
    "id": "FwYbZEMLSBVp"
   },
   "source": [
    ".\n",
    "\n",
    ".\n",
    "\n",
    "."
   ]
  },
  {
   "cell_type": "markdown",
   "metadata": {},
   "source": [
    "# [최종] 해당 코드 파일을 .py 확장자로 변환\n",
    "\n",
    "### 1. 해당 코드 파일명의 마지막에 본인 수강생 번호로 변경(ex: 수강생 번호 13번일 경우, DataChallenge_ST-13)\n",
    "### 2. 메뉴바에서 File > Download as > Python (.py) 선택하여 .py 확장자로 변환\n",
    "### 3. Download 폴더에서 저장되어 있는 .py 파일을 Result 폴더에 넣기"
   ]
  },
  {
   "cell_type": "markdown",
   "metadata": {
    "id": "dKykRphzSBVr"
   },
   "source": [
    "# ● 결과가 저장된 폴더(Result) 내의 모든 파일을 하나의 zip파일로 제출\n",
    "> #### 압축파일 이름 ST(수강생번호)_DC (예시: 한 자리 수 'ST0_DC', 두 자리 수 'ST00_DC', 세 자리 수 'ST000_DC',)\n",
    "> #### SplitData 폴더는 압축 필요 없음!"
   ]
  }
 ],
 "metadata": {
  "colab": {
   "collapsed_sections": [],
   "name": "DataChallenge_ST-0(Answer).ipynb",
   "provenance": []
  },
  "kernelspec": {
   "display_name": "Python 3 (ipykernel)",
   "language": "python",
   "name": "python3"
  },
  "language_info": {
   "codemirror_mode": {
    "name": "ipython",
    "version": 3
   },
   "file_extension": ".py",
   "mimetype": "text/x-python",
   "name": "python",
   "nbconvert_exporter": "python",
   "pygments_lexer": "ipython3",
   "version": "3.9.12"
  }
 },
 "nbformat": 4,
 "nbformat_minor": 1
}
