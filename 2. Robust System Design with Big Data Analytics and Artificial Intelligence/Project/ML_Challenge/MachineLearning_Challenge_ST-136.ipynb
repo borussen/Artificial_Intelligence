{
 "cells": [
  {
   "cell_type": "markdown",
   "metadata": {},
   "source": [
    "# 2022년도 도전학기 '빅데이터와 인공지능을 활용한 시스템 강건설계' 머신러닝 챌린지"
   ]
  },
  {
   "cell_type": "markdown",
   "metadata": {},
   "source": [
    "#### - 머신러닝 챌린지 목표 \n",
    "- 실습내용 기반 데이터 가공 능력, 인공지능 모델 학습 능력 평가\n",
    "\n",
    "\n",
    "#### - 가이드에 따라 머신러닝 챌린지를 수행하며, 각 단계의 결과가 저장된 폴더(Result) 내의 모든 파일을 1개 압축파일(.zip)로 제출\n",
    "- 과제 수행을 위해 최소한의 가이드가 있으나 가이드에 따르지 않고 다른 방법으로 코드 작성해도 결과만 맞으면 무관\n",
    "- 로봇 스폿 용접으로 수집된 <font color=red>스폿별 센서 데이터</font> (실습용 데이터와 구성이 동일하나 시간열이 없음)\n",
    "\n",
    "\n",
    "#### - 머신러닝 챌린지 수행 내용\n",
    "- 수집된 센서데이터의 특징 데이터 추출 및 선택\n",
    "- K-Fold 교차검증 통한 최적의 모델 선택\n",
    "- 전체 데이터로 최적 모델 최종 학습"
   ]
  },
  {
   "cell_type": "markdown",
   "metadata": {},
   "source": [
    ".\n",
    "\n",
    ".\n",
    "\n",
    ".\n",
    "\n"
   ]
  },
  {
   "cell_type": "markdown",
   "metadata": {},
   "source": [
    "### 필요한 라이브러리 import\n",
    "- numpy, pandas 등 필요한 라이브러리 불러오기"
   ]
  },
  {
   "cell_type": "code",
   "execution_count": 1,
   "metadata": {},
   "outputs": [],
   "source": [
    "import pandas as pd\n",
    "import numpy  as np\n",
    "import matplotlib.pyplot as plt\n",
    "\n",
    "import scipy.stats as sp\n",
    "import pywt"
   ]
  },
  {
   "cell_type": "markdown",
   "metadata": {},
   "source": [
    "# [1단계] 정상/고장 스폿별 데이터 Time/Frequency domain 특징 추출하기(5점)\n",
    "> #### SpotWeldingData 폴더 내부 정상/고장 각각 120개씩\n",
    "> #### 개별 데이터는 전류/전압/가속도 3개 센서, 샘플링 주파수 12800Hz, 약 0.2167초간의 데이터\n",
    "> #### 개별 데이터 1개당 Time domain 특징 30개, Frequency domain 특징 180개 추출"
   ]
  },
  {
   "cell_type": "markdown",
   "metadata": {},
   "source": [
    "# 필수!\n",
    "- 추출된 특징데이터(DataFrame) 변수 이름: <font color=red>FeatureData</font>\n",
    "- 특징 순서: Max, Min, Mean, RMS, Variance, Skewness, Kurtosis, Crest factor, Impulse factor, Shape factor\n",
    "- Wavelet option: mother wavelet 'haar', 6 level\n",
    "- 행 순서: Time domain 특징 30개, Frequency domain 특징 180개\n",
    "- 열 순서: Normal_1, Normal_2, ..., Abnormal_1, Abnormal_2, ..."
   ]
  },
  {
   "cell_type": "markdown",
   "metadata": {},
   "source": [
    "### 특징 추출"
   ]
  },
  {
   "cell_type": "code",
   "execution_count": 2,
   "metadata": {},
   "outputs": [],
   "source": [
    "NoOfData    = 120  # 정상/고장 스폿용접 데이터 각 120개씩 \n",
    "NoOfSensor  = 3    # 전류(Current), 전압(Voltage), 가속도(Acceleration)\n",
    "NoOfFeature = 10   # 특징 개수:10개 (순서: Max, Min, Mean, RMS, Variance, Skewness, Kurtosis, Crest factor, Impulse factor, Shape factor)"
   ]
  },
  {
   "cell_type": "code",
   "execution_count": 3,
   "metadata": {},
   "outputs": [],
   "source": [
    "def rms(x): # RMS 함수 정의\n",
    "    return np.sqrt(np.mean(x**2))"
   ]
  },
  {
   "cell_type": "code",
   "execution_count": 4,
   "metadata": {},
   "outputs": [
    {
     "data": {
      "text/plain": [
       "(30, 240)"
      ]
     },
     "execution_count": 4,
     "metadata": {},
     "output_type": "execute_result"
    }
   ],
   "source": [
    "# Time Domain 특징값 추출\n",
    "\n",
    "# 특징데이터 크기 지정\n",
    "TimeFeature_Normal = np.zeros((NoOfSensor*NoOfFeature , NoOfData))\n",
    "TimeFeature_Abnormal = np.zeros((NoOfSensor*NoOfFeature , NoOfData))\n",
    "\n",
    "for i in range(NoOfData):\n",
    "    \n",
    "    # 데이터 불러오기\n",
    "    temp_path1 = './SpotWeldingData/Normal_%d'%(i+1)   # Normal 데이터 파일 경로\n",
    "    temp_path2 = './SpotWeldingData/Abnormal_%d'%(i+1) # Abnormal 데이터 파일 경로\n",
    "    temp_data1 = pd.read_csv(temp_path1 , sep=',' , header=None).iloc[:,0:] # 임시 Normal 데이터\n",
    "    temp_data2 = pd.read_csv(temp_path2 , sep=',' , header=None).iloc[:,0:] # 임시 Abnormal 데이터\n",
    "    \n",
    "    # Time Domain 특징값 추출\n",
    "    for j in range(NoOfSensor):\n",
    "        \n",
    "        # Normal Time Domain Feature\n",
    "        TimeFeature_Normal[10*j+0, i] = np.max(temp_data1.iloc[:,j])\n",
    "        TimeFeature_Normal[10*j+1, i] = np.min(temp_data1.iloc[:,j])\n",
    "        TimeFeature_Normal[10*j+2, i] = np.mean(temp_data1.iloc[:,j])\n",
    "        TimeFeature_Normal[10*j+3, i] = rms(temp_data1.iloc[:,j])\n",
    "        TimeFeature_Normal[10*j+4, i] = np.var(temp_data1.iloc[:,j])\n",
    "        TimeFeature_Normal[10*j+5, i] = sp.skew(temp_data1.iloc[:,j])\n",
    "        TimeFeature_Normal[10*j+6, i] = sp.kurtosis(temp_data1.iloc[:,j])\n",
    "        TimeFeature_Normal[10*j+7, i] = np.max(temp_data1.iloc[:,j])/rms(temp_data1.iloc[:,j])\n",
    "        TimeFeature_Normal[10*j+8, i] = np.max(temp_data1.iloc[:,j])/np.mean(temp_data1.iloc[:,j])\n",
    "        TimeFeature_Normal[10*j+9, i] = rms(temp_data1.iloc[:,j])/np.mean(temp_data1.iloc[:,j])\n",
    "            \n",
    "        # Abnormal Time Domain Feature\n",
    "        TimeFeature_Abnormal[10*j+0, i] = np.max(temp_data2.iloc[:,j])\n",
    "        TimeFeature_Abnormal[10*j+1, i] = np.min(temp_data2.iloc[:,j])\n",
    "        TimeFeature_Abnormal[10*j+2, i] = np.mean(temp_data2.iloc[:,j])\n",
    "        TimeFeature_Abnormal[10*j+3, i] = rms(temp_data2.iloc[:,j])\n",
    "        TimeFeature_Abnormal[10*j+4, i] = np.var(temp_data2.iloc[:,j])\n",
    "        TimeFeature_Abnormal[10*j+5, i] = sp.skew(temp_data2.iloc[:,j])\n",
    "        TimeFeature_Abnormal[10*j+6, i] = sp.kurtosis(temp_data2.iloc[:,j])\n",
    "        TimeFeature_Abnormal[10*j+7, i] = np.max(temp_data2.iloc[:,j])/rms(temp_data2.iloc[:,j])\n",
    "        TimeFeature_Abnormal[10*j+8, i] = np.max(temp_data2.iloc[:,j])/np.mean(temp_data2.iloc[:,j])\n",
    "        TimeFeature_Abnormal[10*j+9, i] = rms(temp_data2.iloc[:,j])/np.mean(temp_data2.iloc[:,j])\n",
    "\n",
    "TimeFeature = np.concatenate([TimeFeature_Normal, TimeFeature_Abnormal] , axis=1)\n",
    "TimeFeature.shape"
   ]
  },
  {
   "cell_type": "code",
   "execution_count": 5,
   "metadata": {},
   "outputs": [
    {
     "data": {
      "text/plain": [
       "(180, 240)"
      ]
     },
     "execution_count": 5,
     "metadata": {},
     "output_type": "execute_result"
    }
   ],
   "source": [
    "# Frequency Domain 특징값 추출\n",
    "\n",
    "# Wavelet options\n",
    "MotherWavelet = pywt.Wavelet('haar')   # Mother wavelet (모함수) 지정\n",
    "Level   = 6                            # Wavelet 분해 레벨 지정\n",
    "select  = 6                            # 특징추출 영역 고주파 영역부터 개수 지정 (d1~)\n",
    "\n",
    "#Frequency Domain 특징값 추출 (Wavelet Transform 기반)\n",
    "FreqFeature_Normal   = np.zeros(shape=(NoOfSensor*NoOfFeature*select , NoOfData))\n",
    "FreqFeature_Abnormal = np.zeros(shape=(NoOfSensor*NoOfFeature*select , NoOfData))\n",
    "\n",
    "for i in range(NoOfData):\n",
    "    \n",
    "    # 데이터 불러오기\n",
    "    temp_path1 = './SpotWeldingData/Normal_%d'%(i+1)   # Normal 데이터 파일 경로\n",
    "    temp_path2 = './SpotWeldingData/Abnormal_%d'%(i+1) # Abnormal 데이터 파일 경로\n",
    "    temp_data1 = np.array(pd.read_csv(temp_path1 , sep=',', header=None).iloc[:,0:]) # 임시 Normal 데이터\n",
    "    temp_data2 = np.array(pd.read_csv(temp_path2 , sep=',', header=None).iloc[:,0:]) # 임시 Abnormal 데이터\n",
    "    Coef1      = pywt.wavedec(temp_data1, MotherWavelet, level=Level, axis=0)\n",
    "    Coef2      = pywt.wavedec(temp_data2, MotherWavelet, level=Level, axis=0)\n",
    "    \n",
    "    # Frequency Domain 특징값 추출\n",
    "    for j in range(NoOfSensor):\n",
    "        \n",
    "        for k in np.arange(select):\n",
    "            coef1 = Coef1[Level-k]\n",
    "            coef2 = Coef2[Level-k]\n",
    "            \n",
    "            # Normal Frequency Domain Feature\n",
    "            FreqFeature_Normal[NoOfFeature*j*select+k*NoOfFeature+0 , i] = np.max(coef1[:,j])\n",
    "            FreqFeature_Normal[NoOfFeature*j*select+k*NoOfFeature+1 , i] = np.min(coef1[:,j])\n",
    "            FreqFeature_Normal[NoOfFeature*j*select+k*NoOfFeature+2 , i] = np.mean(coef1[:,j])\n",
    "            FreqFeature_Normal[NoOfFeature*j*select+k*NoOfFeature+3 , i] = rms(coef1[:,j])\n",
    "            FreqFeature_Normal[NoOfFeature*j*select+k*NoOfFeature+4 , i] = np.var(coef1[:,j])\n",
    "            FreqFeature_Normal[NoOfFeature*j*select+k*NoOfFeature+5 , i] = sp.skew(coef1[:,j])\n",
    "            FreqFeature_Normal[NoOfFeature*j*select+k*NoOfFeature+6 , i] = sp.kurtosis(coef1[:,j])\n",
    "            FreqFeature_Normal[NoOfFeature*j*select+k*NoOfFeature+7 , i] = np.max(coef1[:,j])/rms(coef1[:,j])\n",
    "            FreqFeature_Normal[NoOfFeature*j*select+k*NoOfFeature+8 , i] = np.max(coef1[:,j])/np.mean(coef1[:,j])\n",
    "            FreqFeature_Normal[NoOfFeature*j*select+k*NoOfFeature+9 , i] = rms(coef1[:,j])/np.mean(coef1[:,j])\n",
    "            \n",
    "            # Abnormal Frequency Domain Feature\n",
    "            FreqFeature_Abnormal[NoOfFeature*j*select+k*NoOfFeature+0 , i] = np.max(coef2[:,j])\n",
    "            FreqFeature_Abnormal[NoOfFeature*j*select+k*NoOfFeature+1 , i] = np.min(coef2[:,j])\n",
    "            FreqFeature_Abnormal[NoOfFeature*j*select+k*NoOfFeature+2 , i] = np.mean(coef2[:,j])\n",
    "            FreqFeature_Abnormal[NoOfFeature*j*select+k*NoOfFeature+3 , i] = rms(coef2[:,j])\n",
    "            FreqFeature_Abnormal[NoOfFeature*j*select+k*NoOfFeature+4 , i] = np.var(coef2[:,j])\n",
    "            FreqFeature_Abnormal[NoOfFeature*j*select+k*NoOfFeature+5 , i] = sp.skew(coef2[:,j])\n",
    "            FreqFeature_Abnormal[NoOfFeature*j*select+k*NoOfFeature+6 , i] = sp.kurtosis(coef2[:,j])\n",
    "            FreqFeature_Abnormal[NoOfFeature*j*select+k*NoOfFeature+7 , i] = np.max(coef2[:,j])/rms(coef2[:,j])\n",
    "            FreqFeature_Abnormal[NoOfFeature*j*select+k*NoOfFeature+8 , i] = np.max(coef2[:,j])/np.mean(coef2[:,j])\n",
    "            FreqFeature_Abnormal[NoOfFeature*j*select+k*NoOfFeature+9 , i] = rms(coef2[:,j])/np.mean(coef2[:,j])\n",
    "\n",
    "FreqFeature = np.concatenate([FreqFeature_Normal, FreqFeature_Abnormal] , axis=1)\n",
    "FreqFeature.shape"
   ]
  },
  {
   "cell_type": "code",
   "execution_count": 6,
   "metadata": {},
   "outputs": [
    {
     "data": {
      "text/html": [
       "<div>\n",
       "<style scoped>\n",
       "    .dataframe tbody tr th:only-of-type {\n",
       "        vertical-align: middle;\n",
       "    }\n",
       "\n",
       "    .dataframe tbody tr th {\n",
       "        vertical-align: top;\n",
       "    }\n",
       "\n",
       "    .dataframe thead th {\n",
       "        text-align: right;\n",
       "    }\n",
       "</style>\n",
       "<table border=\"1\" class=\"dataframe\">\n",
       "  <thead>\n",
       "    <tr style=\"text-align: right;\">\n",
       "      <th></th>\n",
       "      <th>0</th>\n",
       "      <th>1</th>\n",
       "      <th>2</th>\n",
       "      <th>3</th>\n",
       "      <th>4</th>\n",
       "      <th>5</th>\n",
       "      <th>6</th>\n",
       "      <th>7</th>\n",
       "      <th>8</th>\n",
       "      <th>9</th>\n",
       "      <th>...</th>\n",
       "      <th>230</th>\n",
       "      <th>231</th>\n",
       "      <th>232</th>\n",
       "      <th>233</th>\n",
       "      <th>234</th>\n",
       "      <th>235</th>\n",
       "      <th>236</th>\n",
       "      <th>237</th>\n",
       "      <th>238</th>\n",
       "      <th>239</th>\n",
       "    </tr>\n",
       "  </thead>\n",
       "  <tbody>\n",
       "    <tr>\n",
       "      <th>0</th>\n",
       "      <td>5.291863</td>\n",
       "      <td>5.234436</td>\n",
       "      <td>5.114397</td>\n",
       "      <td>5.078826</td>\n",
       "      <td>5.152517</td>\n",
       "      <td>5.229064</td>\n",
       "      <td>5.253481</td>\n",
       "      <td>5.234687</td>\n",
       "      <td>5.103656</td>\n",
       "      <td>5.363713</td>\n",
       "      <td>...</td>\n",
       "      <td>5.119402</td>\n",
       "      <td>5.148513</td>\n",
       "      <td>5.254651</td>\n",
       "      <td>5.104079</td>\n",
       "      <td>5.196028</td>\n",
       "      <td>5.317705</td>\n",
       "      <td>5.149645</td>\n",
       "      <td>5.256765</td>\n",
       "      <td>5.451178</td>\n",
       "      <td>5.121302</td>\n",
       "    </tr>\n",
       "    <tr>\n",
       "      <th>1</th>\n",
       "      <td>-5.532383</td>\n",
       "      <td>-5.337900</td>\n",
       "      <td>-5.152897</td>\n",
       "      <td>-5.122665</td>\n",
       "      <td>-5.190717</td>\n",
       "      <td>-5.266181</td>\n",
       "      <td>-5.279861</td>\n",
       "      <td>-5.267032</td>\n",
       "      <td>-5.135895</td>\n",
       "      <td>-5.525549</td>\n",
       "      <td>...</td>\n",
       "      <td>-5.203542</td>\n",
       "      <td>-5.460530</td>\n",
       "      <td>-5.520525</td>\n",
       "      <td>-5.142374</td>\n",
       "      <td>-5.226539</td>\n",
       "      <td>-5.584296</td>\n",
       "      <td>-5.183268</td>\n",
       "      <td>-5.477434</td>\n",
       "      <td>-5.731463</td>\n",
       "      <td>-5.165231</td>\n",
       "    </tr>\n",
       "    <tr>\n",
       "      <th>2</th>\n",
       "      <td>-0.030931</td>\n",
       "      <td>-0.026517</td>\n",
       "      <td>-0.023940</td>\n",
       "      <td>-0.024068</td>\n",
       "      <td>-0.024566</td>\n",
       "      <td>-0.023105</td>\n",
       "      <td>-0.024522</td>\n",
       "      <td>-0.019830</td>\n",
       "      <td>-0.019514</td>\n",
       "      <td>-0.029797</td>\n",
       "      <td>...</td>\n",
       "      <td>-0.024559</td>\n",
       "      <td>-0.023034</td>\n",
       "      <td>-0.027406</td>\n",
       "      <td>-0.022263</td>\n",
       "      <td>-0.021810</td>\n",
       "      <td>-0.026585</td>\n",
       "      <td>-0.022116</td>\n",
       "      <td>-0.025467</td>\n",
       "      <td>-0.028971</td>\n",
       "      <td>-0.021275</td>\n",
       "    </tr>\n",
       "    <tr>\n",
       "      <th>3</th>\n",
       "      <td>2.691801</td>\n",
       "      <td>2.694450</td>\n",
       "      <td>2.688186</td>\n",
       "      <td>2.687191</td>\n",
       "      <td>2.677480</td>\n",
       "      <td>2.691660</td>\n",
       "      <td>2.702448</td>\n",
       "      <td>2.683724</td>\n",
       "      <td>2.682554</td>\n",
       "      <td>2.707523</td>\n",
       "      <td>...</td>\n",
       "      <td>2.675390</td>\n",
       "      <td>2.684913</td>\n",
       "      <td>2.683773</td>\n",
       "      <td>2.664949</td>\n",
       "      <td>2.663127</td>\n",
       "      <td>2.679799</td>\n",
       "      <td>2.680464</td>\n",
       "      <td>2.690217</td>\n",
       "      <td>2.688724</td>\n",
       "      <td>2.671162</td>\n",
       "    </tr>\n",
       "    <tr>\n",
       "      <th>4</th>\n",
       "      <td>7.244837</td>\n",
       "      <td>7.259358</td>\n",
       "      <td>7.225770</td>\n",
       "      <td>7.220416</td>\n",
       "      <td>7.168297</td>\n",
       "      <td>7.244498</td>\n",
       "      <td>7.302624</td>\n",
       "      <td>7.201982</td>\n",
       "      <td>7.195715</td>\n",
       "      <td>7.329793</td>\n",
       "      <td>...</td>\n",
       "      <td>7.157107</td>\n",
       "      <td>7.208225</td>\n",
       "      <td>7.201886</td>\n",
       "      <td>7.101456</td>\n",
       "      <td>7.091767</td>\n",
       "      <td>7.180615</td>\n",
       "      <td>7.184396</td>\n",
       "      <td>7.236619</td>\n",
       "      <td>7.228395</td>\n",
       "      <td>7.134652</td>\n",
       "    </tr>\n",
       "    <tr>\n",
       "      <th>...</th>\n",
       "      <td>...</td>\n",
       "      <td>...</td>\n",
       "      <td>...</td>\n",
       "      <td>...</td>\n",
       "      <td>...</td>\n",
       "      <td>...</td>\n",
       "      <td>...</td>\n",
       "      <td>...</td>\n",
       "      <td>...</td>\n",
       "      <td>...</td>\n",
       "      <td>...</td>\n",
       "      <td>...</td>\n",
       "      <td>...</td>\n",
       "      <td>...</td>\n",
       "      <td>...</td>\n",
       "      <td>...</td>\n",
       "      <td>...</td>\n",
       "      <td>...</td>\n",
       "      <td>...</td>\n",
       "      <td>...</td>\n",
       "      <td>...</td>\n",
       "    </tr>\n",
       "    <tr>\n",
       "      <th>205</th>\n",
       "      <td>-0.737752</td>\n",
       "      <td>3.259734</td>\n",
       "      <td>1.664979</td>\n",
       "      <td>1.684975</td>\n",
       "      <td>1.581038</td>\n",
       "      <td>2.781113</td>\n",
       "      <td>3.178408</td>\n",
       "      <td>2.107269</td>\n",
       "      <td>1.625931</td>\n",
       "      <td>1.581395</td>\n",
       "      <td>...</td>\n",
       "      <td>1.303904</td>\n",
       "      <td>1.344954</td>\n",
       "      <td>1.368371</td>\n",
       "      <td>1.440955</td>\n",
       "      <td>1.350556</td>\n",
       "      <td>1.424882</td>\n",
       "      <td>1.482014</td>\n",
       "      <td>1.460398</td>\n",
       "      <td>1.346535</td>\n",
       "      <td>1.499261</td>\n",
       "    </tr>\n",
       "    <tr>\n",
       "      <th>206</th>\n",
       "      <td>4.924400</td>\n",
       "      <td>12.826006</td>\n",
       "      <td>1.432969</td>\n",
       "      <td>1.492820</td>\n",
       "      <td>1.313720</td>\n",
       "      <td>9.261458</td>\n",
       "      <td>12.341555</td>\n",
       "      <td>5.466513</td>\n",
       "      <td>1.218102</td>\n",
       "      <td>1.145249</td>\n",
       "      <td>...</td>\n",
       "      <td>0.442792</td>\n",
       "      <td>0.442015</td>\n",
       "      <td>0.505664</td>\n",
       "      <td>0.645331</td>\n",
       "      <td>0.473570</td>\n",
       "      <td>0.561481</td>\n",
       "      <td>0.667883</td>\n",
       "      <td>0.537265</td>\n",
       "      <td>0.396698</td>\n",
       "      <td>0.687633</td>\n",
       "    </tr>\n",
       "    <tr>\n",
       "      <th>207</th>\n",
       "      <td>2.244769</td>\n",
       "      <td>5.167951</td>\n",
       "      <td>2.943150</td>\n",
       "      <td>2.962990</td>\n",
       "      <td>2.778244</td>\n",
       "      <td>4.806569</td>\n",
       "      <td>5.129116</td>\n",
       "      <td>4.187465</td>\n",
       "      <td>2.654294</td>\n",
       "      <td>2.695495</td>\n",
       "      <td>...</td>\n",
       "      <td>2.362096</td>\n",
       "      <td>2.228747</td>\n",
       "      <td>2.322788</td>\n",
       "      <td>2.267641</td>\n",
       "      <td>2.267871</td>\n",
       "      <td>2.265560</td>\n",
       "      <td>2.471394</td>\n",
       "      <td>2.227753</td>\n",
       "      <td>2.177953</td>\n",
       "      <td>2.334014</td>\n",
       "    </tr>\n",
       "    <tr>\n",
       "      <th>208</th>\n",
       "      <td>-15.607825</td>\n",
       "      <td>39.438692</td>\n",
       "      <td>96.630826</td>\n",
       "      <td>97.180605</td>\n",
       "      <td>87.095434</td>\n",
       "      <td>36.985333</td>\n",
       "      <td>39.867799</td>\n",
       "      <td>366.618120</td>\n",
       "      <td>184.095179</td>\n",
       "      <td>123.429948</td>\n",
       "      <td>...</td>\n",
       "      <td>-23.560170</td>\n",
       "      <td>-27.650099</td>\n",
       "      <td>-35.462131</td>\n",
       "      <td>-30.818613</td>\n",
       "      <td>-18.241424</td>\n",
       "      <td>-28.954627</td>\n",
       "      <td>-41.407167</td>\n",
       "      <td>-37.599780</td>\n",
       "      <td>-25.476130</td>\n",
       "      <td>-55.585940</td>\n",
       "    </tr>\n",
       "    <tr>\n",
       "      <th>209</th>\n",
       "      <td>-6.952976</td>\n",
       "      <td>7.631398</td>\n",
       "      <td>32.832450</td>\n",
       "      <td>32.798159</td>\n",
       "      <td>31.349099</td>\n",
       "      <td>7.694747</td>\n",
       "      <td>7.772840</td>\n",
       "      <td>87.551318</td>\n",
       "      <td>69.357500</td>\n",
       "      <td>45.791202</td>\n",
       "      <td>...</td>\n",
       "      <td>-9.974267</td>\n",
       "      <td>-12.406117</td>\n",
       "      <td>-15.267054</td>\n",
       "      <td>-13.590603</td>\n",
       "      <td>-8.043414</td>\n",
       "      <td>-12.780339</td>\n",
       "      <td>-16.754579</td>\n",
       "      <td>-16.877893</td>\n",
       "      <td>-11.697282</td>\n",
       "      <td>-23.815602</td>\n",
       "    </tr>\n",
       "  </tbody>\n",
       "</table>\n",
       "<p>210 rows × 240 columns</p>\n",
       "</div>"
      ],
      "text/plain": [
       "           0          1          2          3          4          5    \\\n",
       "0     5.291863   5.234436   5.114397   5.078826   5.152517   5.229064   \n",
       "1    -5.532383  -5.337900  -5.152897  -5.122665  -5.190717  -5.266181   \n",
       "2    -0.030931  -0.026517  -0.023940  -0.024068  -0.024566  -0.023105   \n",
       "3     2.691801   2.694450   2.688186   2.687191   2.677480   2.691660   \n",
       "4     7.244837   7.259358   7.225770   7.220416   7.168297   7.244498   \n",
       "..         ...        ...        ...        ...        ...        ...   \n",
       "205  -0.737752   3.259734   1.664979   1.684975   1.581038   2.781113   \n",
       "206   4.924400  12.826006   1.432969   1.492820   1.313720   9.261458   \n",
       "207   2.244769   5.167951   2.943150   2.962990   2.778244   4.806569   \n",
       "208 -15.607825  39.438692  96.630826  97.180605  87.095434  36.985333   \n",
       "209  -6.952976   7.631398  32.832450  32.798159  31.349099   7.694747   \n",
       "\n",
       "           6           7           8           9    ...        230        231  \\\n",
       "0     5.253481    5.234687    5.103656    5.363713  ...   5.119402   5.148513   \n",
       "1    -5.279861   -5.267032   -5.135895   -5.525549  ...  -5.203542  -5.460530   \n",
       "2    -0.024522   -0.019830   -0.019514   -0.029797  ...  -0.024559  -0.023034   \n",
       "3     2.702448    2.683724    2.682554    2.707523  ...   2.675390   2.684913   \n",
       "4     7.302624    7.201982    7.195715    7.329793  ...   7.157107   7.208225   \n",
       "..         ...         ...         ...         ...  ...        ...        ...   \n",
       "205   3.178408    2.107269    1.625931    1.581395  ...   1.303904   1.344954   \n",
       "206  12.341555    5.466513    1.218102    1.145249  ...   0.442792   0.442015   \n",
       "207   5.129116    4.187465    2.654294    2.695495  ...   2.362096   2.228747   \n",
       "208  39.867799  366.618120  184.095179  123.429948  ... -23.560170 -27.650099   \n",
       "209   7.772840   87.551318   69.357500   45.791202  ...  -9.974267 -12.406117   \n",
       "\n",
       "           232        233        234        235        236        237  \\\n",
       "0     5.254651   5.104079   5.196028   5.317705   5.149645   5.256765   \n",
       "1    -5.520525  -5.142374  -5.226539  -5.584296  -5.183268  -5.477434   \n",
       "2    -0.027406  -0.022263  -0.021810  -0.026585  -0.022116  -0.025467   \n",
       "3     2.683773   2.664949   2.663127   2.679799   2.680464   2.690217   \n",
       "4     7.201886   7.101456   7.091767   7.180615   7.184396   7.236619   \n",
       "..         ...        ...        ...        ...        ...        ...   \n",
       "205   1.368371   1.440955   1.350556   1.424882   1.482014   1.460398   \n",
       "206   0.505664   0.645331   0.473570   0.561481   0.667883   0.537265   \n",
       "207   2.322788   2.267641   2.267871   2.265560   2.471394   2.227753   \n",
       "208 -35.462131 -30.818613 -18.241424 -28.954627 -41.407167 -37.599780   \n",
       "209 -15.267054 -13.590603  -8.043414 -12.780339 -16.754579 -16.877893   \n",
       "\n",
       "           238        239  \n",
       "0     5.451178   5.121302  \n",
       "1    -5.731463  -5.165231  \n",
       "2    -0.028971  -0.021275  \n",
       "3     2.688724   2.671162  \n",
       "4     7.228395   7.134652  \n",
       "..         ...        ...  \n",
       "205   1.346535   1.499261  \n",
       "206   0.396698   0.687633  \n",
       "207   2.177953   2.334014  \n",
       "208 -25.476130 -55.585940  \n",
       "209 -11.697282 -23.815602  \n",
       "\n",
       "[210 rows x 240 columns]"
      ]
     },
     "execution_count": 6,
     "metadata": {},
     "output_type": "execute_result"
    }
   ],
   "source": [
    "# 특징 데이터 병합\n",
    "Features = np.concatenate([TimeFeature,FreqFeature] , axis=0)\n",
    "\n",
    "FeatureData = pd.DataFrame(Features)\n",
    "FeatureData"
   ]
  },
  {
   "cell_type": "markdown",
   "metadata": {},
   "source": [
    "### 1단계 결과물 제출용 데이터 파일로 저장 (수강생 번호 외 코드수정X)\n",
    "\n",
    "- 변수 이름 가이드에 맞게 지정됐는지 재확인 요망"
   ]
  },
  {
   "cell_type": "code",
   "execution_count": 7,
   "metadata": {},
   "outputs": [],
   "source": [
    "StudentNo = 136   # 수강생 번호 입력\n",
    "\n",
    "# 아래는 수정 금지\n",
    "Path = './Result/ST%d_MC1'%StudentNo\n",
    "FeatureData.to_csv(Path, sep=',' , header=None , index=None)"
   ]
  },
  {
   "cell_type": "markdown",
   "metadata": {},
   "source": [
    "# [2단계] t-Test 기반 주요 특징 선택(5점)"
   ]
  },
  {
   "cell_type": "markdown",
   "metadata": {},
   "source": [
    "# 필수!\n",
    "- 정상/고장의 각 특징 별 t-Test 수행, P-value 오름차순 기준 상위 30개 주요 특징 선택하여 저장\n",
    "- 선택된 특징데이터(DataFrame) 변수 이름: <font color=red>FeatureSelected</font>"
   ]
  },
  {
   "cell_type": "code",
   "execution_count": 8,
   "metadata": {},
   "outputs": [],
   "source": [
    "# 특징 데이터 분할\n",
    "NoOfData = int(FeatureData.shape[1]/2)\n",
    "Normal_FeatureData   = FeatureData.iloc[:,:NoOfData]\n",
    "Abnormal_FeatureData = FeatureData.iloc[:,NoOfData:]"
   ]
  },
  {
   "cell_type": "code",
   "execution_count": 9,
   "metadata": {},
   "outputs": [
    {
     "data": {
      "text/html": [
       "<div>\n",
       "<style scoped>\n",
       "    .dataframe tbody tr th:only-of-type {\n",
       "        vertical-align: middle;\n",
       "    }\n",
       "\n",
       "    .dataframe tbody tr th {\n",
       "        vertical-align: top;\n",
       "    }\n",
       "\n",
       "    .dataframe thead th {\n",
       "        text-align: right;\n",
       "    }\n",
       "</style>\n",
       "<table border=\"1\" class=\"dataframe\">\n",
       "  <thead>\n",
       "    <tr style=\"text-align: right;\">\n",
       "      <th></th>\n",
       "      <th>0</th>\n",
       "      <th>1</th>\n",
       "    </tr>\n",
       "  </thead>\n",
       "  <tbody>\n",
       "    <tr>\n",
       "      <th>144</th>\n",
       "      <td>144.0</td>\n",
       "      <td>5.931804e-120</td>\n",
       "    </tr>\n",
       "    <tr>\n",
       "      <th>143</th>\n",
       "      <td>143.0</td>\n",
       "      <td>5.791478e-119</td>\n",
       "    </tr>\n",
       "    <tr>\n",
       "      <th>14</th>\n",
       "      <td>14.0</td>\n",
       "      <td>1.726412e-106</td>\n",
       "    </tr>\n",
       "    <tr>\n",
       "      <th>13</th>\n",
       "      <td>13.0</td>\n",
       "      <td>4.168146e-106</td>\n",
       "    </tr>\n",
       "    <tr>\n",
       "      <th>124</th>\n",
       "      <td>124.0</td>\n",
       "      <td>1.265018e-89</td>\n",
       "    </tr>\n",
       "    <tr>\n",
       "      <th>...</th>\n",
       "      <td>...</td>\n",
       "      <td>...</td>\n",
       "    </tr>\n",
       "    <tr>\n",
       "      <th>38</th>\n",
       "      <td>38.0</td>\n",
       "      <td>9.026807e-01</td>\n",
       "    </tr>\n",
       "    <tr>\n",
       "      <th>175</th>\n",
       "      <td>175.0</td>\n",
       "      <td>9.101920e-01</td>\n",
       "    </tr>\n",
       "    <tr>\n",
       "      <th>162</th>\n",
       "      <td>162.0</td>\n",
       "      <td>9.512485e-01</td>\n",
       "    </tr>\n",
       "    <tr>\n",
       "      <th>40</th>\n",
       "      <td>40.0</td>\n",
       "      <td>9.569913e-01</td>\n",
       "    </tr>\n",
       "    <tr>\n",
       "      <th>42</th>\n",
       "      <td>42.0</td>\n",
       "      <td>9.683120e-01</td>\n",
       "    </tr>\n",
       "  </tbody>\n",
       "</table>\n",
       "<p>210 rows × 2 columns</p>\n",
       "</div>"
      ],
      "text/plain": [
       "         0              1\n",
       "144  144.0  5.931804e-120\n",
       "143  143.0  5.791478e-119\n",
       "14    14.0  1.726412e-106\n",
       "13    13.0  4.168146e-106\n",
       "124  124.0   1.265018e-89\n",
       "..     ...            ...\n",
       "38    38.0   9.026807e-01\n",
       "175  175.0   9.101920e-01\n",
       "162  162.0   9.512485e-01\n",
       "40    40.0   9.569913e-01\n",
       "42    42.0   9.683120e-01\n",
       "\n",
       "[210 rows x 2 columns]"
      ]
     },
     "execution_count": 9,
     "metadata": {},
     "output_type": "execute_result"
    }
   ],
   "source": [
    "NoOfFeature = FeatureData.shape[0] # 추출된 Feature 갯수\n",
    "\n",
    "P_value = np.zeros((NoOfFeature , 2))\n",
    "\n",
    "# 특징값 각각 T-검정 수행\n",
    "for i in np.arange(NoOfFeature):\n",
    "    T_test       = np.array(sp.ttest_ind(Normal_FeatureData.iloc[i,:] , Abnormal_FeatureData.iloc[i,:]))\n",
    "    P_value[i,0] = i          # Feature Index\n",
    "    P_value[i,1] = T_test[1]  # P값 (P-value)\n",
    "    \n",
    "P_value      = pd.DataFrame(P_value)\n",
    "P_value_Rank = P_value.sort_values([1],ascending=True)  # P-value 기준 오름차순 정렬\n",
    "\n",
    "P_value_Rank"
   ]
  },
  {
   "cell_type": "code",
   "execution_count": 10,
   "metadata": {},
   "outputs": [],
   "source": [
    "Rank = 30\n",
    "\n",
    "Normal   = np.zeros((Rank,NoOfData))\n",
    "Abnormal = np.zeros((Rank,NoOfData))\n",
    "\n",
    "for i in range(Rank):\n",
    "    index         = int(P_value_Rank.iloc[i,0])\n",
    "    Normal[i,:]   = Normal_FeatureData.iloc[index,:].values\n",
    "    Abnormal[i,:] = Abnormal_FeatureData.iloc[index,:].values\n",
    "\n",
    "# 정상, 고장 특징값 합치기\n",
    "FeatureSelected = pd.DataFrame(np.concatenate([Normal, Abnormal] , axis=1))"
   ]
  },
  {
   "cell_type": "markdown",
   "metadata": {},
   "source": [
    "### 2단계 결과물 제출용 데이터 파일로 저장 (수강생 번호 외 코드수정X)\n",
    "\n",
    "- 변수 이름 가이드에 맞게 지정됐는지 재확인 요망"
   ]
  },
  {
   "cell_type": "code",
   "execution_count": 11,
   "metadata": {},
   "outputs": [],
   "source": [
    "StudentNo = 136   # 수강생 번호 입력\n",
    "\n",
    "# 아래는 수정 금지\n",
    "Path = './Result/ST%d_MC2'%StudentNo\n",
    "FeatureSelected.to_csv(Path, sep=',' , header=None , index=None)"
   ]
  },
  {
   "cell_type": "markdown",
   "metadata": {},
   "source": [
    "# [3단계] 선택된 특징 데이터 가공하여 3-fold 교차검증 데이터/레이블 만들기(10점)"
   ]
  },
  {
   "cell_type": "markdown",
   "metadata": {},
   "source": [
    "# 필수!\n",
    "- Fold 1 검증 데이터: 정상 및 고장 1~40까지의 특징, 나머지 Fold 1 학습 데이터로 사용\n",
    "- Fold 2 검증 데이터: 정상 및 고장 41~80까지의 특징, 나머지 Fold 2 학습 데이터로 사용\n",
    "- Fold 3 검증 데이터: 정상 및 고장 81~120까지의 특징, 나머지 Fold 3 학습 데이터로 사용\n",
    "- 레이블(Label Encoding): 정상 0, 고장 1\n",
    "- 학습 데이터 변수 이름: <font color=red>Training_Fold1, Training_Fold2, Training_Fold3</font>\n",
    "- 검증 데이터 변수 이름: <font color=red>Validation_Fold1, Validation_Fold2, Validation_Fold3</font>"
   ]
  },
  {
   "cell_type": "code",
   "execution_count": 12,
   "metadata": {},
   "outputs": [
    {
     "data": {
      "text/plain": [
       "(60, 120)"
      ]
     },
     "execution_count": 12,
     "metadata": {},
     "output_type": "execute_result"
    }
   ],
   "source": [
    "NoOfData   = int(FeatureSelected.shape[1]/2)   # 데이터 개수 (정상/고장 각각)\n",
    "Fold       = 3\n",
    "\n",
    "FeatNo     = int(FeatureSelected.shape[0])  # 데이터 특징 수 (=데이터 차원)\n",
    "FoldDataNo = int(NoOfData/Fold)            # 1개 Fold 당 (검증)데이터 개수\n",
    "\n",
    "# Fold별 데이터 분할 용이하도록 데이터 Reshape\n",
    "NormalSet   = np.array(FeatureSelected.iloc[: , :NoOfData])\n",
    "AbnormalSet = np.array(FeatureSelected.iloc[: , NoOfData:])\n",
    "FeatureSelected_Reshaped = pd.DataFrame(np.concatenate([NormalSet , AbnormalSet] , axis=0))\n",
    "FeatureSelected_Reshaped.shape"
   ]
  },
  {
   "cell_type": "markdown",
   "metadata": {},
   "source": [
    "Fold별 데이터 분할"
   ]
  },
  {
   "cell_type": "code",
   "execution_count": 13,
   "metadata": {},
   "outputs": [],
   "source": [
    "# Validation Data set\n",
    "for i in range(Fold):\n",
    "    \n",
    "    temp_Valid_Normal   = FeatureSelected_Reshaped.iloc[:FeatNo , FoldDataNo*i : FoldDataNo*(i+1)]\n",
    "    temp_Valid_Abnormal = FeatureSelected_Reshaped.iloc[FeatNo: , FoldDataNo*i : FoldDataNo*(i+1)]\n",
    "    temp_Valid = pd.DataFrame(np.transpose(np.concatenate([temp_Valid_Normal, temp_Valid_Abnormal] , axis=1)))\n",
    "    \n",
    "    s = 'Validation_Fold%d = temp_Valid'%(i+1)\n",
    "    exec(s)\n",
    "    \n",
    "# Training Data set\n",
    "for i in range(Fold):\n",
    "    \n",
    "    temp_Train_Front = FeatureSelected_Reshaped.iloc[:,:FoldDataNo*i]\n",
    "    temp_Train_Back  = FeatureSelected_Reshaped.iloc[:,FoldDataNo*(i+1):]\n",
    "    temp_Train_Total = np.concatenate([temp_Train_Front , temp_Train_Back] , axis=1)\n",
    "    temp_Train_Final = pd.DataFrame(np.transpose(np.concatenate([temp_Train_Total[:FeatNo,:],temp_Train_Total[FeatNo:,:]] , axis=1)))\n",
    "    \n",
    "    s ='Training_Fold%d  = temp_Train_Final'%(i+1)\n",
    "    exec(s)"
   ]
  },
  {
   "cell_type": "code",
   "execution_count": 14,
   "metadata": {},
   "outputs": [
    {
     "data": {
      "text/plain": [
       "0     0\n",
       "1     0\n",
       "2     0\n",
       "3     0\n",
       "4     0\n",
       "     ..\n",
       "75    1\n",
       "76    1\n",
       "77    1\n",
       "78    1\n",
       "79    1\n",
       "Length: 80, dtype: int32"
      ]
     },
     "execution_count": 14,
     "metadata": {},
     "output_type": "execute_result"
    }
   ],
   "source": [
    "# 레이블 만들기\n",
    "NoOfLabel_Train = int(Training_Fold1.shape[0]/2)\n",
    "NoOfLabel_Valid = int(Validation_Fold1.shape[0]/2)\n",
    "\n",
    "\n",
    "## KNN & SVM 레이블 (Label encoding) - 정상: 0 // 고장: 1\n",
    "TrainingFold_Label   = np.zeros(2*NoOfLabel_Train , dtype=int)\n",
    "ValidationFold_Label = np.zeros(2*NoOfLabel_Valid , dtype=int)\n",
    "\n",
    "# 고장데이터(학습용) Label 값 = 1\n",
    "TrainingFold_Label[NoOfLabel_Train:] = 1\n",
    "\n",
    "# 고장데이터(검증용) Label 값 = 1\n",
    "ValidationFold_Label[NoOfLabel_Valid:] = 1\n",
    "\n",
    "TrainingFold_Label   = pd.Series(TrainingFold_Label)\n",
    "ValidationFold_Label = pd.Series(ValidationFold_Label)\n",
    "\n",
    "#TrainingFold_Label\n",
    "ValidationFold_Label"
   ]
  },
  {
   "cell_type": "markdown",
   "metadata": {},
   "source": [
    "## k-fold 데이터 및 레이블 저장"
   ]
  },
  {
   "cell_type": "markdown",
   "metadata": {},
   "source": [
    "k-fold 데이터 (Training & Validation) 저장"
   ]
  },
  {
   "cell_type": "code",
   "execution_count": 15,
   "metadata": {},
   "outputs": [],
   "source": [
    "for i in range(Fold):\n",
    "    path1 = './K_FoldData/Training_Fold%d'  %(i+1)\n",
    "    path2 = './K_FoldData/Validation_Fold%d'%(i+1)\n",
    "    \n",
    "    c1 = 'Training_Fold%d.to_csv(  path1, sep = \",\", header = None, index = None)'%(i+1)\n",
    "    c2 = 'Validation_Fold%d.to_csv(path2, sep = \",\", header = None, index = None)'%(i+1)\n",
    "    exec(c1)\n",
    "    exec(c2)"
   ]
  },
  {
   "cell_type": "markdown",
   "metadata": {},
   "source": [
    "레이블 (Training & Validation) 저장"
   ]
  },
  {
   "cell_type": "code",
   "execution_count": 16,
   "metadata": {},
   "outputs": [],
   "source": [
    "TrainingFold_Label.to_csv(  './K_FoldData/TrainingFold_Label', header = None, index = None)\n",
    "ValidationFold_Label.to_csv('./K_FoldData/ValidationFold_Label', header = None, index = None)"
   ]
  },
  {
   "cell_type": "markdown",
   "metadata": {},
   "source": [
    "## 최종 AI모델 학습용 전체 데이터 및 레이블 저장"
   ]
  },
  {
   "cell_type": "code",
   "execution_count": 17,
   "metadata": {},
   "outputs": [],
   "source": [
    "# 전체 데이터 저장 (행렬 전치)\n",
    "Training_All = np.transpose(FeatureSelected)\n",
    "Training_All.shape\n",
    "\n",
    "\n",
    "# 전체 데이터 레이블: SVM 및 KNN 맞춤형 (Label encoding)\n",
    "Training_All_Label = np.zeros(NoOfData*2)\n",
    "\n",
    "Training_All_Label[NoOfData:] = 1    # 고장데이터(학습용) Label 값 = 1\n",
    "Training_All_Label = pd.Series(Training_All_Label)\n",
    "\n",
    "Training_All_Label.shape\n",
    "\n",
    "\n",
    "# 전체 데이터 & 레이블 저장\n",
    "Training_All.to_csv('./K_FoldData/Training_All', sep = \",\", header = None, index = None)\n",
    "Training_All_Label.to_csv('./K_FoldData/Training_All_Label', sep = \",\", header = None, index = None)"
   ]
  },
  {
   "cell_type": "markdown",
   "metadata": {},
   "source": [
    "### 3단계 결과물 제출용 데이터 파일로 저장 (수강생 번호 외 코드수정X)\n",
    "\n",
    "- 변수 이름 가이드에 맞게 지정됐는지 재확인 요망"
   ]
  },
  {
   "cell_type": "code",
   "execution_count": 18,
   "metadata": {},
   "outputs": [],
   "source": [
    "StudentNo = 136   # 수강생 번호 입력\n",
    "\n",
    "# 아래는 수정 금지\n",
    "Path1 = './Result/ST%d_MC3_1'%StudentNo\n",
    "Path2 = './Result/ST%d_MC3_2'%StudentNo\n",
    "\n",
    "Validation_Fold1.to_csv(Path1, sep=',' , header=None , index=None)\n",
    "Validation_Fold2.to_csv(Path2, sep=',' , header=None , index=None)"
   ]
  },
  {
   "cell_type": "markdown",
   "metadata": {},
   "source": [
    ".\n",
    "\n",
    ".\n",
    "\n",
    "."
   ]
  },
  {
   "cell_type": "markdown",
   "metadata": {},
   "source": [
    "# [4단계] 머신러닝(KNN/SVM) 모델 3-fold 교차 검증 및 최적 모델 선정(15점)\n",
    "> #### KNN/SVM의 하이퍼파라미터를 달리하여 학습 및 교차 검증을 통해 성능 확인\n",
    "> #### 아래 파라미터의 모델 리스트 중 최적의 파라미터를 활용하여 전체 데이터 학습 후 제출"
   ]
  },
  {
   "cell_type": "markdown",
   "metadata": {},
   "source": [
    "# 필수!\n",
    "\n",
    "##### - KNN 모델 리스트 \n",
    "- KNN Model 1: n_neighbors = 3, metric = euclidean\n",
    "- KNN Model 2: n_neighbors = 5, metric = euclidean\n",
    "- KNN Model 3: n_neighbors = 3, metric = manhattan\n",
    "- KNN Model 4: n_neighbors = 5, metric = manhattan\n",
    "\n",
    "##### - SVM 모델 리스트 \n",
    "- SVM Model 1: kernel = rbf, C = 1\n",
    "- SVM Model 2: kernel = rbf, C = 10\n",
    "- SVM Model 3: kernel = linear, C = 1\n",
    "- SVM Model 4: kernel = linear, C = 10\n",
    "\n",
    "\n",
    "#### - KNeighborsClassifier, SVC 함수의 다른 파라미터는 입력하지 않음\n",
    "#### - 위 8개 모델 중 3-fold 교차 검증의 <font color=red>평균 검증 정확도가 가장 높은 파라미터를 갖는 최종 모델에 전체 데이터 학습</font>\n",
    "#### - 최종 모델 변수명: <font color=red>FinalModel</font>"
   ]
  },
  {
   "cell_type": "code",
   "execution_count": 19,
   "metadata": {},
   "outputs": [],
   "source": [
    "# KNN/SVM 함수 라이브러리 불러오기\n",
    "import pandas as pd\n",
    "import numpy as np\n",
    "from sklearn.neighbors import KNeighborsClassifier\n",
    "from sklearn import svm,metrics\n",
    "import joblib"
   ]
  },
  {
   "cell_type": "code",
   "execution_count": 20,
   "metadata": {},
   "outputs": [
    {
     "name": "stdout",
     "output_type": "stream",
     "text": [
      "(160, 30)\n",
      "(80, 30)\n",
      "(160,)\n",
      "(80,)\n",
      "(240, 30)\n"
     ]
    }
   ],
   "source": [
    "# 전체 데이터 불러오기 / 전체 데이터의 레이블 만들기\n",
    "Fold = 3\n",
    "\n",
    "# k-fold 학습/검증 데이터\n",
    "for i in range(Fold):\n",
    "    \n",
    "    path1 = './K_FoldData/Training_Fold%d'%(i+1)\n",
    "    path2 = './K_FoldData/Validation_Fold%d'%(i+1)\n",
    "    c1 = 'Training_Fold%d   = np.array(pd.read_csv(path1, sep=\",\", header=None))'%(i+1)\n",
    "    c2 = 'Validation_Fold%d = np.array(pd.read_csv(path2, sep=\",\", header=None))'%(i+1)\n",
    "    exec(c1)\n",
    "    exec(c2)\n",
    "\n",
    "# K-fold 학습/검증 레이블\n",
    "TrainingFold_Label   = np.array(pd.read_csv('./K_FoldData/TrainingFold_Label'  , sep=\",\", header=None).T.squeeze())\n",
    "ValidationFold_Label = np.array(pd.read_csv('./K_FoldData/ValidationFold_Label', sep=\",\", header=None).T.squeeze())\n",
    "    \n",
    "    \n",
    "# 전체 학습용 데이터\n",
    "Training_All       = np.array(pd.read_csv('./K_FoldData/Training_All', sep = \",\", header = None))\n",
    "Training_All_Label = np.array(pd.read_csv('./K_FoldData/Training_All_Label', sep = \",\", header = None).T.squeeze())\n",
    "\n",
    "print(Training_Fold1.shape)\n",
    "print(Validation_Fold1.shape)\n",
    "print(TrainingFold_Label.shape)\n",
    "print(ValidationFold_Label.shape)\n",
    "print(Training_All.shape)"
   ]
  },
  {
   "cell_type": "markdown",
   "metadata": {},
   "source": [
    "### KNN Model 1 K-fold 교차검증"
   ]
  },
  {
   "cell_type": "code",
   "execution_count": 21,
   "metadata": {},
   "outputs": [
    {
     "name": "stdout",
     "output_type": "stream",
     "text": [
      "[Result of K-fold Cross Validation] \n",
      "\n",
      " Fold 1: 100.00% \n",
      " Fold 2: 100.00% \n",
      " Fold 3: 98.75% \n",
      "\n",
      " Average accuracy: 99.58%\n"
     ]
    }
   ],
   "source": [
    "Add    = 0\n",
    "Divide = 0\n",
    "\n",
    "for i in range(Fold):\n",
    "    c1 = 'Training_CurrentFold = Training_Fold%d'%(i+1)\n",
    "    exec(c1)\n",
    "    c2 = 'Validation_CurrentFold = Validation_Fold%d'%(i+1)\n",
    "    exec(c2)    \n",
    "\n",
    "    knnModel_1 = KNeighborsClassifier(n_neighbors = 3, metric = 'euclidean').fit(Training_CurrentFold , TrainingFold_Label)\n",
    "    \n",
    "    c3 = 'knnscore_Fold%d = knnModel_1.score(Validation_CurrentFold , ValidationFold_Label)'%(i+1)\n",
    "    exec(c3)\n",
    "        \n",
    "    Add += knnModel_1.score(Validation_CurrentFold, ValidationFold_Label)\n",
    "    Divide += 1\n",
    "    \n",
    "Avg_accuracy = Add/Divide\n",
    "\n",
    "print('[Result of K-fold Cross Validation] \\n')\n",
    "print(' Fold 1: {:.2f}% \\n Fold 2: {:.2f}% \\n Fold 3: {:.2f}% \\n'.\n",
    "        format(knnscore_Fold1*100, knnscore_Fold2*100, knnscore_Fold3*100))\n",
    "print(' Average accuracy: {:.2f}%'.format(Avg_accuracy*100))"
   ]
  },
  {
   "cell_type": "markdown",
   "metadata": {},
   "source": [
    "### KNN Model 2 K-fold 교차검증"
   ]
  },
  {
   "cell_type": "code",
   "execution_count": 22,
   "metadata": {},
   "outputs": [
    {
     "name": "stdout",
     "output_type": "stream",
     "text": [
      "[Result of K-fold Cross Validation] \n",
      "\n",
      " Fold 1: 98.75% \n",
      " Fold 2: 100.00% \n",
      " Fold 3: 100.00% \n",
      "\n",
      " Average accuracy: 99.58%\n"
     ]
    }
   ],
   "source": [
    "Add    = 0\n",
    "Divide = 0\n",
    "\n",
    "for i in range(Fold):\n",
    "    c1 = 'Training_CurrentFold = Training_Fold%d'%(i+1)\n",
    "    exec(c1)\n",
    "    c2 = 'Validation_CurrentFold = Validation_Fold%d'%(i+1)\n",
    "    exec(c2)    \n",
    "\n",
    "    knnModel_2 = KNeighborsClassifier(n_neighbors = 5, metric = 'euclidean').fit(Training_CurrentFold , TrainingFold_Label)\n",
    "    \n",
    "    c3 = 'knnscore_Fold%d = knnModel_2.score(Validation_CurrentFold , ValidationFold_Label)'%(i+1)\n",
    "    exec(c3)\n",
    "        \n",
    "    Add += knnModel_2.score(Validation_CurrentFold, ValidationFold_Label)\n",
    "    Divide += 1\n",
    "    \n",
    "Avg_accuracy = Add/Divide\n",
    "\n",
    "print('[Result of K-fold Cross Validation] \\n')\n",
    "print(' Fold 1: {:.2f}% \\n Fold 2: {:.2f}% \\n Fold 3: {:.2f}% \\n'.\n",
    "        format(knnscore_Fold1*100, knnscore_Fold2*100, knnscore_Fold3*100))\n",
    "print(' Average accuracy: {:.2f}%'.format(Avg_accuracy*100))"
   ]
  },
  {
   "cell_type": "markdown",
   "metadata": {},
   "source": [
    "### KNN Model 3 K-fold 교차검증"
   ]
  },
  {
   "cell_type": "code",
   "execution_count": 23,
   "metadata": {},
   "outputs": [
    {
     "name": "stdout",
     "output_type": "stream",
     "text": [
      "[Result of K-fold Cross Validation] \n",
      "\n",
      " Fold 1: 100.00% \n",
      " Fold 2: 100.00% \n",
      " Fold 3: 100.00% \n",
      "\n",
      " Average accuracy: 100.00%\n"
     ]
    }
   ],
   "source": [
    "Add    = 0\n",
    "Divide = 0\n",
    "\n",
    "for i in range(Fold):\n",
    "    c1 = 'Training_CurrentFold = Training_Fold%d'%(i+1)\n",
    "    exec(c1)\n",
    "    c2 = 'Validation_CurrentFold = Validation_Fold%d'%(i+1)\n",
    "    exec(c2)    \n",
    "\n",
    "    knnModel_3 = KNeighborsClassifier(n_neighbors = 3, metric = 'manhattan').fit(Training_CurrentFold , TrainingFold_Label)\n",
    "    \n",
    "    c3 = 'knnscore_Fold%d = knnModel_3.score(Validation_CurrentFold , ValidationFold_Label)'%(i+1)\n",
    "    exec(c3)\n",
    "        \n",
    "    Add += knnModel_3.score(Validation_CurrentFold, ValidationFold_Label)\n",
    "    Divide += 1\n",
    "    \n",
    "Avg_accuracy = Add/Divide\n",
    "\n",
    "print('[Result of K-fold Cross Validation] \\n')\n",
    "print(' Fold 1: {:.2f}% \\n Fold 2: {:.2f}% \\n Fold 3: {:.2f}% \\n'.\n",
    "        format(knnscore_Fold1*100, knnscore_Fold2*100, knnscore_Fold3*100))\n",
    "print(' Average accuracy: {:.2f}%'.format(Avg_accuracy*100))"
   ]
  },
  {
   "cell_type": "markdown",
   "metadata": {},
   "source": [
    "### KNN Model 4 K-fold 교차검증"
   ]
  },
  {
   "cell_type": "code",
   "execution_count": 24,
   "metadata": {},
   "outputs": [
    {
     "name": "stdout",
     "output_type": "stream",
     "text": [
      "[Result of K-fold Cross Validation] \n",
      "\n",
      " Fold 1: 98.75% \n",
      " Fold 2: 100.00% \n",
      " Fold 3: 100.00% \n",
      "\n",
      " Average accuracy: 99.58%\n"
     ]
    }
   ],
   "source": [
    "Add    = 0\n",
    "Divide = 0\n",
    "\n",
    "for i in range(Fold):\n",
    "    c1 = 'Training_CurrentFold = Training_Fold%d'%(i+1)\n",
    "    exec(c1)\n",
    "    c2 = 'Validation_CurrentFold = Validation_Fold%d'%(i+1)\n",
    "    exec(c2)    \n",
    "\n",
    "    knnModel_4= KNeighborsClassifier(n_neighbors = 5, metric = 'manhattan').fit(Training_CurrentFold , TrainingFold_Label)\n",
    "    \n",
    "    c3 = 'knnscore_Fold%d = knnModel_4.score(Validation_CurrentFold , ValidationFold_Label)'%(i+1)\n",
    "    exec(c3)\n",
    "        \n",
    "    Add += knnModel_4.score(Validation_CurrentFold, ValidationFold_Label)\n",
    "    Divide += 1\n",
    "    \n",
    "Avg_accuracy = Add/Divide\n",
    "\n",
    "print('[Result of K-fold Cross Validation] \\n')\n",
    "print(' Fold 1: {:.2f}% \\n Fold 2: {:.2f}% \\n Fold 3: {:.2f}% \\n'.\n",
    "        format(knnscore_Fold1*100, knnscore_Fold2*100, knnscore_Fold3*100))\n",
    "print(' Average accuracy: {:.2f}%'.format(Avg_accuracy*100))"
   ]
  },
  {
   "cell_type": "markdown",
   "metadata": {},
   "source": [
    "### SVM Model 1 K-fold 교차검증"
   ]
  },
  {
   "cell_type": "code",
   "execution_count": 25,
   "metadata": {},
   "outputs": [
    {
     "name": "stdout",
     "output_type": "stream",
     "text": [
      "[Result of K-fold Cross Validation] \n",
      "\n",
      " Fold 1: 98.75% \n",
      " Fold 2: 100.00% \n",
      " Fold 3: 98.75%\n",
      "\n",
      " Average accuracy: 99.17%\n"
     ]
    }
   ],
   "source": [
    "Add    = 0\n",
    "Divide = 0\n",
    "\n",
    "for i in range(Fold):\n",
    "    c1 = 'Training_CurrentFold = Training_Fold%d'%(i+1)\n",
    "    exec(c1)\n",
    "    c2 = 'Validation_CurrentFold = Validation_Fold%d'%(i+1)\n",
    "    exec(c2)    \n",
    "    \n",
    "    svmModel_1 = svm.SVC(kernel = 'rbf', C = 1)\n",
    "    svmModel_1.fit(Training_CurrentFold , TrainingFold_Label)\n",
    "    Predicted = np.array(svmModel_1.predict(Validation_CurrentFold))\n",
    "    \n",
    "    c3 = 'svmscore_Fold%d = metrics.accuracy_score(ValidationFold_Label , Predicted)'%(i+1)\n",
    "    exec(c3)\n",
    "        \n",
    "    Add += metrics.accuracy_score(ValidationFold_Label , Predicted)\n",
    "    Divide += 1\n",
    "    \n",
    "Avg_accuracy = Add/Divide\n",
    "\n",
    "print('[Result of K-fold Cross Validation] \\n')\n",
    "print(' Fold 1: {:.2f}% \\n Fold 2: {:.2f}% \\n Fold 3: {:.2f}%'.\n",
    "        format(svmscore_Fold1*100, svmscore_Fold2*100, svmscore_Fold3*100))\n",
    "print('\\n Average accuracy: {:.2f}%'.format(Avg_accuracy*100))"
   ]
  },
  {
   "cell_type": "markdown",
   "metadata": {},
   "source": [
    "### SVM Model 2 K-fold 교차검증"
   ]
  },
  {
   "cell_type": "code",
   "execution_count": 26,
   "metadata": {},
   "outputs": [
    {
     "name": "stdout",
     "output_type": "stream",
     "text": [
      "[Result of K-fold Cross Validation] \n",
      "\n",
      " Fold 1: 98.75% \n",
      " Fold 2: 100.00% \n",
      " Fold 3: 98.75%\n",
      "\n",
      " Average accuracy: 99.17%\n"
     ]
    }
   ],
   "source": [
    "Add    = 0\n",
    "Divide = 0\n",
    "\n",
    "for i in range(Fold):\n",
    "    c1 = 'Training_CurrentFold = Training_Fold%d'%(i+1)\n",
    "    exec(c1)\n",
    "    c2 = 'Validation_CurrentFold = Validation_Fold%d'%(i+1)\n",
    "    exec(c2)    \n",
    "    \n",
    "    svmModel_2 = svm.SVC(kernel = 'rbf', C = 10)\n",
    "    svmModel_2.fit(Training_CurrentFold , TrainingFold_Label)\n",
    "    Predicted = np.array(svmModel_2.predict(Validation_CurrentFold))\n",
    "    \n",
    "    c3 = 'svmscore_Fold%d = metrics.accuracy_score(ValidationFold_Label , Predicted)'%(i+1)\n",
    "    exec(c3)\n",
    "        \n",
    "    Add += metrics.accuracy_score(ValidationFold_Label , Predicted)\n",
    "    Divide += 1\n",
    "    \n",
    "Avg_accuracy = Add/Divide\n",
    "\n",
    "print('[Result of K-fold Cross Validation] \\n')\n",
    "print(' Fold 1: {:.2f}% \\n Fold 2: {:.2f}% \\n Fold 3: {:.2f}%'.\n",
    "        format(svmscore_Fold1*100, svmscore_Fold2*100, svmscore_Fold3*100))\n",
    "print('\\n Average accuracy: {:.2f}%'.format(Avg_accuracy*100))"
   ]
  },
  {
   "cell_type": "markdown",
   "metadata": {},
   "source": [
    "### SVM Model 3 K-fold 교차검증"
   ]
  },
  {
   "cell_type": "code",
   "execution_count": 27,
   "metadata": {},
   "outputs": [
    {
     "name": "stdout",
     "output_type": "stream",
     "text": [
      "[Result of K-fold Cross Validation] \n",
      "\n",
      " Fold 1: 100.00% \n",
      " Fold 2: 100.00% \n",
      " Fold 3: 98.75%\n",
      "\n",
      " Average accuracy: 99.58%\n"
     ]
    }
   ],
   "source": [
    "Add    = 0\n",
    "Divide = 0\n",
    "\n",
    "for i in range(Fold):\n",
    "    c1 = 'Training_CurrentFold = Training_Fold%d'%(i+1)\n",
    "    exec(c1)\n",
    "    c2 = 'Validation_CurrentFold = Validation_Fold%d'%(i+1)\n",
    "    exec(c2)    \n",
    "    \n",
    "    svmModel_3 = svm.SVC(kernel = 'linear', C = 1)\n",
    "    svmModel_3.fit(Training_CurrentFold , TrainingFold_Label)\n",
    "    Predicted = np.array(svmModel_3.predict(Validation_CurrentFold))\n",
    "    \n",
    "    c3 = 'svmscore_Fold%d = metrics.accuracy_score(ValidationFold_Label , Predicted)'%(i+1)\n",
    "    exec(c3)\n",
    "        \n",
    "    Add += metrics.accuracy_score(ValidationFold_Label , Predicted)\n",
    "    Divide += 1\n",
    "    \n",
    "Avg_accuracy = Add/Divide\n",
    "\n",
    "print('[Result of K-fold Cross Validation] \\n')\n",
    "print(' Fold 1: {:.2f}% \\n Fold 2: {:.2f}% \\n Fold 3: {:.2f}%'.\n",
    "        format(svmscore_Fold1*100, svmscore_Fold2*100, svmscore_Fold3*100))\n",
    "print('\\n Average accuracy: {:.2f}%'.format(Avg_accuracy*100))"
   ]
  },
  {
   "cell_type": "markdown",
   "metadata": {},
   "source": [
    "### SVM Model 4 K-fold 교차검증"
   ]
  },
  {
   "cell_type": "code",
   "execution_count": 28,
   "metadata": {},
   "outputs": [
    {
     "name": "stdout",
     "output_type": "stream",
     "text": [
      "[Result of K-fold Cross Validation] \n",
      "\n",
      " Fold 1: 100.00% \n",
      " Fold 2: 100.00% \n",
      " Fold 3: 98.75%\n",
      "\n",
      " Average accuracy: 99.58%\n"
     ]
    }
   ],
   "source": [
    "Add    = 0\n",
    "Divide = 0\n",
    "\n",
    "for i in range(Fold):\n",
    "    c1 = 'Training_CurrentFold = Training_Fold%d'%(i+1)\n",
    "    exec(c1)\n",
    "    c2 = 'Validation_CurrentFold = Validation_Fold%d'%(i+1)\n",
    "    exec(c2)    \n",
    "    \n",
    "    svmModel_4 = svm.SVC(kernel = 'linear', C = 10)\n",
    "    svmModel_4.fit(Training_CurrentFold , TrainingFold_Label)\n",
    "    Predicted = np.array(svmModel_4.predict(Validation_CurrentFold))\n",
    "    \n",
    "    c3 = 'svmscore_Fold%d = metrics.accuracy_score(ValidationFold_Label , Predicted)'%(i+1)\n",
    "    exec(c3)\n",
    "        \n",
    "    Add += metrics.accuracy_score(ValidationFold_Label , Predicted)\n",
    "    Divide += 1\n",
    "    \n",
    "Avg_accuracy = Add/Divide\n",
    "\n",
    "print('[Result of K-fold Cross Validation] \\n')\n",
    "print(' Fold 1: {:.2f}% \\n Fold 2: {:.2f}% \\n Fold 3: {:.2f}%'.\n",
    "        format(svmscore_Fold1*100, svmscore_Fold2*100, svmscore_Fold3*100))\n",
    "print('\\n Average accuracy: {:.2f}%'.format(Avg_accuracy*100))"
   ]
  },
  {
   "cell_type": "markdown",
   "metadata": {},
   "source": [
    "### 전체 데이터로 학습"
   ]
  },
  {
   "cell_type": "code",
   "execution_count": 29,
   "metadata": {},
   "outputs": [],
   "source": [
    "FinalModel = KNeighborsClassifier(n_neighbors = 3, metric = 'manhattan').fit(Training_All , Training_All_Label)"
   ]
  },
  {
   "cell_type": "markdown",
   "metadata": {},
   "source": [
    "### 4단계 결과물 제출용 데이터 파일로 저장 (수강생 번호 외 코드수정X)\n",
    "\n",
    "- 변수 이름 가이드에 맞게 지정됐는지 재확인 요망"
   ]
  },
  {
   "cell_type": "code",
   "execution_count": 30,
   "metadata": {},
   "outputs": [],
   "source": [
    "StudentNo = 136   # 수강생 번호 입력\n",
    "\n",
    "# 아래는 수정 금지\n",
    "joblib.dump(FinalModel, './Result/ST%d_MC4.plk'%(StudentNo));"
   ]
  },
  {
   "cell_type": "markdown",
   "metadata": {},
   "source": [
    ".\n",
    "\n",
    ".\n",
    "\n",
    "."
   ]
  },
  {
   "cell_type": "markdown",
   "metadata": {},
   "source": [
    "# [최종] 해당 코드 파일을 .py 확장자로 변환\n",
    "\n",
    "### 1. 해당 코드 파일명의 마지막에 본인 수강생 번호로 변경(ex: 수강생 번호 13번일 경우, MachineLearning_Challenge_ST-13)\n",
    "### 2. 메뉴바에서 File > Download as > Python (.py) 선택하여 .py 확장자로 변환\n",
    "### 3. Download 폴더에서 저장되어 있는 .py 파일을 Result 폴더에 넣기"
   ]
  },
  {
   "cell_type": "markdown",
   "metadata": {
    "id": "dKykRphzSBVr"
   },
   "source": [
    "# ● 결과가 저장된 폴더(Result) 내의 모든 파일을 하나의 zip파일로 제출\n",
    "> #### 압축파일 이름 ST(수강생번호)_MC.zip (예시: 한 자리 수 'ST0_MC', 두 자리 수 'ST00_MC', 세 자리 수 'ST000_MC',)"
   ]
  }
 ],
 "metadata": {
  "kernelspec": {
   "display_name": "Python 3 (ipykernel)",
   "language": "python",
   "name": "python3"
  },
  "language_info": {
   "codemirror_mode": {
    "name": "ipython",
    "version": 3
   },
   "file_extension": ".py",
   "mimetype": "text/x-python",
   "name": "python",
   "nbconvert_exporter": "python",
   "pygments_lexer": "ipython3",
   "version": "3.9.12"
  }
 },
 "nbformat": 4,
 "nbformat_minor": 4
}
