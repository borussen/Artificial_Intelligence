{
 "cells": [
  {
   "cell_type": "markdown",
   "id": "13536faa",
   "metadata": {},
   "source": [
    "이전 두 시즌의 통계적 수치를 입력 변수로 사용하여 NBA 선수들의 연봉을 예측하는 인공지능 모델을 구축하는 프로젝트"
   ]
  },
  {
   "cell_type": "markdown",
   "id": "e0db4801",
   "metadata": {},
   "source": [
    "## Import packages and data"
   ]
  },
  {
   "cell_type": "markdown",
   "id": "24fcd313",
   "metadata": {},
   "source": [
    "해당 프로젝트에서는 2020/21 시즌 및 2021/22 시즌 NBA 선수별 통계 기록과 2022/23 시즌 NBA 선수 연봉을 데이터로 활용한다."
   ]
  },
  {
   "cell_type": "code",
   "execution_count": 1,
   "id": "94809f07",
   "metadata": {},
   "outputs": [],
   "source": [
    "# Data Manipulation\n",
    "import pandas as pd\n",
    "pd.options.mode.chained_assignment = None\n",
    "import numpy as np\n",
    "import missingno as msno"
   ]
  },
  {
   "cell_type": "code",
   "execution_count": 2,
   "id": "8593eb3c",
   "metadata": {},
   "outputs": [],
   "source": [
    "# Visualization\n",
    "import matplotlib.pyplot as plt\n",
    "%matplotlib inline\n",
    "import seaborn as sns"
   ]
  },
  {
   "cell_type": "code",
   "execution_count": 3,
   "id": "b80ed3e0",
   "metadata": {},
   "outputs": [],
   "source": [
    "# Machine Learning\n",
    "from sklearn.model_selection import train_test_split, KFold, cross_val_score\n",
    "from sklearn import model_selection, metrics\n",
    "from sklearn.preprocessing import OneHotEncoder, StandardScaler, RobustScaler, MaxAbsScaler\n",
    "from sklearn.decomposition import PCA\n",
    "from sklearn.linear_model import LinearRegression, Ridge, Lasso\n",
    "from sklearn.tree import DecisionTreeRegressor\n",
    "from sklearn.ensemble import GradientBoostingRegressor, RandomForestRegressor, AdaBoostRegressor\n",
    "from xgboost import XGBRegressor\n",
    "from lightgbm import LGBMRegressor"
   ]
  },
  {
   "cell_type": "code",
   "execution_count": 4,
   "id": "f938444c",
   "metadata": {},
   "outputs": [],
   "source": [
    "# Other packages\n",
    "from scipy.stats import norm\n",
    "from scipy import stats"
   ]
  },
  {
   "cell_type": "code",
   "execution_count": 5,
   "id": "4a5f63bb",
   "metadata": {},
   "outputs": [],
   "source": [
    "# Import data\n",
    "df_salary = pd.read_csv('./file/NBA_Player_Salary.csv')\n",
    "df_stats2021 = pd.read_csv('./file/NBA_Player_Stats(2021).csv')\n",
    "df_stats2122 = pd.read_csv('./file/NBA_Player_Stats(2122).csv')\n",
    "df_list = [df_stats2021, df_stats2122, df_salary]"
   ]
  },
  {
   "cell_type": "markdown",
   "id": "6e5f5523",
   "metadata": {},
   "source": [
    "## 1. Data Cleaning"
   ]
  },
  {
   "cell_type": "markdown",
   "id": "480bdc58",
   "metadata": {},
   "source": [
    "데이터셋으로 지정된 파일 각각의 처음 다섯 행을 살펴본다."
   ]
  },
  {
   "cell_type": "code",
   "execution_count": 6,
   "id": "0871eb9c",
   "metadata": {
    "scrolled": true
   },
   "outputs": [
    {
     "data": {
      "text/html": [
       "<div>\n",
       "<style scoped>\n",
       "    .dataframe tbody tr th:only-of-type {\n",
       "        vertical-align: middle;\n",
       "    }\n",
       "\n",
       "    .dataframe tbody tr th {\n",
       "        vertical-align: top;\n",
       "    }\n",
       "\n",
       "    .dataframe thead th {\n",
       "        text-align: right;\n",
       "    }\n",
       "</style>\n",
       "<table border=\"1\" class=\"dataframe\">\n",
       "  <thead>\n",
       "    <tr style=\"text-align: right;\">\n",
       "      <th></th>\n",
       "      <th>Rk</th>\n",
       "      <th>Player</th>\n",
       "      <th>Tm</th>\n",
       "      <th>2022-23</th>\n",
       "      <th>2023-24</th>\n",
       "      <th>2024-25</th>\n",
       "      <th>2025-26</th>\n",
       "      <th>2026-27</th>\n",
       "      <th>2027-28</th>\n",
       "      <th>Signed Using</th>\n",
       "      <th>Guaranteed</th>\n",
       "    </tr>\n",
       "  </thead>\n",
       "  <tbody>\n",
       "    <tr>\n",
       "      <th>0</th>\n",
       "      <td>1</td>\n",
       "      <td>Stephen Curry</td>\n",
       "      <td>GSW</td>\n",
       "      <td>48070014.0</td>\n",
       "      <td>51915615.0</td>\n",
       "      <td>55761216.0</td>\n",
       "      <td>59606817.0</td>\n",
       "      <td>NaN</td>\n",
       "      <td>NaN</td>\n",
       "      <td>Bird</td>\n",
       "      <td>$215,353,662</td>\n",
       "    </tr>\n",
       "    <tr>\n",
       "      <th>1</th>\n",
       "      <td>2</td>\n",
       "      <td>Russell Westbrook</td>\n",
       "      <td>LAL</td>\n",
       "      <td>47063478.0</td>\n",
       "      <td>NaN</td>\n",
       "      <td>NaN</td>\n",
       "      <td>NaN</td>\n",
       "      <td>NaN</td>\n",
       "      <td>NaN</td>\n",
       "      <td>Bird Rights</td>\n",
       "      <td>$47,063,478</td>\n",
       "    </tr>\n",
       "    <tr>\n",
       "      <th>2</th>\n",
       "      <td>3</td>\n",
       "      <td>LeBron James</td>\n",
       "      <td>LAL</td>\n",
       "      <td>44474988.0</td>\n",
       "      <td>NaN</td>\n",
       "      <td>NaN</td>\n",
       "      <td>NaN</td>\n",
       "      <td>NaN</td>\n",
       "      <td>NaN</td>\n",
       "      <td>Bird</td>\n",
       "      <td>$44,474,988</td>\n",
       "    </tr>\n",
       "    <tr>\n",
       "      <th>3</th>\n",
       "      <td>4</td>\n",
       "      <td>Kevin Durant</td>\n",
       "      <td>BRK</td>\n",
       "      <td>44119845.0</td>\n",
       "      <td>47649433.0</td>\n",
       "      <td>51179021.0</td>\n",
       "      <td>54708609.0</td>\n",
       "      <td>NaN</td>\n",
       "      <td>NaN</td>\n",
       "      <td>Bird</td>\n",
       "      <td>$197,656,908</td>\n",
       "    </tr>\n",
       "    <tr>\n",
       "      <th>4</th>\n",
       "      <td>5</td>\n",
       "      <td>Bradley Beal</td>\n",
       "      <td>WAS</td>\n",
       "      <td>43279250.0</td>\n",
       "      <td>46741590.0</td>\n",
       "      <td>50203930.0</td>\n",
       "      <td>53666270.0</td>\n",
       "      <td>57128610.0</td>\n",
       "      <td>NaN</td>\n",
       "      <td>Bird</td>\n",
       "      <td>$193,891,040</td>\n",
       "    </tr>\n",
       "  </tbody>\n",
       "</table>\n",
       "</div>"
      ],
      "text/plain": [
       "   Rk             Player   Tm     2022-23     2023-24     2024-25     2025-26  \\\n",
       "0   1      Stephen Curry  GSW  48070014.0  51915615.0  55761216.0  59606817.0   \n",
       "1   2  Russell Westbrook  LAL  47063478.0         NaN         NaN         NaN   \n",
       "2   3       LeBron James  LAL  44474988.0         NaN         NaN         NaN   \n",
       "3   4       Kevin Durant  BRK  44119845.0  47649433.0  51179021.0  54708609.0   \n",
       "4   5       Bradley Beal  WAS  43279250.0  46741590.0  50203930.0  53666270.0   \n",
       "\n",
       "      2026-27  2027-28 Signed Using     Guaranteed  \n",
       "0         NaN      NaN         Bird  $215,353,662   \n",
       "1         NaN      NaN  Bird Rights   $47,063,478   \n",
       "2         NaN      NaN         Bird   $44,474,988   \n",
       "3         NaN      NaN         Bird  $197,656,908   \n",
       "4  57128610.0      NaN         Bird  $193,891,040   "
      ]
     },
     "execution_count": 6,
     "metadata": {},
     "output_type": "execute_result"
    }
   ],
   "source": [
    "# Salary\n",
    "df_salary.head()"
   ]
  },
  {
   "cell_type": "code",
   "execution_count": 7,
   "id": "fd1508cd",
   "metadata": {},
   "outputs": [
    {
     "data": {
      "text/html": [
       "<div>\n",
       "<style scoped>\n",
       "    .dataframe tbody tr th:only-of-type {\n",
       "        vertical-align: middle;\n",
       "    }\n",
       "\n",
       "    .dataframe tbody tr th {\n",
       "        vertical-align: top;\n",
       "    }\n",
       "\n",
       "    .dataframe thead th {\n",
       "        text-align: right;\n",
       "    }\n",
       "</style>\n",
       "<table border=\"1\" class=\"dataframe\">\n",
       "  <thead>\n",
       "    <tr style=\"text-align: right;\">\n",
       "      <th></th>\n",
       "      <th>Rk</th>\n",
       "      <th>Player</th>\n",
       "      <th>Pos</th>\n",
       "      <th>Age</th>\n",
       "      <th>Tm</th>\n",
       "      <th>G</th>\n",
       "      <th>GS</th>\n",
       "      <th>MP</th>\n",
       "      <th>FG</th>\n",
       "      <th>FGA</th>\n",
       "      <th>...</th>\n",
       "      <th>TOV%</th>\n",
       "      <th>USG%</th>\n",
       "      <th>OWS</th>\n",
       "      <th>DWS</th>\n",
       "      <th>WS</th>\n",
       "      <th>WS/48</th>\n",
       "      <th>OBPM</th>\n",
       "      <th>DBPM</th>\n",
       "      <th>BPM</th>\n",
       "      <th>VORP</th>\n",
       "    </tr>\n",
       "  </thead>\n",
       "  <tbody>\n",
       "    <tr>\n",
       "      <th>0</th>\n",
       "      <td>1</td>\n",
       "      <td>Precious Achiuwa</td>\n",
       "      <td>PF</td>\n",
       "      <td>21</td>\n",
       "      <td>MIA</td>\n",
       "      <td>61</td>\n",
       "      <td>4</td>\n",
       "      <td>737</td>\n",
       "      <td>124</td>\n",
       "      <td>228</td>\n",
       "      <td>...</td>\n",
       "      <td>13.5</td>\n",
       "      <td>19.5</td>\n",
       "      <td>0.3</td>\n",
       "      <td>1.0</td>\n",
       "      <td>1.3</td>\n",
       "      <td>0.085</td>\n",
       "      <td>-3.6</td>\n",
       "      <td>-0.5</td>\n",
       "      <td>-4.1</td>\n",
       "      <td>-0.4</td>\n",
       "    </tr>\n",
       "    <tr>\n",
       "      <th>1</th>\n",
       "      <td>2</td>\n",
       "      <td>Jaylen Adams</td>\n",
       "      <td>PG</td>\n",
       "      <td>24</td>\n",
       "      <td>MIL</td>\n",
       "      <td>7</td>\n",
       "      <td>0</td>\n",
       "      <td>18</td>\n",
       "      <td>1</td>\n",
       "      <td>8</td>\n",
       "      <td>...</td>\n",
       "      <td>0.0</td>\n",
       "      <td>18.6</td>\n",
       "      <td>-0.1</td>\n",
       "      <td>0.0</td>\n",
       "      <td>-0.1</td>\n",
       "      <td>-0.252</td>\n",
       "      <td>-15.1</td>\n",
       "      <td>-4.6</td>\n",
       "      <td>-19.8</td>\n",
       "      <td>-0.1</td>\n",
       "    </tr>\n",
       "    <tr>\n",
       "      <th>2</th>\n",
       "      <td>3</td>\n",
       "      <td>Steven Adams</td>\n",
       "      <td>C</td>\n",
       "      <td>27</td>\n",
       "      <td>NOP</td>\n",
       "      <td>58</td>\n",
       "      <td>58</td>\n",
       "      <td>1605</td>\n",
       "      <td>189</td>\n",
       "      <td>308</td>\n",
       "      <td>...</td>\n",
       "      <td>17.5</td>\n",
       "      <td>11.7</td>\n",
       "      <td>2.3</td>\n",
       "      <td>1.7</td>\n",
       "      <td>4.0</td>\n",
       "      <td>0.119</td>\n",
       "      <td>-0.4</td>\n",
       "      <td>0.1</td>\n",
       "      <td>-0.3</td>\n",
       "      <td>0.7</td>\n",
       "    </tr>\n",
       "    <tr>\n",
       "      <th>3</th>\n",
       "      <td>4</td>\n",
       "      <td>Bam Adebayo</td>\n",
       "      <td>C</td>\n",
       "      <td>23</td>\n",
       "      <td>MIA</td>\n",
       "      <td>64</td>\n",
       "      <td>64</td>\n",
       "      <td>2143</td>\n",
       "      <td>456</td>\n",
       "      <td>800</td>\n",
       "      <td>...</td>\n",
       "      <td>15.0</td>\n",
       "      <td>23.7</td>\n",
       "      <td>5.6</td>\n",
       "      <td>3.2</td>\n",
       "      <td>8.8</td>\n",
       "      <td>0.197</td>\n",
       "      <td>2.9</td>\n",
       "      <td>2.0</td>\n",
       "      <td>4.9</td>\n",
       "      <td>3.7</td>\n",
       "    </tr>\n",
       "    <tr>\n",
       "      <th>4</th>\n",
       "      <td>5</td>\n",
       "      <td>LaMarcus Aldridge</td>\n",
       "      <td>C</td>\n",
       "      <td>35</td>\n",
       "      <td>TOT</td>\n",
       "      <td>26</td>\n",
       "      <td>23</td>\n",
       "      <td>674</td>\n",
       "      <td>140</td>\n",
       "      <td>296</td>\n",
       "      <td>...</td>\n",
       "      <td>7.9</td>\n",
       "      <td>22.2</td>\n",
       "      <td>0.5</td>\n",
       "      <td>0.6</td>\n",
       "      <td>1.1</td>\n",
       "      <td>0.080</td>\n",
       "      <td>-0.2</td>\n",
       "      <td>-0.2</td>\n",
       "      <td>-0.3</td>\n",
       "      <td>0.3</td>\n",
       "    </tr>\n",
       "  </tbody>\n",
       "</table>\n",
       "<p>5 rows × 50 columns</p>\n",
       "</div>"
      ],
      "text/plain": [
       "   Rk             Player Pos  Age   Tm   G  GS    MP   FG  FGA  ...  TOV%  \\\n",
       "0   1   Precious Achiuwa  PF   21  MIA  61   4   737  124  228  ...  13.5   \n",
       "1   2       Jaylen Adams  PG   24  MIL   7   0    18    1    8  ...   0.0   \n",
       "2   3       Steven Adams   C   27  NOP  58  58  1605  189  308  ...  17.5   \n",
       "3   4        Bam Adebayo   C   23  MIA  64  64  2143  456  800  ...  15.0   \n",
       "4   5  LaMarcus Aldridge   C   35  TOT  26  23   674  140  296  ...   7.9   \n",
       "\n",
       "   USG%  OWS  DWS   WS  WS/48  OBPM  DBPM   BPM  VORP  \n",
       "0  19.5  0.3  1.0  1.3  0.085  -3.6  -0.5  -4.1  -0.4  \n",
       "1  18.6 -0.1  0.0 -0.1 -0.252 -15.1  -4.6 -19.8  -0.1  \n",
       "2  11.7  2.3  1.7  4.0  0.119  -0.4   0.1  -0.3   0.7  \n",
       "3  23.7  5.6  3.2  8.8  0.197   2.9   2.0   4.9   3.7  \n",
       "4  22.2  0.5  0.6  1.1  0.080  -0.2  -0.2  -0.3   0.3  \n",
       "\n",
       "[5 rows x 50 columns]"
      ]
     },
     "execution_count": 7,
     "metadata": {},
     "output_type": "execute_result"
    }
   ],
   "source": [
    "# Season Stats 20/21\n",
    "df_stats2021.head()"
   ]
  },
  {
   "cell_type": "code",
   "execution_count": 8,
   "id": "e091fdc3",
   "metadata": {},
   "outputs": [
    {
     "data": {
      "text/html": [
       "<div>\n",
       "<style scoped>\n",
       "    .dataframe tbody tr th:only-of-type {\n",
       "        vertical-align: middle;\n",
       "    }\n",
       "\n",
       "    .dataframe tbody tr th {\n",
       "        vertical-align: top;\n",
       "    }\n",
       "\n",
       "    .dataframe thead th {\n",
       "        text-align: right;\n",
       "    }\n",
       "</style>\n",
       "<table border=\"1\" class=\"dataframe\">\n",
       "  <thead>\n",
       "    <tr style=\"text-align: right;\">\n",
       "      <th></th>\n",
       "      <th>Rk</th>\n",
       "      <th>Player</th>\n",
       "      <th>Pos</th>\n",
       "      <th>Age</th>\n",
       "      <th>Tm</th>\n",
       "      <th>G</th>\n",
       "      <th>GS</th>\n",
       "      <th>MP</th>\n",
       "      <th>FG</th>\n",
       "      <th>FGA</th>\n",
       "      <th>...</th>\n",
       "      <th>TOV%</th>\n",
       "      <th>USG%</th>\n",
       "      <th>OWS</th>\n",
       "      <th>DWS</th>\n",
       "      <th>WS</th>\n",
       "      <th>WS/48</th>\n",
       "      <th>OBPM</th>\n",
       "      <th>DBPM</th>\n",
       "      <th>BPM</th>\n",
       "      <th>VORP</th>\n",
       "    </tr>\n",
       "  </thead>\n",
       "  <tbody>\n",
       "    <tr>\n",
       "      <th>0</th>\n",
       "      <td>1</td>\n",
       "      <td>Precious Achiuwa</td>\n",
       "      <td>C</td>\n",
       "      <td>22</td>\n",
       "      <td>TOR</td>\n",
       "      <td>73</td>\n",
       "      <td>28</td>\n",
       "      <td>1725</td>\n",
       "      <td>265</td>\n",
       "      <td>603</td>\n",
       "      <td>...</td>\n",
       "      <td>11.3</td>\n",
       "      <td>18.5</td>\n",
       "      <td>0.4</td>\n",
       "      <td>2.1</td>\n",
       "      <td>2.5</td>\n",
       "      <td>0.070</td>\n",
       "      <td>-2.0</td>\n",
       "      <td>-0.6</td>\n",
       "      <td>-2.6</td>\n",
       "      <td>-0.2</td>\n",
       "    </tr>\n",
       "    <tr>\n",
       "      <th>1</th>\n",
       "      <td>2</td>\n",
       "      <td>Steven Adams</td>\n",
       "      <td>C</td>\n",
       "      <td>28</td>\n",
       "      <td>MEM</td>\n",
       "      <td>76</td>\n",
       "      <td>75</td>\n",
       "      <td>1999</td>\n",
       "      <td>210</td>\n",
       "      <td>384</td>\n",
       "      <td>...</td>\n",
       "      <td>19.6</td>\n",
       "      <td>12.0</td>\n",
       "      <td>3.8</td>\n",
       "      <td>3.0</td>\n",
       "      <td>6.8</td>\n",
       "      <td>0.163</td>\n",
       "      <td>1.0</td>\n",
       "      <td>1.0</td>\n",
       "      <td>2.0</td>\n",
       "      <td>2.0</td>\n",
       "    </tr>\n",
       "    <tr>\n",
       "      <th>2</th>\n",
       "      <td>3</td>\n",
       "      <td>Bam Adebayo</td>\n",
       "      <td>C</td>\n",
       "      <td>24</td>\n",
       "      <td>MIA</td>\n",
       "      <td>56</td>\n",
       "      <td>56</td>\n",
       "      <td>1825</td>\n",
       "      <td>406</td>\n",
       "      <td>729</td>\n",
       "      <td>...</td>\n",
       "      <td>14.4</td>\n",
       "      <td>25.0</td>\n",
       "      <td>3.6</td>\n",
       "      <td>3.5</td>\n",
       "      <td>7.2</td>\n",
       "      <td>0.188</td>\n",
       "      <td>1.7</td>\n",
       "      <td>2.1</td>\n",
       "      <td>3.8</td>\n",
       "      <td>2.7</td>\n",
       "    </tr>\n",
       "    <tr>\n",
       "      <th>3</th>\n",
       "      <td>4</td>\n",
       "      <td>Santi Aldama</td>\n",
       "      <td>PF</td>\n",
       "      <td>21</td>\n",
       "      <td>MEM</td>\n",
       "      <td>32</td>\n",
       "      <td>0</td>\n",
       "      <td>360</td>\n",
       "      <td>53</td>\n",
       "      <td>132</td>\n",
       "      <td>...</td>\n",
       "      <td>9.9</td>\n",
       "      <td>18.4</td>\n",
       "      <td>-0.1</td>\n",
       "      <td>0.4</td>\n",
       "      <td>0.3</td>\n",
       "      <td>0.044</td>\n",
       "      <td>-4.2</td>\n",
       "      <td>-1.5</td>\n",
       "      <td>-5.7</td>\n",
       "      <td>-0.3</td>\n",
       "    </tr>\n",
       "    <tr>\n",
       "      <th>4</th>\n",
       "      <td>5</td>\n",
       "      <td>LaMarcus Aldridge</td>\n",
       "      <td>C</td>\n",
       "      <td>36</td>\n",
       "      <td>BRK</td>\n",
       "      <td>47</td>\n",
       "      <td>12</td>\n",
       "      <td>1050</td>\n",
       "      <td>252</td>\n",
       "      <td>458</td>\n",
       "      <td>...</td>\n",
       "      <td>8.0</td>\n",
       "      <td>22.4</td>\n",
       "      <td>2.1</td>\n",
       "      <td>1.0</td>\n",
       "      <td>3.1</td>\n",
       "      <td>0.141</td>\n",
       "      <td>1.3</td>\n",
       "      <td>-0.6</td>\n",
       "      <td>0.7</td>\n",
       "      <td>0.7</td>\n",
       "    </tr>\n",
       "  </tbody>\n",
       "</table>\n",
       "<p>5 rows × 50 columns</p>\n",
       "</div>"
      ],
      "text/plain": [
       "   Rk             Player Pos  Age   Tm   G  GS    MP   FG  FGA  ...  TOV%  \\\n",
       "0   1   Precious Achiuwa   C   22  TOR  73  28  1725  265  603  ...  11.3   \n",
       "1   2       Steven Adams   C   28  MEM  76  75  1999  210  384  ...  19.6   \n",
       "2   3        Bam Adebayo   C   24  MIA  56  56  1825  406  729  ...  14.4   \n",
       "3   4       Santi Aldama  PF   21  MEM  32   0   360   53  132  ...   9.9   \n",
       "4   5  LaMarcus Aldridge   C   36  BRK  47  12  1050  252  458  ...   8.0   \n",
       "\n",
       "   USG%  OWS  DWS   WS  WS/48  OBPM  DBPM  BPM  VORP  \n",
       "0  18.5  0.4  2.1  2.5  0.070  -2.0  -0.6 -2.6  -0.2  \n",
       "1  12.0  3.8  3.0  6.8  0.163   1.0   1.0  2.0   2.0  \n",
       "2  25.0  3.6  3.5  7.2  0.188   1.7   2.1  3.8   2.7  \n",
       "3  18.4 -0.1  0.4  0.3  0.044  -4.2  -1.5 -5.7  -0.3  \n",
       "4  22.4  2.1  1.0  3.1  0.141   1.3  -0.6  0.7   0.7  \n",
       "\n",
       "[5 rows x 50 columns]"
      ]
     },
     "execution_count": 8,
     "metadata": {},
     "output_type": "execute_result"
    }
   ],
   "source": [
    "# Season Stats 21/22\n",
    "df_stats2122.head()"
   ]
  },
  {
   "cell_type": "markdown",
   "id": "81eeb518",
   "metadata": {},
   "source": [
    "2022/23 시즌 선수들의 연봉을 예측하는 것이 프로젝트의 목표이므로 해당 시즌의 연봉에 관한 열을 가공한다."
   ]
  },
  {
   "cell_type": "code",
   "execution_count": 9,
   "id": "673552d2",
   "metadata": {},
   "outputs": [],
   "source": [
    "# Rename salary column\n",
    "df_salary = df_salary.rename(columns = {'2022-23': 'Salary 22/23'})\n",
    "\n",
    "# Transform salary to 1000\n",
    "df_salary['Salary 22/23'] = df_salary['Salary 22/23']/1000"
   ]
  },
  {
   "cell_type": "markdown",
   "id": "8557b028",
   "metadata": {},
   "source": [
    "시즌별 선수 통계 데이터셋에서 동일 플레이어에 대한 중복 행을 삭제한다.\n",
    "* 프로젝트의 목표인 2022/23 시즌 연봉을 구하는 데 있어서 선수가 한 시즌 동안 어느 팀에서 뛰었는 지는 중요한 요소가 아니다.<br>그러므로 해당 시즌 동안 여러 팀에서 뛴 선수들의 행을 하나로 통합한다.  "
   ]
  },
  {
   "cell_type": "code",
   "execution_count": 10,
   "id": "99f69f5a",
   "metadata": {},
   "outputs": [],
   "source": [
    "# As total stats always is in the top row we can simply use the drop_duplicates function\n",
    "df_stats2021 = df_stats2021.drop_duplicates(['Player'])\n",
    "df_stats2122 = df_stats2122.drop_duplicates(['Player'])"
   ]
  },
  {
   "cell_type": "markdown",
   "id": "10deba54",
   "metadata": {},
   "source": [
    "### Merge Datasets"
   ]
  },
  {
   "cell_type": "markdown",
   "id": "43cb25dc",
   "metadata": {},
   "source": [
    "각 시즌별 선수 통계 데이터셋의 모든 열에 해당하는 연도를 할당한다."
   ]
  },
  {
   "cell_type": "code",
   "execution_count": 11,
   "id": "530e5e09",
   "metadata": {},
   "outputs": [],
   "source": [
    "# Add season year to corresponding columns\n",
    "columns_renamed = [s + ' 20/21' for s in list(df_stats2021.columns)]\n",
    "df_stats2021.columns = list(df_stats2021.columns)[:3] + columns_renamed[3:]\n",
    "\n",
    "columns_renamed = [s + ' 21/22' for s in list(df_stats2122.columns)]\n",
    "df_stats2122.columns = list(df_stats2122.columns)[:3] + columns_renamed[3:]\n",
    "\n",
    "# Delete Pos column from 17/18 df; we need it only once\n",
    "df_stats2021 = df_stats2021.drop('Pos', axis = 1)"
   ]
  },
  {
   "cell_type": "code",
   "execution_count": 12,
   "id": "ad2511da",
   "metadata": {},
   "outputs": [
    {
     "data": {
      "text/html": [
       "<div>\n",
       "<style scoped>\n",
       "    .dataframe tbody tr th:only-of-type {\n",
       "        vertical-align: middle;\n",
       "    }\n",
       "\n",
       "    .dataframe tbody tr th {\n",
       "        vertical-align: top;\n",
       "    }\n",
       "\n",
       "    .dataframe thead th {\n",
       "        text-align: right;\n",
       "    }\n",
       "</style>\n",
       "<table border=\"1\" class=\"dataframe\">\n",
       "  <thead>\n",
       "    <tr style=\"text-align: right;\">\n",
       "      <th></th>\n",
       "      <th>Rk_x</th>\n",
       "      <th>Player</th>\n",
       "      <th>Age 20/21</th>\n",
       "      <th>Tm 20/21</th>\n",
       "      <th>G 20/21</th>\n",
       "      <th>GS 20/21</th>\n",
       "      <th>MP 20/21</th>\n",
       "      <th>FG 20/21</th>\n",
       "      <th>FGA 20/21</th>\n",
       "      <th>FG% 20/21</th>\n",
       "      <th>...</th>\n",
       "      <th>Rk</th>\n",
       "      <th>Tm</th>\n",
       "      <th>Salary 22/23</th>\n",
       "      <th>2023-24</th>\n",
       "      <th>2024-25</th>\n",
       "      <th>2025-26</th>\n",
       "      <th>2026-27</th>\n",
       "      <th>2027-28</th>\n",
       "      <th>Signed Using</th>\n",
       "      <th>Guaranteed</th>\n",
       "    </tr>\n",
       "  </thead>\n",
       "  <tbody>\n",
       "    <tr>\n",
       "      <th>0</th>\n",
       "      <td>1.0</td>\n",
       "      <td>Precious Achiuwa</td>\n",
       "      <td>21.0</td>\n",
       "      <td>MIA</td>\n",
       "      <td>61.0</td>\n",
       "      <td>4.0</td>\n",
       "      <td>737.0</td>\n",
       "      <td>124.0</td>\n",
       "      <td>228.0</td>\n",
       "      <td>0.544</td>\n",
       "      <td>...</td>\n",
       "      <td>300.0</td>\n",
       "      <td>TOR</td>\n",
       "      <td>2840.160</td>\n",
       "      <td>4379527.0</td>\n",
       "      <td>NaN</td>\n",
       "      <td>NaN</td>\n",
       "      <td>NaN</td>\n",
       "      <td>NaN</td>\n",
       "      <td>1st Round Pick</td>\n",
       "      <td>$2,840,160</td>\n",
       "    </tr>\n",
       "    <tr>\n",
       "      <th>1</th>\n",
       "      <td>2.0</td>\n",
       "      <td>Jaylen Adams</td>\n",
       "      <td>24.0</td>\n",
       "      <td>MIL</td>\n",
       "      <td>7.0</td>\n",
       "      <td>0.0</td>\n",
       "      <td>18.0</td>\n",
       "      <td>1.0</td>\n",
       "      <td>8.0</td>\n",
       "      <td>0.125</td>\n",
       "      <td>...</td>\n",
       "      <td>NaN</td>\n",
       "      <td>NaN</td>\n",
       "      <td>NaN</td>\n",
       "      <td>NaN</td>\n",
       "      <td>NaN</td>\n",
       "      <td>NaN</td>\n",
       "      <td>NaN</td>\n",
       "      <td>NaN</td>\n",
       "      <td>NaN</td>\n",
       "      <td>NaN</td>\n",
       "    </tr>\n",
       "    <tr>\n",
       "      <th>2</th>\n",
       "      <td>3.0</td>\n",
       "      <td>Steven Adams</td>\n",
       "      <td>27.0</td>\n",
       "      <td>NOP</td>\n",
       "      <td>58.0</td>\n",
       "      <td>58.0</td>\n",
       "      <td>1605.0</td>\n",
       "      <td>189.0</td>\n",
       "      <td>308.0</td>\n",
       "      <td>0.614</td>\n",
       "      <td>...</td>\n",
       "      <td>79.0</td>\n",
       "      <td>MEM</td>\n",
       "      <td>17926.829</td>\n",
       "      <td>NaN</td>\n",
       "      <td>NaN</td>\n",
       "      <td>NaN</td>\n",
       "      <td>NaN</td>\n",
       "      <td>NaN</td>\n",
       "      <td>1st Round Pick</td>\n",
       "      <td>$17,926,829</td>\n",
       "    </tr>\n",
       "    <tr>\n",
       "      <th>3</th>\n",
       "      <td>4.0</td>\n",
       "      <td>Bam Adebayo</td>\n",
       "      <td>23.0</td>\n",
       "      <td>MIA</td>\n",
       "      <td>64.0</td>\n",
       "      <td>64.0</td>\n",
       "      <td>2143.0</td>\n",
       "      <td>456.0</td>\n",
       "      <td>800.0</td>\n",
       "      <td>0.570</td>\n",
       "      <td>...</td>\n",
       "      <td>39.0</td>\n",
       "      <td>MIA</td>\n",
       "      <td>30351.780</td>\n",
       "      <td>32600060.0</td>\n",
       "      <td>34848340.0</td>\n",
       "      <td>37096620.0</td>\n",
       "      <td>NaN</td>\n",
       "      <td>NaN</td>\n",
       "      <td>Bird</td>\n",
       "      <td>$134,896,800</td>\n",
       "    </tr>\n",
       "    <tr>\n",
       "      <th>4</th>\n",
       "      <td>5.0</td>\n",
       "      <td>LaMarcus Aldridge</td>\n",
       "      <td>35.0</td>\n",
       "      <td>TOT</td>\n",
       "      <td>26.0</td>\n",
       "      <td>23.0</td>\n",
       "      <td>674.0</td>\n",
       "      <td>140.0</td>\n",
       "      <td>296.0</td>\n",
       "      <td>0.473</td>\n",
       "      <td>...</td>\n",
       "      <td>NaN</td>\n",
       "      <td>NaN</td>\n",
       "      <td>NaN</td>\n",
       "      <td>NaN</td>\n",
       "      <td>NaN</td>\n",
       "      <td>NaN</td>\n",
       "      <td>NaN</td>\n",
       "      <td>NaN</td>\n",
       "      <td>NaN</td>\n",
       "      <td>NaN</td>\n",
       "    </tr>\n",
       "  </tbody>\n",
       "</table>\n",
       "<p>5 rows × 108 columns</p>\n",
       "</div>"
      ],
      "text/plain": [
       "   Rk_x             Player  Age 20/21 Tm 20/21  G 20/21  GS 20/21  MP 20/21  \\\n",
       "0   1.0   Precious Achiuwa       21.0      MIA     61.0       4.0     737.0   \n",
       "1   2.0       Jaylen Adams       24.0      MIL      7.0       0.0      18.0   \n",
       "2   3.0       Steven Adams       27.0      NOP     58.0      58.0    1605.0   \n",
       "3   4.0        Bam Adebayo       23.0      MIA     64.0      64.0    2143.0   \n",
       "4   5.0  LaMarcus Aldridge       35.0      TOT     26.0      23.0     674.0   \n",
       "\n",
       "   FG 20/21  FGA 20/21  FG% 20/21  ...     Rk   Tm  Salary 22/23     2023-24  \\\n",
       "0     124.0      228.0      0.544  ...  300.0  TOR      2840.160   4379527.0   \n",
       "1       1.0        8.0      0.125  ...    NaN  NaN           NaN         NaN   \n",
       "2     189.0      308.0      0.614  ...   79.0  MEM     17926.829         NaN   \n",
       "3     456.0      800.0      0.570  ...   39.0  MIA     30351.780  32600060.0   \n",
       "4     140.0      296.0      0.473  ...    NaN  NaN           NaN         NaN   \n",
       "\n",
       "      2024-25     2025-26  2026-27  2027-28    Signed Using     Guaranteed  \n",
       "0         NaN         NaN      NaN      NaN  1st Round Pick    $2,840,160   \n",
       "1         NaN         NaN      NaN      NaN             NaN            NaN  \n",
       "2         NaN         NaN      NaN      NaN  1st Round Pick   $17,926,829   \n",
       "3  34848340.0  37096620.0      NaN      NaN            Bird  $134,896,800   \n",
       "4         NaN         NaN      NaN      NaN             NaN            NaN  \n",
       "\n",
       "[5 rows x 108 columns]"
      ]
     },
     "execution_count": 12,
     "metadata": {},
     "output_type": "execute_result"
    }
   ],
   "source": [
    "# Merge datasets\n",
    "df_stats = df_stats2021.merge(df_stats2122, how = 'outer',left_on = ['Player'],right_on = ['Player'])\n",
    "df = df_stats.merge(df_salary, how = 'outer', left_on = ['Player'],right_on = ['Player'])\n",
    "\n",
    "df.head()"
   ]
  },
  {
   "cell_type": "markdown",
   "id": "edf22ea7",
   "metadata": {},
   "source": [
    "데이터셋의 각각의 열에 해당하는 데이터 타입을 확인한다."
   ]
  },
  {
   "cell_type": "code",
   "execution_count": 13,
   "id": "0e4f5bf5",
   "metadata": {},
   "outputs": [
    {
     "data": {
      "text/plain": [
       "Rk_x            float64\n",
       "Player           object\n",
       "Age 20/21       float64\n",
       "Tm 20/21         object\n",
       "G 20/21         float64\n",
       "                 ...   \n",
       "2025-26         float64\n",
       "2026-27         float64\n",
       "2027-28         float64\n",
       "Signed Using     object\n",
       "Guaranteed       object\n",
       "Length: 108, dtype: object"
      ]
     },
     "execution_count": 13,
     "metadata": {},
     "output_type": "execute_result"
    }
   ],
   "source": [
    "df.dtypes"
   ]
  },
  {
   "cell_type": "markdown",
   "id": "f237dcfc",
   "metadata": {},
   "source": [
    "### Drop unnecessary columns"
   ]
  },
  {
   "cell_type": "markdown",
   "id": "20a51aab",
   "metadata": {},
   "source": [
    "앞으로의 프로젝트 과정에서 사용되지 않는 일부 열을 제거한다."
   ]
  },
  {
   "cell_type": "code",
   "execution_count": 14,
   "id": "ba2c00eb",
   "metadata": {},
   "outputs": [
    {
     "data": {
      "text/plain": [
       "Index(['Rk_x', 'Player', 'Age 20/21', 'Tm 20/21', 'G 20/21', 'GS 20/21',\n",
       "       'MP 20/21', 'FG 20/21', 'FGA 20/21', 'FG% 20/21',\n",
       "       ...\n",
       "       'Rk', 'Tm', 'Salary 22/23', '2023-24', '2024-25', '2025-26', '2026-27',\n",
       "       '2027-28', 'Signed Using', 'Guaranteed'],\n",
       "      dtype='object', length=108)"
      ]
     },
     "execution_count": 14,
     "metadata": {},
     "output_type": "execute_result"
    }
   ],
   "source": [
    "# Columns of dataset\n",
    "df.columns"
   ]
  },
  {
   "cell_type": "code",
   "execution_count": 15,
   "id": "a0ddb592",
   "metadata": {},
   "outputs": [],
   "source": [
    "# Drop unnecessary columns\n",
    "df = df.drop(['Rk_x', 'Rk_y', 'Rk', 'Tm', '2023-24', '2024-25', '2025-26', '2026-27', '2027-28',\n",
    "              'Signed Using', 'Guaranteed'], axis = 1)"
   ]
  },
  {
   "cell_type": "markdown",
   "id": "0770a287",
   "metadata": {},
   "source": [
    "### Missing values"
   ]
  },
  {
   "cell_type": "markdown",
   "id": "259bf70b",
   "metadata": {},
   "source": [
    "각 열에 존재하는 결측값을 확인한다."
   ]
  },
  {
   "cell_type": "code",
   "execution_count": 16,
   "id": "cbefdd81",
   "metadata": {},
   "outputs": [
    {
     "data": {
      "text/plain": [
       "Player            0\n",
       "Age 20/21       203\n",
       "Tm 20/21        203\n",
       "G 20/21         203\n",
       "GS 20/21        203\n",
       "               ... \n",
       "OBPM 21/22      139\n",
       "DBPM 21/22      139\n",
       "BPM 21/22       139\n",
       "VORP 21/22      139\n",
       "Salary 22/23    281\n",
       "Length: 97, dtype: int64"
      ]
     },
     "execution_count": 16,
     "metadata": {},
     "output_type": "execute_result"
    }
   ],
   "source": [
    "# Number of missing values for each column\n",
    "df.isnull().sum()"
   ]
  },
  {
   "cell_type": "markdown",
   "id": "2821ba4a",
   "metadata": {},
   "source": [
    "20/21 시즌과 21/22 시즌에 대하여 Salary나 Stat 정보가 없는 행은 제거한다.\n",
    "\n",
    "* 선수들 중 일부는 20/21 시즌이나 21/22 시즌에 출전하지 않았으며, 몇몇 선수들은 21/22 시즌에 대한 계약을 맺지 못했다.<br> 이러한 경우는 연봉을 예측하는 데 있어서 도움이 되지 못하기 때문에 결측값으로 판단하여 제거하는 것이 합리적이다."
   ]
  },
  {
   "cell_type": "code",
   "execution_count": 17,
   "id": "a8cba45a",
   "metadata": {},
   "outputs": [],
   "source": [
    "# Drop rows with NaN\n",
    "# Create Dataframe without stats for season 20/21\n",
    "df1 = df.dropna(subset = ['Salary 22/23', 'PTS 21/22', 'eFG% 21/22'])\n",
    "df1 = df1.reset_index()\n",
    "columns = list(df1.columns)\n",
    "for i in columns:\n",
    "    if '20/21' in i:\n",
    "        df1 = df1.drop([i], axis = 1)\n",
    "df1 = df1.reset_index()\n",
    "\n",
    "# Create Dataframe with stats for season 20/21\n",
    "df2 = df.dropna(subset = ['Salary 22/23', 'PTS 21/22', 'eFG% 21/22', 'PTS 20/21', 'eFG% 20/21'])\n",
    "df2 = df2.reset_index()"
   ]
  },
  {
   "cell_type": "markdown",
   "id": "78f7089d",
   "metadata": {},
   "source": [
    "데이터셋 내에 존재하는 포지션을 확인한다."
   ]
  },
  {
   "cell_type": "code",
   "execution_count": 18,
   "id": "df6d37de",
   "metadata": {},
   "outputs": [
    {
     "name": "stdout",
     "output_type": "stream",
     "text": [
      "['C' 'SG' 'PF' 'SF' 'PG' 'SG-PG' 'PG-SG' 'SF-SG' 'SG-SF' 'C-PF' 'PF-C']\n",
      "['C' 'SG' 'PF' 'SF' 'PG' 'SG-PG' 'PG-SG' 'SF-SG' 'SG-SF' 'C-PF' 'PF-C']\n"
     ]
    }
   ],
   "source": [
    "# Get unique positions\n",
    "print(df1.Pos.unique())\n",
    "print(df2.Pos.unique())"
   ]
  },
  {
   "cell_type": "markdown",
   "id": "68044e2e",
   "metadata": {},
   "source": [
    "5개의 포지션: PG, SG , PF, SF, C으로 간소화하여 분류한다."
   ]
  },
  {
   "cell_type": "code",
   "execution_count": 19,
   "id": "1fa5af08",
   "metadata": {},
   "outputs": [],
   "source": [
    "# Replace duplicate positions with first position.\n",
    "df1 = df1.replace({'SG-PG': 'SG', 'PG-SG': 'PG', 'SF-SG': 'SF', 'SG-SF':'SG', 'C-PF': 'C', 'PF-C':'PF'})\n",
    "df2 = df2.replace({'SG-PG': 'SG', 'PG-SG': 'PG', 'SF-SG': 'SF', 'SG-SF':'SG', 'C-PF': 'C', 'PF-C':'PF'})"
   ]
  },
  {
   "cell_type": "code",
   "execution_count": 20,
   "id": "7bd0ec05",
   "metadata": {},
   "outputs": [
    {
     "data": {
      "text/html": [
       "<div>\n",
       "<style scoped>\n",
       "    .dataframe tbody tr th:only-of-type {\n",
       "        vertical-align: middle;\n",
       "    }\n",
       "\n",
       "    .dataframe tbody tr th {\n",
       "        vertical-align: top;\n",
       "    }\n",
       "\n",
       "    .dataframe thead th {\n",
       "        text-align: right;\n",
       "    }\n",
       "</style>\n",
       "<table border=\"1\" class=\"dataframe\">\n",
       "  <thead>\n",
       "    <tr style=\"text-align: right;\">\n",
       "      <th></th>\n",
       "      <th>level_0</th>\n",
       "      <th>index</th>\n",
       "      <th>Player</th>\n",
       "      <th>Pos</th>\n",
       "      <th>Age 21/22</th>\n",
       "      <th>Tm 21/22</th>\n",
       "      <th>G 21/22</th>\n",
       "      <th>GS 21/22</th>\n",
       "      <th>MP 21/22</th>\n",
       "      <th>FG 21/22</th>\n",
       "      <th>...</th>\n",
       "      <th>USG% 21/22</th>\n",
       "      <th>OWS 21/22</th>\n",
       "      <th>DWS 21/22</th>\n",
       "      <th>WS 21/22</th>\n",
       "      <th>WS/48 21/22</th>\n",
       "      <th>OBPM 21/22</th>\n",
       "      <th>DBPM 21/22</th>\n",
       "      <th>BPM 21/22</th>\n",
       "      <th>VORP 21/22</th>\n",
       "      <th>Salary 22/23</th>\n",
       "    </tr>\n",
       "  </thead>\n",
       "  <tbody>\n",
       "    <tr>\n",
       "      <th>0</th>\n",
       "      <td>0</td>\n",
       "      <td>0</td>\n",
       "      <td>Precious Achiuwa</td>\n",
       "      <td>C</td>\n",
       "      <td>22.0</td>\n",
       "      <td>TOR</td>\n",
       "      <td>73.0</td>\n",
       "      <td>28.0</td>\n",
       "      <td>1725.0</td>\n",
       "      <td>265.0</td>\n",
       "      <td>...</td>\n",
       "      <td>18.5</td>\n",
       "      <td>0.4</td>\n",
       "      <td>2.1</td>\n",
       "      <td>2.5</td>\n",
       "      <td>0.070</td>\n",
       "      <td>-2.0</td>\n",
       "      <td>-0.6</td>\n",
       "      <td>-2.6</td>\n",
       "      <td>-0.2</td>\n",
       "      <td>2840.160</td>\n",
       "    </tr>\n",
       "    <tr>\n",
       "      <th>1</th>\n",
       "      <td>1</td>\n",
       "      <td>2</td>\n",
       "      <td>Steven Adams</td>\n",
       "      <td>C</td>\n",
       "      <td>28.0</td>\n",
       "      <td>MEM</td>\n",
       "      <td>76.0</td>\n",
       "      <td>75.0</td>\n",
       "      <td>1999.0</td>\n",
       "      <td>210.0</td>\n",
       "      <td>...</td>\n",
       "      <td>12.0</td>\n",
       "      <td>3.8</td>\n",
       "      <td>3.0</td>\n",
       "      <td>6.8</td>\n",
       "      <td>0.163</td>\n",
       "      <td>1.0</td>\n",
       "      <td>1.0</td>\n",
       "      <td>2.0</td>\n",
       "      <td>2.0</td>\n",
       "      <td>17926.829</td>\n",
       "    </tr>\n",
       "    <tr>\n",
       "      <th>2</th>\n",
       "      <td>2</td>\n",
       "      <td>3</td>\n",
       "      <td>Bam Adebayo</td>\n",
       "      <td>C</td>\n",
       "      <td>24.0</td>\n",
       "      <td>MIA</td>\n",
       "      <td>56.0</td>\n",
       "      <td>56.0</td>\n",
       "      <td>1825.0</td>\n",
       "      <td>406.0</td>\n",
       "      <td>...</td>\n",
       "      <td>25.0</td>\n",
       "      <td>3.6</td>\n",
       "      <td>3.5</td>\n",
       "      <td>7.2</td>\n",
       "      <td>0.188</td>\n",
       "      <td>1.7</td>\n",
       "      <td>2.1</td>\n",
       "      <td>3.8</td>\n",
       "      <td>2.7</td>\n",
       "      <td>30351.780</td>\n",
       "    </tr>\n",
       "    <tr>\n",
       "      <th>3</th>\n",
       "      <td>3</td>\n",
       "      <td>6</td>\n",
       "      <td>Nickeil Alexander-Walker</td>\n",
       "      <td>SG</td>\n",
       "      <td>23.0</td>\n",
       "      <td>TOT</td>\n",
       "      <td>65.0</td>\n",
       "      <td>21.0</td>\n",
       "      <td>1466.0</td>\n",
       "      <td>253.0</td>\n",
       "      <td>...</td>\n",
       "      <td>24.1</td>\n",
       "      <td>-1.1</td>\n",
       "      <td>1.1</td>\n",
       "      <td>0.1</td>\n",
       "      <td>0.003</td>\n",
       "      <td>-1.8</td>\n",
       "      <td>-1.1</td>\n",
       "      <td>-2.9</td>\n",
       "      <td>-0.3</td>\n",
       "      <td>5009.633</td>\n",
       "    </tr>\n",
       "    <tr>\n",
       "      <th>4</th>\n",
       "      <td>4</td>\n",
       "      <td>7</td>\n",
       "      <td>Grayson Allen</td>\n",
       "      <td>SG</td>\n",
       "      <td>26.0</td>\n",
       "      <td>MIL</td>\n",
       "      <td>66.0</td>\n",
       "      <td>61.0</td>\n",
       "      <td>1805.0</td>\n",
       "      <td>255.0</td>\n",
       "      <td>...</td>\n",
       "      <td>15.2</td>\n",
       "      <td>2.8</td>\n",
       "      <td>1.4</td>\n",
       "      <td>4.2</td>\n",
       "      <td>0.110</td>\n",
       "      <td>0.6</td>\n",
       "      <td>-0.2</td>\n",
       "      <td>0.4</td>\n",
       "      <td>1.1</td>\n",
       "      <td>8500.000</td>\n",
       "    </tr>\n",
       "  </tbody>\n",
       "</table>\n",
       "<p>5 rows × 52 columns</p>\n",
       "</div>"
      ],
      "text/plain": [
       "   level_0  index                    Player Pos  Age 21/22 Tm 21/22  G 21/22  \\\n",
       "0        0      0          Precious Achiuwa   C       22.0      TOR     73.0   \n",
       "1        1      2              Steven Adams   C       28.0      MEM     76.0   \n",
       "2        2      3               Bam Adebayo   C       24.0      MIA     56.0   \n",
       "3        3      6  Nickeil Alexander-Walker  SG       23.0      TOT     65.0   \n",
       "4        4      7             Grayson Allen  SG       26.0      MIL     66.0   \n",
       "\n",
       "   GS 21/22  MP 21/22  FG 21/22  ...  USG% 21/22  OWS 21/22  DWS 21/22  \\\n",
       "0      28.0    1725.0     265.0  ...        18.5        0.4        2.1   \n",
       "1      75.0    1999.0     210.0  ...        12.0        3.8        3.0   \n",
       "2      56.0    1825.0     406.0  ...        25.0        3.6        3.5   \n",
       "3      21.0    1466.0     253.0  ...        24.1       -1.1        1.1   \n",
       "4      61.0    1805.0     255.0  ...        15.2        2.8        1.4   \n",
       "\n",
       "   WS 21/22  WS/48 21/22  OBPM 21/22  DBPM 21/22  BPM 21/22  VORP 21/22  \\\n",
       "0       2.5        0.070        -2.0        -0.6       -2.6        -0.2   \n",
       "1       6.8        0.163         1.0         1.0        2.0         2.0   \n",
       "2       7.2        0.188         1.7         2.1        3.8         2.7   \n",
       "3       0.1        0.003        -1.8        -1.1       -2.9        -0.3   \n",
       "4       4.2        0.110         0.6        -0.2        0.4         1.1   \n",
       "\n",
       "   Salary 22/23  \n",
       "0      2840.160  \n",
       "1     17926.829  \n",
       "2     30351.780  \n",
       "3      5009.633  \n",
       "4      8500.000  \n",
       "\n",
       "[5 rows x 52 columns]"
      ]
     },
     "execution_count": 20,
     "metadata": {},
     "output_type": "execute_result"
    }
   ],
   "source": [
    "df1.head()"
   ]
  },
  {
   "cell_type": "markdown",
   "id": "79b6c3f4",
   "metadata": {},
   "source": [
    "주요 기록들에 대한 absolute growth를 얻기 위해서 데이터 프레임(df2)에 대한 20/21 시즌의 통계를 사용한다."
   ]
  },
  {
   "cell_type": "code",
   "execution_count": 21,
   "id": "9e6dc794",
   "metadata": {},
   "outputs": [],
   "source": [
    "# Get absolute growth\n",
    "# List of stats of which we want the growth\n",
    "list_growth = ['eFG%','TRB', 'AST', 'STL', 'BLK', 'TOV', 'PF', 'PTS']\n",
    "\n",
    "# Add absolute growth columns\n",
    "for i in list_growth:\n",
    "    df2[i + ' +-'] = df2[i + ' 21/22'] - df2[i + ' 20/21']\n",
    "    \n",
    "# Drop 17/18 columns\n",
    "columns = list(df2.columns)\n",
    "for i in columns:\n",
    "    if '20/21' in i:\n",
    "        df2 = df2.drop([i], axis = 1)"
   ]
  },
  {
   "cell_type": "code",
   "execution_count": 22,
   "id": "eb96fe4b",
   "metadata": {},
   "outputs": [
    {
     "name": "stdout",
     "output_type": "stream",
     "text": [
      "(409, 52)\n",
      "(340, 59)\n"
     ]
    }
   ],
   "source": [
    "print(df1.shape)\n",
    "print(df2.shape)"
   ]
  },
  {
   "cell_type": "markdown",
   "id": "9fbb8468",
   "metadata": {},
   "source": [
    "20/21 시즌과 21/22 시즌에 대한 선수별 통계 기록과 22/23 시즌의 연봉 정보를 가지는 행은 총 340개가 존재한다.<br>\n",
    "21/22 시즌의 선수별 통계 기록과 22/23 시즌의 연봉 정보를 가지고 있는 행은 409개로, 69개의 추가 행이 있다. "
   ]
  },
  {
   "cell_type": "markdown",
   "id": "2be23593",
   "metadata": {},
   "source": [
    "## 2. Exploring our dataset"
   ]
  },
  {
   "cell_type": "markdown",
   "id": "cf0fa7ab",
   "metadata": {},
   "source": [
    "### Target variable인 연봉 분석 (1000 단위)"
   ]
  },
  {
   "cell_type": "code",
   "execution_count": 23,
   "id": "c8490019",
   "metadata": {},
   "outputs": [
    {
     "data": {
      "text/plain": [
       "(array([0, 1, 2, 3, 4]),\n",
       " [Text(0, 0, 'Stephen Curry'),\n",
       "  Text(1, 0, 'Russell Westbrook'),\n",
       "  Text(2, 0, 'LeBron James'),\n",
       "  Text(3, 0, 'Kevin Durant'),\n",
       "  Text(4, 0, 'Bradley Beal')])"
      ]
     },
     "execution_count": 23,
     "metadata": {},
     "output_type": "execute_result"
    },
    {
     "data": {
      "image/png": "[encoded data removed]",
      "text/plain": [
       "<Figure size 360x360 with 1 Axes>"
      ]
     },
     "metadata": {
      "needs_background": "light"
     },
     "output_type": "display_data"
    }
   ],
   "source": [
    "# Setup dataframe\n",
    "df_sal = df1[['Player', 'Salary 22/23']]\n",
    "df_sal.sort_values(by = 'Salary 22/23', ascending = False, inplace = True)\n",
    "\n",
    "# Create barchart\n",
    "sns.catplot(x = 'Player', y = 'Salary 22/23', kind = 'bar', data = df_sal.head()).set(xlabel = None)\n",
    "plt.title('Players with highest salary (in 1000)')\n",
    "plt.ylim([42000, 48000])\n",
    "plt.xticks(rotation = 90)"
   ]
  },
  {
   "cell_type": "markdown",
   "id": "d91eda0d",
   "metadata": {},
   "source": [
    "연봉 관련 주요 통계적 요소에 대한 정보 요약"
   ]
  },
  {
   "cell_type": "code",
   "execution_count": 24,
   "id": "946c3ff1",
   "metadata": {},
   "outputs": [
    {
     "data": {
      "text/plain": [
       "count      409.000000\n",
       "mean      9993.430090\n",
       "std      10628.437409\n",
       "min         50.000000\n",
       "25%       2000.000000\n",
       "50%       5739.840000\n",
       "75%      13906.976000\n",
       "max      48070.014000\n",
       "Name: Salary 22/23, dtype: float64"
      ]
     },
     "execution_count": 24,
     "metadata": {},
     "output_type": "execute_result"
    }
   ],
   "source": [
    "# Statistics summary\n",
    "df1['Salary 22/23'].describe()"
   ]
  },
  {
   "cell_type": "markdown",
   "id": "6c1bbd84",
   "metadata": {},
   "source": [
    "연봉 분포(salary distribution)에 대한 히스토그램 모양 확인"
   ]
  },
  {
   "cell_type": "code",
   "execution_count": 25,
   "id": "2699262f",
   "metadata": {},
   "outputs": [
    {
     "name": "stderr",
     "output_type": "stream",
     "text": [
      "C:\\Users\\borus\\anaconda3\\lib\\site-packages\\seaborn\\distributions.py:2619: FutureWarning: `distplot` is a deprecated function and will be removed in a future version. Please adapt your code to use either `displot` (a figure-level function with similar flexibility) or `histplot` (an axes-level function for histograms).\n",
      "  warnings.warn(msg, FutureWarning)\n"
     ]
    },
    {
     "data": {
      "text/plain": [
       "<AxesSubplot:xlabel='Salary 22/23', ylabel='Density'>"
      ]
     },
     "execution_count": 25,
     "metadata": {},
     "output_type": "execute_result"
    },
    {
     "data": {
      "image/png": "[encoded data removed]",
      "text/plain": [
       "<Figure size 432x288 with 1 Axes>"
      ]
     },
     "metadata": {
      "needs_background": "light"
     },
     "output_type": "display_data"
    }
   ],
   "source": [
    "# Histogram\n",
    "sns.distplot(df1['Salary 22/23'])"
   ]
  },
  {
   "cell_type": "markdown",
   "id": "dd3bbd44",
   "metadata": {},
   "source": [
    "히스토그램을 통해 다음을 확인할 수 있다.\n",
    "\n",
    "1. 연봉이 분산되어 있음을 나타내는 큰 표준 편차\n",
    "2. 선수들의 연봉이 정규 분포(normal distribution)를 따르지 않음\n",
    "3. 우편향 분포 (right-skewed distribution)"
   ]
  },
  {
   "cell_type": "markdown",
   "id": "da11fd0c",
   "metadata": {},
   "source": [
    "### Analysis of most important player stats"
   ]
  },
  {
   "cell_type": "markdown",
   "id": "3916b3ff",
   "metadata": {},
   "source": [
    "NBA 선수들의 주요 기록(경기당 득점, 어시스트, 스틸, 리바운드)에 대해 살펴본다."
   ]
  },
  {
   "cell_type": "markdown",
   "id": "d13fd2b0",
   "metadata": {},
   "source": [
    "우선 각 지표의 리더를 확인한다."
   ]
  },
  {
   "cell_type": "code",
   "execution_count": 26,
   "id": "36318932",
   "metadata": {},
   "outputs": [
    {
     "data": {
      "text/plain": [
       "[Text(0, 0.5, '')]"
      ]
     },
     "execution_count": 26,
     "metadata": {},
     "output_type": "execute_result"
    },
    {
     "data": {
      "image/png": "[encoded data removed]",
      "text/plain": [
       "<Figure size 1440x1080 with 4 Axes>"
      ]
     },
     "metadata": {
      "needs_background": "light"
     },
     "output_type": "display_data"
    }
   ],
   "source": [
    "# Setup dataframes\n",
    "df_pts = df1[['Player', 'PTS 21/22']]\n",
    "df_pts.sort_values(by = 'PTS 21/22', ascending = False, inplace = True)\n",
    "df_ast = df1[['Player', 'AST 21/22']]\n",
    "df_ast.sort_values(by = 'AST 21/22', ascending = False, inplace = True)\n",
    "df_stl = df1[['Player', 'STL 21/22']]\n",
    "df_stl.sort_values(by = 'STL 21/22', ascending = False, inplace = True)\n",
    "df_trb = df1[['Player', 'TRB 21/22']]\n",
    "df_trb.sort_values(by = 'TRB 21/22', ascending = False, inplace = True)\n",
    "\n",
    "# Set up figure\n",
    "f, axes = plt.subplots(2, 2, figsize=(20, 15))\n",
    "sns.despine(left=True)\n",
    "\n",
    "# Create barcharts\n",
    "sns.barplot(x = 'PTS 21/22', y = 'Player', data = df_pts.head(), color = \"b\", ax = axes[0, 0]).set(ylabel = None)\n",
    "sns.barplot(x = 'AST 21/22', y = 'Player', data = df_ast.head(), color = \"r\", ax = axes[0, 1]).set(ylabel = None)\n",
    "sns.barplot(x = 'STL 21/22', y = 'Player', data = df_stl.head(), color = \"g\", ax = axes[1, 0]).set(ylabel = None)\n",
    "sns.barplot(x = 'TRB 21/22', y = 'Player', data = df_trb.head(), color = \"m\", ax = axes[1, 1]).set(ylabel = None)"
   ]
  },
  {
   "cell_type": "markdown",
   "id": "8701305d",
   "metadata": {},
   "source": [
    "히스토그램을 이용하여 각 지표의 분산을 확인한다. "
   ]
  },
  {
   "cell_type": "code",
   "execution_count": 27,
   "id": "8ff945ed",
   "metadata": {},
   "outputs": [
    {
     "name": "stderr",
     "output_type": "stream",
     "text": [
      "C:\\Users\\borus\\anaconda3\\lib\\site-packages\\seaborn\\distributions.py:2619: FutureWarning: `distplot` is a deprecated function and will be removed in a future version. Please adapt your code to use either `displot` (a figure-level function with similar flexibility) or `histplot` (an axes-level function for histograms).\n",
      "  warnings.warn(msg, FutureWarning)\n",
      "C:\\Users\\borus\\anaconda3\\lib\\site-packages\\seaborn\\distributions.py:2619: FutureWarning: `distplot` is a deprecated function and will be removed in a future version. Please adapt your code to use either `displot` (a figure-level function with similar flexibility) or `histplot` (an axes-level function for histograms).\n",
      "  warnings.warn(msg, FutureWarning)\n",
      "C:\\Users\\borus\\anaconda3\\lib\\site-packages\\seaborn\\distributions.py:2619: FutureWarning: `distplot` is a deprecated function and will be removed in a future version. Please adapt your code to use either `displot` (a figure-level function with similar flexibility) or `histplot` (an axes-level function for histograms).\n",
      "  warnings.warn(msg, FutureWarning)\n",
      "C:\\Users\\borus\\anaconda3\\lib\\site-packages\\seaborn\\distributions.py:2619: FutureWarning: `distplot` is a deprecated function and will be removed in a future version. Please adapt your code to use either `displot` (a figure-level function with similar flexibility) or `histplot` (an axes-level function for histograms).\n",
      "  warnings.warn(msg, FutureWarning)\n"
     ]
    },
    {
     "data": {
      "text/plain": [
       "<AxesSubplot:xlabel='TRB 21/22', ylabel='Density'>"
      ]
     },
     "execution_count": 27,
     "metadata": {},
     "output_type": "execute_result"
    },
    {
     "data": {
      "image/png": "[encoded data removed]",
      "text/plain": [
       "<Figure size 1440x1080 with 4 Axes>"
      ]
     },
     "metadata": {
      "needs_background": "light"
     },
     "output_type": "display_data"
    }
   ],
   "source": [
    "# Set up figure\n",
    "f, axes = plt.subplots(2, 2, figsize=(20, 15))\n",
    "sns.despine(left=True)\n",
    "\n",
    "# Histograms\n",
    "sns.distplot(df1['PTS 21/22'], color = \"b\", ax = axes[0, 0])\n",
    "sns.distplot(df1['AST 21/22'], color = \"r\", ax = axes[0, 1])\n",
    "sns.distplot(df1['STL 21/22'], color = \"g\", ax = axes[1, 0])\n",
    "sns.distplot(df1['TRB 21/22'], color = \"m\", ax = axes[1, 1])"
   ]
  },
  {
   "cell_type": "markdown",
   "id": "fcb9fbb6",
   "metadata": {},
   "source": [
    "농구의 중요 통계적 수치 역시 대부분 우편향 분포(right-skewed distribution)임을 확인할 수 있다. "
   ]
  },
  {
   "cell_type": "markdown",
   "id": "6056ddfc",
   "metadata": {},
   "source": [
    "### Relationship with possible features"
   ]
  },
  {
   "cell_type": "markdown",
   "id": "ecfea036",
   "metadata": {},
   "source": [
    "22/23 시즌 연봉과 21/22 시즌 경기당 득점, 어시스트, 스틸, 리바운드 사이의 관계를 각각 살펴본다."
   ]
  },
  {
   "cell_type": "code",
   "execution_count": 28,
   "id": "e914cfd9",
   "metadata": {},
   "outputs": [
    {
     "data": {
      "text/plain": [
       "<AxesSubplot:xlabel='TRB 21/22', ylabel='Salary 22/23'>"
      ]
     },
     "execution_count": 28,
     "metadata": {},
     "output_type": "execute_result"
    },
    {
     "data": {
      "image/png": "[encoded data removed]",
      "text/plain": [
       "<Figure size 1440x1080 with 4 Axes>"
      ]
     },
     "metadata": {
      "needs_background": "light"
     },
     "output_type": "display_data"
    }
   ],
   "source": [
    "# Set up figure\n",
    "f, axes = plt.subplots(2, 2, figsize=(20, 15))\n",
    "\n",
    "# Regressionplot\n",
    "sns.regplot(x = df1['PTS 21/22'], y = df1['Salary 22/23'], color=\"b\", ax=axes[0, 0])\n",
    "sns.regplot(x = df1['AST 21/22'], y = df1['Salary 22/23'], color=\"r\", ax=axes[0, 1])\n",
    "sns.regplot(x = df1['STL 21/22'], y = df1['Salary 22/23'], color=\"g\", ax=axes[1, 0])\n",
    "sns.regplot(x = df1['TRB 21/22'], y = df1['Salary 22/23'], color=\"m\", ax=axes[1, 1])"
   ]
  },
  {
   "cell_type": "markdown",
   "id": "b6d1feae",
   "metadata": {},
   "source": [
    "선택된 모든 통계적 수치들과 연봉 사이에는 positive한 선형 관계가 있다."
   ]
  },
  {
   "cell_type": "code",
   "execution_count": 29,
   "id": "bd2ec942",
   "metadata": {},
   "outputs": [
    {
     "data": {
      "text/plain": [
       "<AxesSubplot:xlabel='eFG% 21/22', ylabel='Salary 22/23'>"
      ]
     },
     "execution_count": 29,
     "metadata": {},
     "output_type": "execute_result"
    },
    {
     "data": {
      "image/png": "[encoded data removed]",
      "text/plain": [
       "<Figure size 432x288 with 1 Axes>"
      ]
     },
     "metadata": {
      "needs_background": "light"
     },
     "output_type": "display_data"
    }
   ],
   "source": [
    "# Relationship with effecitve field goal percentage\n",
    "sns.regplot(x = df1['eFG% 21/22'], y = df1['Salary 22/23'])"
   ]
  },
  {
   "cell_type": "markdown",
   "id": "776928de",
   "metadata": {},
   "source": [
    "농구에서는 2점슛과 3점슛 간의 차이가 있기 때문에 normal field goal percentage 대신 effective field goal percentage를 선택했다.<br>\n",
    "그러나 위 그래프에서 확인할 수 있듯이 postive한 선형 관계를 관찰하기 어렵다.<br>\n",
    "(eFG%가 높으면서 연봉이 낮은 선수들은 있지만, eFG%가 낮으면서 높은 연봉을 받는 선수는 존재하지 않는다.)"
   ]
  },
  {
   "cell_type": "code",
   "execution_count": 30,
   "id": "f4e0f53e",
   "metadata": {},
   "outputs": [
    {
     "data": {
      "text/plain": [
       "<AxesSubplot:xlabel='MP 21/22', ylabel='Salary 22/23'>"
      ]
     },
     "execution_count": 30,
     "metadata": {},
     "output_type": "execute_result"
    },
    {
     "data": {
      "image/png": "[encoded data removed]",
      "text/plain": [
       "<Figure size 432x288 with 1 Axes>"
      ]
     },
     "metadata": {
      "needs_background": "light"
     },
     "output_type": "display_data"
    }
   ],
   "source": [
    "# Relationship with minutes played per game\n",
    "sns.regplot(x = df1['MP 21/22'], y = df1['Salary 22/23'])"
   ]
  },
  {
   "cell_type": "markdown",
   "id": "4ac44b5a",
   "metadata": {},
   "source": [
    "경기당 경기 시간과 연봉 사이에는 exponential relationship으로 보이는 positive relationship이 존재한다.<br> \n",
    "그러나 좋은 기록을 가지는 선수는 다음 시즌에 높은 연봉과 많은 경기시간을 보장 받을 가능성이 높기 때문에 해당 관계의 분석에 신중할 필요가 있다.<br> \n",
    "즉, 이러한 postive relationship은 기록에서 기반한 것으로 판단이 가능하다."
   ]
  },
  {
   "cell_type": "code",
   "execution_count": 31,
   "id": "a6de1e14",
   "metadata": {},
   "outputs": [
    {
     "data": {
      "text/plain": [
       "<AxesSubplot:xlabel='Age 21/22', ylabel='Salary 22/23'>"
      ]
     },
     "execution_count": 31,
     "metadata": {},
     "output_type": "execute_result"
    },
    {
     "data": {
      "image/png": "[encoded data removed]",
      "text/plain": [
       "<Figure size 432x288 with 1 Axes>"
      ]
     },
     "metadata": {
      "needs_background": "light"
     },
     "output_type": "display_data"
    }
   ],
   "source": [
    "# Relationship with age\n",
    "sns.regplot(x = df1['Age 21/22'], y = df1['Salary 22/23'])"
   ]
  },
  {
   "cell_type": "markdown",
   "id": "b0478351",
   "metadata": {},
   "source": [
    "선수의 나이와 연봉 사이에는 선형적인 관계가 없다."
   ]
  },
  {
   "cell_type": "code",
   "execution_count": 32,
   "id": "7342db88",
   "metadata": {
    "scrolled": true
   },
   "outputs": [
    {
     "data": {
      "text/plain": [
       "<AxesSubplot:xlabel='Pos', ylabel='Salary 22/23'>"
      ]
     },
     "execution_count": 32,
     "metadata": {},
     "output_type": "execute_result"
    },
    {
     "data": {
      "image/png": "[encoded data removed]",
      "text/plain": [
       "<Figure size 432x288 with 1 Axes>"
      ]
     },
     "metadata": {
      "needs_background": "light"
     },
     "output_type": "display_data"
    }
   ],
   "source": [
    "# Relationship with Position\n",
    "sns.boxplot(x = 'Pos', y = 'Salary 22/23', data = df1, order = ['PG', 'SG', 'SF', 'PF', 'C'])"
   ]
  },
  {
   "cell_type": "markdown",
   "id": "f1750521",
   "metadata": {},
   "source": [
    "### Correlation matrix"
   ]
  },
  {
   "cell_type": "markdown",
   "id": "203f4e81",
   "metadata": {},
   "source": [
    "지금까지의 분석은 직관에 따라 연봉을 결정하는 데 있어 중요하다고 생각되는 요소들에 기반을 두고 진행했다.<br>\n",
    "좀 더 객관적인 분석을 진행하고 변수 간의 관계에 대하여 완벽한 개요를 얻기 위해서 히트맵을 활용한다."
   ]
  },
  {
   "cell_type": "code",
   "execution_count": 33,
   "id": "4356a27b",
   "metadata": {},
   "outputs": [
    {
     "name": "stderr",
     "output_type": "stream",
     "text": [
      "C:\\Users\\borus\\AppData\\Local\\Temp\\ipykernel_17372\\2400058927.py:5: DeprecationWarning: `np.bool` is a deprecated alias for the builtin `bool`. To silence this warning, use `bool` by itself. Doing this will not modify any behavior and is safe. If you specifically wanted the numpy scalar type, use `np.bool_` here.\n",
      "Deprecated in NumPy 1.20; for more details and guidance: https://numpy.org/devdocs/release/1.20.0-notes.html#deprecations\n",
      "  mask = np.triu(np.ones_like(cor_matrix, dtype = np.bool))\n"
     ]
    },
    {
     "data": {
      "text/plain": [
       "<AxesSubplot:>"
      ]
     },
     "execution_count": 33,
     "metadata": {},
     "output_type": "execute_result"
    },
    {
     "data": {
      "image/png": "[encoded data removed]",
      "text/plain": [
       "<Figure size 1080x864 with 2 Axes>"
      ]
     },
     "metadata": {},
     "output_type": "display_data"
    }
   ],
   "source": [
    "sns.set(style = \"white\")\n",
    "cor_matrix = df1.loc[:, 'Age 21/22': 'Salary 22/23'].corr()\n",
    "\n",
    "# Generate a mask for the upper triangle\n",
    "mask = np.triu(np.ones_like(cor_matrix, dtype = np.bool))\n",
    "\n",
    "plt.figure(figsize = (15, 12))\n",
    "\n",
    "# Generate a custom diverging colormap\n",
    "cmap = sns.diverging_palette(220, 10, as_cmap = True)\n",
    "\n",
    "sns.heatmap(cor_matrix, mask = mask, cmap = cmap, center = 0,\n",
    "            square = True, linewidths = .5, cbar_kws = {\"shrink\": .5})"
   ]
  },
  {
   "cell_type": "markdown",
   "id": "643bca5b",
   "metadata": {},
   "source": [
    "히트맵을 통한 분석\n",
    "\n",
    "1. 다중 공선성: 정사각형의 색깔이 붉을수록 높은 상관 관계를 가지는 변수들로, 예측 모델에 거의 동일한 정보를 제공하고 추정에 대한 분산을 증가시킨다. 회귀 분석은 특징들 간의 독립성을 전제로 하기 때문에 올바른 회귀 분석을 위해서는 이러한 쌍을 제거해야한다. 다중 공선성은 분산팽창요인(VIF, Variance Inflation Factor) 이라는 계수로 평가할 수 있으며, 일반적으로 VIF 계수가 10~15 정도를 넘으면 다중 공선성 문제가 발생했다고 판단한다.\n",
    "\n",
    "\n",
    "2. 22/23 시즌 연봉과의 상관관계: 앞서 분석했듯이, 연봉과 네 가지의 주요 통계 요소들 사이에는 선형적인 관계가 존재한다. 그러나 이 밖에도 추가적으로 고려해야 할 다른 변수들도 있음을 확인할 수 있다.\n",
    "\n",
    "연봉과 경기당 플레이 시간(MP, minutes played)이나 선발 출전 횟수(GS, games started)의 상관관계를 분석할 때는 신중해야 하는데, 단순하게 선발 출전을 많이 하는 선수가 더 많은 돈을 번다고 할 수 없기 때문이다. 공격과 수비에 대한 통계를 참고하여 코치는 선수가 경기에 얼마나 오래 출전할 지를 결정하고, 이에 따라 다음 시즌의 연봉 역시 결정되므로 인과관계라고 하기는 어렵다. 다만 총 게임 수(G)는 모델에 활용이 가능하다. 이 통계는 선수의 취약성과 연봉의 관계를 측정할 수 있다. 또한 높은 상관관계로 인해 TOV(Turnover)가 많을수록 연봉이 높아진다고 말하기는 어렵다.  공격력과 수비력이 좋은 선수는 더 많은 경기 시간과 더 높은 연봉을 보장 받는다. 그렇기 때문에 연봉이 높은 좋은 선수는 경기 시간이 많아지고, 평균적으로 턴오버 역시 더 많을 수 밖에 없다."
   ]
  },
  {
   "cell_type": "code",
   "execution_count": 34,
   "id": "30c87b6a",
   "metadata": {},
   "outputs": [
    {
     "name": "stderr",
     "output_type": "stream",
     "text": [
      "C:\\Users\\borus\\anaconda3\\lib\\site-packages\\statsmodels\\stats\\outliers_influence.py:195: RuntimeWarning: divide by zero encountered in double_scalars\n",
      "  vif = 1. / (1. - r_squared_i)\n"
     ]
    },
    {
     "data": {
      "text/html": [
       "<div>\n",
       "<style scoped>\n",
       "    .dataframe tbody tr th:only-of-type {\n",
       "        vertical-align: middle;\n",
       "    }\n",
       "\n",
       "    .dataframe tbody tr th {\n",
       "        vertical-align: top;\n",
       "    }\n",
       "\n",
       "    .dataframe thead th {\n",
       "        text-align: right;\n",
       "    }\n",
       "</style>\n",
       "<table border=\"1\" class=\"dataframe\">\n",
       "  <thead>\n",
       "    <tr style=\"text-align: right;\">\n",
       "      <th></th>\n",
       "      <th>VIF Factor</th>\n",
       "      <th>features</th>\n",
       "    </tr>\n",
       "  </thead>\n",
       "  <tbody>\n",
       "    <tr>\n",
       "      <th>0</th>\n",
       "      <td>46.6</td>\n",
       "      <td>Age 21/22</td>\n",
       "    </tr>\n",
       "    <tr>\n",
       "      <th>1</th>\n",
       "      <td>63.7</td>\n",
       "      <td>G 21/22</td>\n",
       "    </tr>\n",
       "    <tr>\n",
       "      <th>2</th>\n",
       "      <td>12.5</td>\n",
       "      <td>GS 21/22</td>\n",
       "    </tr>\n",
       "    <tr>\n",
       "      <th>3</th>\n",
       "      <td>340.2</td>\n",
       "      <td>MP 21/22</td>\n",
       "    </tr>\n",
       "    <tr>\n",
       "      <th>4</th>\n",
       "      <td>inf</td>\n",
       "      <td>FG 21/22</td>\n",
       "    </tr>\n",
       "    <tr>\n",
       "      <th>5</th>\n",
       "      <td>inf</td>\n",
       "      <td>FGA 21/22</td>\n",
       "    </tr>\n",
       "    <tr>\n",
       "      <th>6</th>\n",
       "      <td>7990.1</td>\n",
       "      <td>FG% 21/22</td>\n",
       "    </tr>\n",
       "    <tr>\n",
       "      <th>7</th>\n",
       "      <td>inf</td>\n",
       "      <td>3P 21/22</td>\n",
       "    </tr>\n",
       "    <tr>\n",
       "      <th>8</th>\n",
       "      <td>inf</td>\n",
       "      <td>3PA 21/22</td>\n",
       "    </tr>\n",
       "    <tr>\n",
       "      <th>9</th>\n",
       "      <td>inf</td>\n",
       "      <td>2P 21/22</td>\n",
       "    </tr>\n",
       "    <tr>\n",
       "      <th>10</th>\n",
       "      <td>inf</td>\n",
       "      <td>2PA 21/22</td>\n",
       "    </tr>\n",
       "    <tr>\n",
       "      <th>11</th>\n",
       "      <td>152.0</td>\n",
       "      <td>2P% 21/22</td>\n",
       "    </tr>\n",
       "    <tr>\n",
       "      <th>12</th>\n",
       "      <td>11191.8</td>\n",
       "      <td>eFG% 21/22</td>\n",
       "    </tr>\n",
       "    <tr>\n",
       "      <th>13</th>\n",
       "      <td>inf</td>\n",
       "      <td>FT 21/22</td>\n",
       "    </tr>\n",
       "    <tr>\n",
       "      <th>14</th>\n",
       "      <td>328.4</td>\n",
       "      <td>FTA 21/22</td>\n",
       "    </tr>\n",
       "    <tr>\n",
       "      <th>15</th>\n",
       "      <td>inf</td>\n",
       "      <td>ORB 21/22</td>\n",
       "    </tr>\n",
       "    <tr>\n",
       "      <th>16</th>\n",
       "      <td>inf</td>\n",
       "      <td>DRB 21/22</td>\n",
       "    </tr>\n",
       "    <tr>\n",
       "      <th>17</th>\n",
       "      <td>inf</td>\n",
       "      <td>TRB 21/22</td>\n",
       "    </tr>\n",
       "    <tr>\n",
       "      <th>18</th>\n",
       "      <td>151.7</td>\n",
       "      <td>AST 21/22</td>\n",
       "    </tr>\n",
       "    <tr>\n",
       "      <th>19</th>\n",
       "      <td>42.0</td>\n",
       "      <td>STL 21/22</td>\n",
       "    </tr>\n",
       "    <tr>\n",
       "      <th>20</th>\n",
       "      <td>17.6</td>\n",
       "      <td>BLK 21/22</td>\n",
       "    </tr>\n",
       "    <tr>\n",
       "      <th>21</th>\n",
       "      <td>247.3</td>\n",
       "      <td>TOV 21/22</td>\n",
       "    </tr>\n",
       "    <tr>\n",
       "      <th>22</th>\n",
       "      <td>38.3</td>\n",
       "      <td>PF 21/22</td>\n",
       "    </tr>\n",
       "    <tr>\n",
       "      <th>23</th>\n",
       "      <td>inf</td>\n",
       "      <td>PTS 21/22</td>\n",
       "    </tr>\n",
       "    <tr>\n",
       "      <th>24</th>\n",
       "      <td>1634.8</td>\n",
       "      <td>PER 21/22</td>\n",
       "    </tr>\n",
       "    <tr>\n",
       "      <th>25</th>\n",
       "      <td>3218.4</td>\n",
       "      <td>TS% 21/22</td>\n",
       "    </tr>\n",
       "    <tr>\n",
       "      <th>26</th>\n",
       "      <td>194.8</td>\n",
       "      <td>3PAr 21/22</td>\n",
       "    </tr>\n",
       "    <tr>\n",
       "      <th>27</th>\n",
       "      <td>22.4</td>\n",
       "      <td>FTr 21/22</td>\n",
       "    </tr>\n",
       "    <tr>\n",
       "      <th>28</th>\n",
       "      <td>1169.0</td>\n",
       "      <td>ORB% 21/22</td>\n",
       "    </tr>\n",
       "    <tr>\n",
       "      <th>29</th>\n",
       "      <td>6553.5</td>\n",
       "      <td>DRB% 21/22</td>\n",
       "    </tr>\n",
       "    <tr>\n",
       "      <th>30</th>\n",
       "      <td>12195.6</td>\n",
       "      <td>TRB% 21/22</td>\n",
       "    </tr>\n",
       "    <tr>\n",
       "      <th>31</th>\n",
       "      <td>40.6</td>\n",
       "      <td>AST% 21/22</td>\n",
       "    </tr>\n",
       "    <tr>\n",
       "      <th>32</th>\n",
       "      <td>32.0</td>\n",
       "      <td>STL% 21/22</td>\n",
       "    </tr>\n",
       "    <tr>\n",
       "      <th>33</th>\n",
       "      <td>20.3</td>\n",
       "      <td>BLK% 21/22</td>\n",
       "    </tr>\n",
       "    <tr>\n",
       "      <th>34</th>\n",
       "      <td>43.8</td>\n",
       "      <td>TOV% 21/22</td>\n",
       "    </tr>\n",
       "    <tr>\n",
       "      <th>35</th>\n",
       "      <td>459.8</td>\n",
       "      <td>USG% 21/22</td>\n",
       "    </tr>\n",
       "    <tr>\n",
       "      <th>36</th>\n",
       "      <td>2155.3</td>\n",
       "      <td>OWS 21/22</td>\n",
       "    </tr>\n",
       "    <tr>\n",
       "      <th>37</th>\n",
       "      <td>1106.5</td>\n",
       "      <td>DWS 21/22</td>\n",
       "    </tr>\n",
       "    <tr>\n",
       "      <th>38</th>\n",
       "      <td>5772.2</td>\n",
       "      <td>WS 21/22</td>\n",
       "    </tr>\n",
       "    <tr>\n",
       "      <th>39</th>\n",
       "      <td>218.6</td>\n",
       "      <td>WS/48 21/22</td>\n",
       "    </tr>\n",
       "    <tr>\n",
       "      <th>40</th>\n",
       "      <td>3218.5</td>\n",
       "      <td>OBPM 21/22</td>\n",
       "    </tr>\n",
       "    <tr>\n",
       "      <th>41</th>\n",
       "      <td>926.1</td>\n",
       "      <td>DBPM 21/22</td>\n",
       "    </tr>\n",
       "    <tr>\n",
       "      <th>42</th>\n",
       "      <td>4946.8</td>\n",
       "      <td>BPM 21/22</td>\n",
       "    </tr>\n",
       "    <tr>\n",
       "      <th>43</th>\n",
       "      <td>66.4</td>\n",
       "      <td>VORP 21/22</td>\n",
       "    </tr>\n",
       "  </tbody>\n",
       "</table>\n",
       "</div>"
      ],
      "text/plain": [
       "    VIF Factor     features\n",
       "0         46.6    Age 21/22\n",
       "1         63.7      G 21/22\n",
       "2         12.5     GS 21/22\n",
       "3        340.2     MP 21/22\n",
       "4          inf     FG 21/22\n",
       "5          inf    FGA 21/22\n",
       "6       7990.1    FG% 21/22\n",
       "7          inf     3P 21/22\n",
       "8          inf    3PA 21/22\n",
       "9          inf     2P 21/22\n",
       "10         inf    2PA 21/22\n",
       "11       152.0    2P% 21/22\n",
       "12     11191.8   eFG% 21/22\n",
       "13         inf     FT 21/22\n",
       "14       328.4    FTA 21/22\n",
       "15         inf    ORB 21/22\n",
       "16         inf    DRB 21/22\n",
       "17         inf    TRB 21/22\n",
       "18       151.7    AST 21/22\n",
       "19        42.0    STL 21/22\n",
       "20        17.6    BLK 21/22\n",
       "21       247.3    TOV 21/22\n",
       "22        38.3     PF 21/22\n",
       "23         inf    PTS 21/22\n",
       "24      1634.8    PER 21/22\n",
       "25      3218.4    TS% 21/22\n",
       "26       194.8   3PAr 21/22\n",
       "27        22.4    FTr 21/22\n",
       "28      1169.0   ORB% 21/22\n",
       "29      6553.5   DRB% 21/22\n",
       "30     12195.6   TRB% 21/22\n",
       "31        40.6   AST% 21/22\n",
       "32        32.0   STL% 21/22\n",
       "33        20.3   BLK% 21/22\n",
       "34        43.8   TOV% 21/22\n",
       "35       459.8   USG% 21/22\n",
       "36      2155.3    OWS 21/22\n",
       "37      1106.5    DWS 21/22\n",
       "38      5772.2     WS 21/22\n",
       "39       218.6  WS/48 21/22\n",
       "40      3218.5   OBPM 21/22\n",
       "41       926.1   DBPM 21/22\n",
       "42      4946.8    BPM 21/22\n",
       "43        66.4   VORP 21/22"
      ]
     },
     "execution_count": 34,
     "metadata": {},
     "output_type": "execute_result"
    }
   ],
   "source": [
    "from statsmodels.stats.outliers_influence import variance_inflation_factor\n",
    "\n",
    "V = df1[['Age 21/22', 'G 21/22', 'GS 21/22', 'MP 21/22', 'FG 21/22', 'FGA 21/22',\n",
    "         'FG% 21/22', '3P 21/22', '3PA 21/22', '2P 21/22', '2PA 21/22', '2P% 21/22', \n",
    "         'eFG% 21/22', 'FT 21/22', 'FTA 21/22', 'ORB 21/22', 'DRB 21/22', 'TRB 21/22', \n",
    "         'AST 21/22', 'STL 21/22', 'BLK 21/22', 'TOV 21/22', 'PF 21/22', 'PTS 21/22', \n",
    "         'PER 21/22', 'TS% 21/22', '3PAr 21/22', 'FTr 21/22', 'ORB% 21/22', 'DRB% 21/22',\n",
    "         'TRB% 21/22', 'AST% 21/22', 'STL% 21/22', 'BLK% 21/22', 'TOV% 21/22', 'USG% 21/22',\n",
    "         'OWS 21/22', 'DWS 21/22', 'WS 21/22', 'WS/48 21/22' ,'OBPM 21/22', 'DBPM 21/22',\n",
    "         'BPM 21/22', 'VORP 21/22']]\n",
    "\n",
    "# 특징마다의 VIF 계수를 출력합니다.\n",
    "vif = pd.DataFrame()\n",
    "vif[\"VIF Factor\"] = [variance_inflation_factor(V.values, i) for i in range(V.shape[1])]\n",
    "vif[\"features\"] = V.columns\n",
    "vif.round(1)"
   ]
  },
  {
   "cell_type": "markdown",
   "id": "9b70b96a",
   "metadata": {},
   "source": [
    "다중 공선성 문제가 없는 적절한 특징들을 선정한다.\n",
    "\n",
    "* 선정 과정\n",
    "1. VIF 계수가 높은 특징을 우선적으로 제거한다. 단, (FG, FG%)와 같이 유사한 특징 중에서는 하나만을 제거한다.\n",
    "\n",
    "2. 다시 다중 공선성을 검증한다.<br>\n",
    "(VIF 계수가 비정상적으로 높은 특징을 제거해주면, 다른 특징들의 공선성이 감소하는 것을 확인할 수 있다.)\n",
    "\n",
    "3. 여전히 VIF 계수가 높은 특징들을 제거한다."
   ]
  },
  {
   "cell_type": "code",
   "execution_count": 35,
   "id": "4db4d047",
   "metadata": {},
   "outputs": [
    {
     "data": {
      "text/html": [
       "<div>\n",
       "<style scoped>\n",
       "    .dataframe tbody tr th:only-of-type {\n",
       "        vertical-align: middle;\n",
       "    }\n",
       "\n",
       "    .dataframe tbody tr th {\n",
       "        vertical-align: top;\n",
       "    }\n",
       "\n",
       "    .dataframe thead th {\n",
       "        text-align: right;\n",
       "    }\n",
       "</style>\n",
       "<table border=\"1\" class=\"dataframe\">\n",
       "  <thead>\n",
       "    <tr style=\"text-align: right;\">\n",
       "      <th></th>\n",
       "      <th>VIF Factor</th>\n",
       "      <th>features</th>\n",
       "    </tr>\n",
       "  </thead>\n",
       "  <tbody>\n",
       "    <tr>\n",
       "      <th>0</th>\n",
       "      <td>43.4</td>\n",
       "      <td>Age 21/22</td>\n",
       "    </tr>\n",
       "    <tr>\n",
       "      <th>1</th>\n",
       "      <td>58.0</td>\n",
       "      <td>G 21/22</td>\n",
       "    </tr>\n",
       "    <tr>\n",
       "      <th>2</th>\n",
       "      <td>12.1</td>\n",
       "      <td>GS 21/22</td>\n",
       "    </tr>\n",
       "    <tr>\n",
       "      <th>3</th>\n",
       "      <td>224.7</td>\n",
       "      <td>MP 21/22</td>\n",
       "    </tr>\n",
       "    <tr>\n",
       "      <th>4</th>\n",
       "      <td>1385.5</td>\n",
       "      <td>FGA 21/22</td>\n",
       "    </tr>\n",
       "    <tr>\n",
       "      <th>5</th>\n",
       "      <td>230.9</td>\n",
       "      <td>3P 21/22</td>\n",
       "    </tr>\n",
       "    <tr>\n",
       "      <th>6</th>\n",
       "      <td>607.3</td>\n",
       "      <td>2PA 21/22</td>\n",
       "    </tr>\n",
       "    <tr>\n",
       "      <th>7</th>\n",
       "      <td>39.9</td>\n",
       "      <td>FT 21/22</td>\n",
       "    </tr>\n",
       "    <tr>\n",
       "      <th>8</th>\n",
       "      <td>32.0</td>\n",
       "      <td>DRB 21/22</td>\n",
       "    </tr>\n",
       "    <tr>\n",
       "      <th>9</th>\n",
       "      <td>58.1</td>\n",
       "      <td>AST 21/22</td>\n",
       "    </tr>\n",
       "    <tr>\n",
       "      <th>10</th>\n",
       "      <td>35.0</td>\n",
       "      <td>STL 21/22</td>\n",
       "    </tr>\n",
       "    <tr>\n",
       "      <th>11</th>\n",
       "      <td>10.5</td>\n",
       "      <td>BLK 21/22</td>\n",
       "    </tr>\n",
       "    <tr>\n",
       "      <th>12</th>\n",
       "      <td>61.8</td>\n",
       "      <td>TOV 21/22</td>\n",
       "    </tr>\n",
       "    <tr>\n",
       "      <th>13</th>\n",
       "      <td>30.5</td>\n",
       "      <td>PF 21/22</td>\n",
       "    </tr>\n",
       "    <tr>\n",
       "      <th>14</th>\n",
       "      <td>1417.3</td>\n",
       "      <td>PTS 21/22</td>\n",
       "    </tr>\n",
       "    <tr>\n",
       "      <th>15</th>\n",
       "      <td>663.6</td>\n",
       "      <td>PER 21/22</td>\n",
       "    </tr>\n",
       "    <tr>\n",
       "      <th>16</th>\n",
       "      <td>204.4</td>\n",
       "      <td>TS% 21/22</td>\n",
       "    </tr>\n",
       "    <tr>\n",
       "      <th>17</th>\n",
       "      <td>23.4</td>\n",
       "      <td>3PAr 21/22</td>\n",
       "    </tr>\n",
       "    <tr>\n",
       "      <th>18</th>\n",
       "      <td>13.6</td>\n",
       "      <td>FTr 21/22</td>\n",
       "    </tr>\n",
       "    <tr>\n",
       "      <th>19</th>\n",
       "      <td>34.0</td>\n",
       "      <td>AST% 21/22</td>\n",
       "    </tr>\n",
       "    <tr>\n",
       "      <th>20</th>\n",
       "      <td>24.0</td>\n",
       "      <td>STL% 21/22</td>\n",
       "    </tr>\n",
       "    <tr>\n",
       "      <th>21</th>\n",
       "      <td>9.8</td>\n",
       "      <td>BLK% 21/22</td>\n",
       "    </tr>\n",
       "    <tr>\n",
       "      <th>22</th>\n",
       "      <td>34.6</td>\n",
       "      <td>TOV% 21/22</td>\n",
       "    </tr>\n",
       "    <tr>\n",
       "      <th>23</th>\n",
       "      <td>222.9</td>\n",
       "      <td>USG% 21/22</td>\n",
       "    </tr>\n",
       "    <tr>\n",
       "      <th>24</th>\n",
       "      <td>73.4</td>\n",
       "      <td>WS/48 21/22</td>\n",
       "    </tr>\n",
       "    <tr>\n",
       "      <th>25</th>\n",
       "      <td>11.7</td>\n",
       "      <td>OBPM 21/22</td>\n",
       "    </tr>\n",
       "    <tr>\n",
       "      <th>26</th>\n",
       "      <td>29.4</td>\n",
       "      <td>VORP 21/22</td>\n",
       "    </tr>\n",
       "  </tbody>\n",
       "</table>\n",
       "</div>"
      ],
      "text/plain": [
       "    VIF Factor     features\n",
       "0         43.4    Age 21/22\n",
       "1         58.0      G 21/22\n",
       "2         12.1     GS 21/22\n",
       "3        224.7     MP 21/22\n",
       "4       1385.5    FGA 21/22\n",
       "5        230.9     3P 21/22\n",
       "6        607.3    2PA 21/22\n",
       "7         39.9     FT 21/22\n",
       "8         32.0    DRB 21/22\n",
       "9         58.1    AST 21/22\n",
       "10        35.0    STL 21/22\n",
       "11        10.5    BLK 21/22\n",
       "12        61.8    TOV 21/22\n",
       "13        30.5     PF 21/22\n",
       "14      1417.3    PTS 21/22\n",
       "15       663.6    PER 21/22\n",
       "16       204.4    TS% 21/22\n",
       "17        23.4   3PAr 21/22\n",
       "18        13.6    FTr 21/22\n",
       "19        34.0   AST% 21/22\n",
       "20        24.0   STL% 21/22\n",
       "21         9.8   BLK% 21/22\n",
       "22        34.6   TOV% 21/22\n",
       "23       222.9   USG% 21/22\n",
       "24        73.4  WS/48 21/22\n",
       "25        11.7   OBPM 21/22\n",
       "26        29.4   VORP 21/22"
      ]
     },
     "execution_count": 35,
     "metadata": {},
     "output_type": "execute_result"
    }
   ],
   "source": [
    "V = df1[['Age 21/22', 'G 21/22', 'GS 21/22', 'MP 21/22', 'FGA 21/22','3P 21/22', '2PA 21/22', \n",
    "         'FT 21/22', 'DRB 21/22', 'AST 21/22', 'STL 21/22', 'BLK 21/22', 'TOV 21/22', 'PF 21/22', 'PTS 21/22', \n",
    "         'PER 21/22', 'TS% 21/22', '3PAr 21/22', 'FTr 21/22', 'AST% 21/22', 'STL% 21/22', \n",
    "         'BLK% 21/22', 'TOV% 21/22', 'USG% 21/22','WS/48 21/22' ,'OBPM 21/22', 'VORP 21/22']]\n",
    "\n",
    "# 특징마다의 VIF 계수를 출력합니다.\n",
    "vif = pd.DataFrame()\n",
    "vif[\"VIF Factor\"] = [variance_inflation_factor(V.values, i) for i in range(V.shape[1])]\n",
    "vif[\"features\"] = V.columns\n",
    "vif.round(1)"
   ]
  },
  {
   "cell_type": "markdown",
   "id": "32c48885",
   "metadata": {},
   "source": [
    "### What about the relationship between the absolute changes and salary?"
   ]
  },
  {
   "cell_type": "markdown",
   "id": "54ffe640",
   "metadata": {},
   "source": [
    "20/21 시즌과 21/22 시즌의 성적 변화가 선수들의 연봉을 결정하는 데 영향을 미치는 지 확인한다.  "
   ]
  },
  {
   "cell_type": "code",
   "execution_count": 36,
   "id": "c6199d29",
   "metadata": {},
   "outputs": [
    {
     "name": "stderr",
     "output_type": "stream",
     "text": [
      "C:\\Users\\borus\\AppData\\Local\\Temp\\ipykernel_17372\\3233410418.py:5: DeprecationWarning: `np.bool` is a deprecated alias for the builtin `bool`. To silence this warning, use `bool` by itself. Doing this will not modify any behavior and is safe. If you specifically wanted the numpy scalar type, use `np.bool_` here.\n",
      "Deprecated in NumPy 1.20; for more details and guidance: https://numpy.org/devdocs/release/1.20.0-notes.html#deprecations\n",
      "  mask = np.triu(np.ones_like(cor_matrix, dtype = np.bool))\n"
     ]
    },
    {
     "data": {
      "text/plain": [
       "<AxesSubplot:>"
      ]
     },
     "execution_count": 36,
     "metadata": {},
     "output_type": "execute_result"
    },
    {
     "data": {
      "image/png": "[encoded data removed]",
      "text/plain": [
       "<Figure size 720x576 with 2 Axes>"
      ]
     },
     "metadata": {},
     "output_type": "display_data"
    }
   ],
   "source": [
    "cor_matrix = df2.loc[:, ['eFG% +-','TRB +-', 'AST +-', 'STL +-', 'BLK +-', 'TOV +-', 'PF +-', 'PTS +-', \n",
    "                        'Salary 22/23']].corr()\n",
    "\n",
    "# Generate a mask for the upper triangle\n",
    "mask = np.triu(np.ones_like(cor_matrix, dtype = np.bool))\n",
    "\n",
    "plt.figure(figsize = (10, 8))\n",
    "\n",
    "# Generate a custom diverging colormap\n",
    "cmap = sns.diverging_palette(220, 10, as_cmap = True)\n",
    "\n",
    "sns.heatmap(cor_matrix, mask = mask, cmap = cmap, center = 0,\n",
    "            square = True, linewidths = .5, cbar_kws = {\"shrink\": .5})"
   ]
  },
  {
   "cell_type": "markdown",
   "id": "5f540320",
   "metadata": {},
   "source": [
    "Absolute change와 연봉 간에는 선형적인 관계는 없어 보인다.<br> 그러므로 예측 모델을 구현 하는 데 있어서 absolute changes와 20/21 시즌의 통계 수치를 제외한다."
   ]
  },
  {
   "cell_type": "markdown",
   "id": "c74522f5",
   "metadata": {},
   "source": [
    "## 3. Data Preparation"
   ]
  },
  {
   "cell_type": "markdown",
   "id": "c8c2f563",
   "metadata": {},
   "source": [
    "### Feature Scaling"
   ]
  },
  {
   "cell_type": "markdown",
   "id": "652af31b",
   "metadata": {},
   "source": [
    "특징들 간의 단위를 맞추기 위해서 StandardScaler를 이용한 Scaling을 진행한다."
   ]
  },
  {
   "cell_type": "code",
   "execution_count": 37,
   "id": "e7368cf2",
   "metadata": {},
   "outputs": [],
   "source": [
    "# Define the function scaling for each feature\n",
    "def standard_scaling(df, scale_columns):\n",
    "    for col in scale_columns:\n",
    "        series_mean = df[col].mean()\n",
    "        series_std = df[col].std()\n",
    "        df[col] = df[col].apply(lambda x: (x-series_mean)/series_std)\n",
    "    return df"
   ]
  },
  {
   "cell_type": "code",
   "execution_count": 38,
   "id": "7fb001d5",
   "metadata": {},
   "outputs": [
    {
     "data": {
      "text/html": [
       "<div>\n",
       "<style scoped>\n",
       "    .dataframe tbody tr th:only-of-type {\n",
       "        vertical-align: middle;\n",
       "    }\n",
       "\n",
       "    .dataframe tbody tr th {\n",
       "        vertical-align: top;\n",
       "    }\n",
       "\n",
       "    .dataframe thead th {\n",
       "        text-align: right;\n",
       "    }\n",
       "</style>\n",
       "<table border=\"1\" class=\"dataframe\">\n",
       "  <thead>\n",
       "    <tr style=\"text-align: right;\">\n",
       "      <th></th>\n",
       "      <th>level_0</th>\n",
       "      <th>index</th>\n",
       "      <th>Player</th>\n",
       "      <th>Pos</th>\n",
       "      <th>Age 21/22</th>\n",
       "      <th>Tm 21/22</th>\n",
       "      <th>G 21/22</th>\n",
       "      <th>GS 21/22</th>\n",
       "      <th>MP 21/22</th>\n",
       "      <th>FG 21/22</th>\n",
       "      <th>...</th>\n",
       "      <th>USG% 21/22</th>\n",
       "      <th>OWS 21/22</th>\n",
       "      <th>DWS 21/22</th>\n",
       "      <th>WS 21/22</th>\n",
       "      <th>WS/48 21/22</th>\n",
       "      <th>OBPM 21/22</th>\n",
       "      <th>DBPM 21/22</th>\n",
       "      <th>BPM 21/22</th>\n",
       "      <th>VORP 21/22</th>\n",
       "      <th>Salary 22/23</th>\n",
       "    </tr>\n",
       "  </thead>\n",
       "  <tbody>\n",
       "    <tr>\n",
       "      <th>0</th>\n",
       "      <td>0</td>\n",
       "      <td>0</td>\n",
       "      <td>Precious Achiuwa</td>\n",
       "      <td>C</td>\n",
       "      <td>-0.858388</td>\n",
       "      <td>TOR</td>\n",
       "      <td>0.921005</td>\n",
       "      <td>-0.039430</td>\n",
       "      <td>0.547006</td>\n",
       "      <td>0.234915</td>\n",
       "      <td>...</td>\n",
       "      <td>-0.094090</td>\n",
       "      <td>-0.637248</td>\n",
       "      <td>0.747301</td>\n",
       "      <td>-0.165432</td>\n",
       "      <td>-0.446067</td>\n",
       "      <td>-0.597195</td>\n",
       "      <td>-0.424855</td>\n",
       "      <td>-0.666235</td>\n",
       "      <td>-0.750544</td>\n",
       "      <td>2840.160</td>\n",
       "    </tr>\n",
       "    <tr>\n",
       "      <th>1</th>\n",
       "      <td>1</td>\n",
       "      <td>2</td>\n",
       "      <td>Steven Adams</td>\n",
       "      <td>C</td>\n",
       "      <td>0.569737</td>\n",
       "      <td>MEM</td>\n",
       "      <td>1.073615</td>\n",
       "      <td>1.699017</td>\n",
       "      <td>0.921009</td>\n",
       "      <td>-0.102166</td>\n",
       "      <td>...</td>\n",
       "      <td>-1.279017</td>\n",
       "      <td>1.240203</td>\n",
       "      <td>1.665465</td>\n",
       "      <td>1.518277</td>\n",
       "      <td>1.032027</td>\n",
       "      <td>0.595834</td>\n",
       "      <td>0.728297</td>\n",
       "      <td>0.796885</td>\n",
       "      <td>0.963516</td>\n",
       "      <td>17926.829</td>\n",
       "    </tr>\n",
       "    <tr>\n",
       "      <th>2</th>\n",
       "      <td>2</td>\n",
       "      <td>3</td>\n",
       "      <td>Bam Adebayo</td>\n",
       "      <td>C</td>\n",
       "      <td>-0.382346</td>\n",
       "      <td>MIA</td>\n",
       "      <td>0.056218</td>\n",
       "      <td>0.996241</td>\n",
       "      <td>0.683503</td>\n",
       "      <td>1.099069</td>\n",
       "      <td>...</td>\n",
       "      <td>1.090837</td>\n",
       "      <td>1.129765</td>\n",
       "      <td>2.175555</td>\n",
       "      <td>1.674901</td>\n",
       "      <td>1.429365</td>\n",
       "      <td>0.874207</td>\n",
       "      <td>1.521090</td>\n",
       "      <td>1.369410</td>\n",
       "      <td>1.508899</td>\n",
       "      <td>30351.780</td>\n",
       "    </tr>\n",
       "    <tr>\n",
       "      <th>3</th>\n",
       "      <td>3</td>\n",
       "      <td>6</td>\n",
       "      <td>Nickeil Alexander-Walker</td>\n",
       "      <td>SG</td>\n",
       "      <td>-0.620367</td>\n",
       "      <td>TOT</td>\n",
       "      <td>0.514047</td>\n",
       "      <td>-0.298348</td>\n",
       "      <td>0.193476</td>\n",
       "      <td>0.161370</td>\n",
       "      <td>...</td>\n",
       "      <td>0.926771</td>\n",
       "      <td>-1.465535</td>\n",
       "      <td>-0.272880</td>\n",
       "      <td>-1.105176</td>\n",
       "      <td>-1.510930</td>\n",
       "      <td>-0.517660</td>\n",
       "      <td>-0.785215</td>\n",
       "      <td>-0.761656</td>\n",
       "      <td>-0.828456</td>\n",
       "      <td>5009.633</td>\n",
       "    </tr>\n",
       "    <tr>\n",
       "      <th>4</th>\n",
       "      <td>4</td>\n",
       "      <td>7</td>\n",
       "      <td>Grayson Allen</td>\n",
       "      <td>SG</td>\n",
       "      <td>0.093695</td>\n",
       "      <td>MIL</td>\n",
       "      <td>0.564916</td>\n",
       "      <td>1.181182</td>\n",
       "      <td>0.656204</td>\n",
       "      <td>0.173628</td>\n",
       "      <td>...</td>\n",
       "      <td>-0.695669</td>\n",
       "      <td>0.688012</td>\n",
       "      <td>0.033175</td>\n",
       "      <td>0.500220</td>\n",
       "      <td>0.189673</td>\n",
       "      <td>0.436763</td>\n",
       "      <td>-0.136567</td>\n",
       "      <td>0.287973</td>\n",
       "      <td>0.262310</td>\n",
       "      <td>8500.000</td>\n",
       "    </tr>\n",
       "  </tbody>\n",
       "</table>\n",
       "<p>5 rows × 52 columns</p>\n",
       "</div>"
      ],
      "text/plain": [
       "   level_0  index                    Player Pos  Age 21/22 Tm 21/22   G 21/22  \\\n",
       "0        0      0          Precious Achiuwa   C  -0.858388      TOR  0.921005   \n",
       "1        1      2              Steven Adams   C   0.569737      MEM  1.073615   \n",
       "2        2      3               Bam Adebayo   C  -0.382346      MIA  0.056218   \n",
       "3        3      6  Nickeil Alexander-Walker  SG  -0.620367      TOT  0.514047   \n",
       "4        4      7             Grayson Allen  SG   0.093695      MIL  0.564916   \n",
       "\n",
       "   GS 21/22  MP 21/22  FG 21/22  ...  USG% 21/22  OWS 21/22  DWS 21/22  \\\n",
       "0 -0.039430  0.547006  0.234915  ...   -0.094090  -0.637248   0.747301   \n",
       "1  1.699017  0.921009 -0.102166  ...   -1.279017   1.240203   1.665465   \n",
       "2  0.996241  0.683503  1.099069  ...    1.090837   1.129765   2.175555   \n",
       "3 -0.298348  0.193476  0.161370  ...    0.926771  -1.465535  -0.272880   \n",
       "4  1.181182  0.656204  0.173628  ...   -0.695669   0.688012   0.033175   \n",
       "\n",
       "   WS 21/22  WS/48 21/22  OBPM 21/22  DBPM 21/22  BPM 21/22  VORP 21/22  \\\n",
       "0 -0.165432    -0.446067   -0.597195   -0.424855  -0.666235   -0.750544   \n",
       "1  1.518277     1.032027    0.595834    0.728297   0.796885    0.963516   \n",
       "2  1.674901     1.429365    0.874207    1.521090   1.369410    1.508899   \n",
       "3 -1.105176    -1.510930   -0.517660   -0.785215  -0.761656   -0.828456   \n",
       "4  0.500220     0.189673    0.436763   -0.136567   0.287973    0.262310   \n",
       "\n",
       "   Salary 22/23  \n",
       "0      2840.160  \n",
       "1     17926.829  \n",
       "2     30351.780  \n",
       "3      5009.633  \n",
       "4      8500.000  \n",
       "\n",
       "[5 rows x 52 columns]"
      ]
     },
     "execution_count": 38,
     "metadata": {},
     "output_type": "execute_result"
    }
   ],
   "source": [
    "# Scaling for each features\n",
    "scale_columns = ['Age 21/22', 'G 21/22', 'GS 21/22', 'MP 21/22', 'FG 21/22', 'FGA 21/22',\n",
    "         'FG% 21/22', '3P 21/22', '3PA 21/22', '2P 21/22', '2PA 21/22', '2P% 21/22', \n",
    "         'eFG% 21/22', 'FT 21/22', 'FTA 21/22', 'ORB 21/22', 'DRB 21/22', 'TRB 21/22', \n",
    "         'AST 21/22', 'STL 21/22', 'BLK 21/22', 'TOV 21/22', 'PF 21/22', 'PTS 21/22', \n",
    "         'PER 21/22', 'TS% 21/22', '3PAr 21/22', 'FTr 21/22', 'ORB% 21/22', 'DRB% 21/22',\n",
    "         'TRB% 21/22', 'AST% 21/22', 'STL% 21/22', 'BLK% 21/22', 'TOV% 21/22', 'USG% 21/22',\n",
    "         'OWS 21/22', 'DWS 21/22', 'WS 21/22', 'WS/48 21/22' ,'OBPM 21/22', 'DBPM 21/22',\n",
    "         'BPM 21/22', 'VORP 21/22']\n",
    "df1 = standard_scaling(df1, scale_columns)\n",
    "df1.head(5)"
   ]
  },
  {
   "cell_type": "markdown",
   "id": "294bee26",
   "metadata": {},
   "source": [
    "### Define target variable and features"
   ]
  },
  {
   "cell_type": "code",
   "execution_count": 39,
   "id": "822bbf0e",
   "metadata": {},
   "outputs": [
    {
     "name": "stdout",
     "output_type": "stream",
     "text": [
      "(409, 28)\n",
      "(409,)\n"
     ]
    }
   ],
   "source": [
    "y = df1.loc[:, 'Salary 22/23']\n",
    "\n",
    "x = df1.loc[:, ['Pos', 'Age 21/22', 'G 21/22', 'GS 21/22', 'MP 21/22', 'FGA 21/22','3P 21/22', '2PA 21/22', \n",
    "         'FT 21/22', 'DRB 21/22', 'AST 21/22', 'STL 21/22', 'BLK 21/22', 'TOV 21/22', 'PF 21/22', 'PTS 21/22', \n",
    "         'PER 21/22', 'TS% 21/22', '3PAr 21/22', 'FTr 21/22', 'AST% 21/22', 'STL% 21/22', \n",
    "         'BLK% 21/22', 'TOV% 21/22', 'USG% 21/22','WS/48 21/22' ,'OBPM 21/22', 'VORP 21/22']] \n",
    "\n",
    "print(x.shape)\n",
    "print(y.shape)"
   ]
  },
  {
   "cell_type": "markdown",
   "id": "299c21c2",
   "metadata": {},
   "source": [
    "### One-Hot encoding for feature position"
   ]
  },
  {
   "cell_type": "markdown",
   "id": "e8082dfd",
   "metadata": {},
   "source": [
    "범주형 변수를 다루기 위해서 One-Hot encoder를 사용한다."
   ]
  },
  {
   "cell_type": "code",
   "execution_count": 40,
   "id": "8580a3f1",
   "metadata": {},
   "outputs": [
    {
     "name": "stderr",
     "output_type": "stream",
     "text": [
      "C:\\Users\\borus\\anaconda3\\lib\\site-packages\\sklearn\\utils\\deprecation.py:87: FutureWarning: Function get_feature_names is deprecated; get_feature_names is deprecated in 1.0 and will be removed in 1.2. Please use get_feature_names_out instead.\n",
      "  warnings.warn(msg, category=FutureWarning)\n"
     ]
    },
    {
     "data": {
      "text/html": [
       "<div>\n",
       "<style scoped>\n",
       "    .dataframe tbody tr th:only-of-type {\n",
       "        vertical-align: middle;\n",
       "    }\n",
       "\n",
       "    .dataframe tbody tr th {\n",
       "        vertical-align: top;\n",
       "    }\n",
       "\n",
       "    .dataframe thead th {\n",
       "        text-align: right;\n",
       "    }\n",
       "</style>\n",
       "<table border=\"1\" class=\"dataframe\">\n",
       "  <thead>\n",
       "    <tr style=\"text-align: right;\">\n",
       "      <th></th>\n",
       "      <th>Age 21/22</th>\n",
       "      <th>G 21/22</th>\n",
       "      <th>GS 21/22</th>\n",
       "      <th>MP 21/22</th>\n",
       "      <th>FGA 21/22</th>\n",
       "      <th>3P 21/22</th>\n",
       "      <th>2PA 21/22</th>\n",
       "      <th>FT 21/22</th>\n",
       "      <th>DRB 21/22</th>\n",
       "      <th>AST 21/22</th>\n",
       "      <th>...</th>\n",
       "      <th>TOV% 21/22</th>\n",
       "      <th>USG% 21/22</th>\n",
       "      <th>WS/48 21/22</th>\n",
       "      <th>OBPM 21/22</th>\n",
       "      <th>VORP 21/22</th>\n",
       "      <th>Pos_PG</th>\n",
       "      <th>Pos_SG</th>\n",
       "      <th>Pos_SF</th>\n",
       "      <th>Pos_PF</th>\n",
       "      <th>Pos_C</th>\n",
       "    </tr>\n",
       "  </thead>\n",
       "  <tbody>\n",
       "    <tr>\n",
       "      <th>0</th>\n",
       "      <td>-0.858388</td>\n",
       "      <td>0.921005</td>\n",
       "      <td>-0.039430</td>\n",
       "      <td>0.547006</td>\n",
       "      <td>0.326680</td>\n",
       "      <td>-0.215207</td>\n",
       "      <td>0.645045</td>\n",
       "      <td>-0.177885</td>\n",
       "      <td>1.006198</td>\n",
       "      <td>-0.420419</td>\n",
       "      <td>...</td>\n",
       "      <td>-0.153819</td>\n",
       "      <td>-0.094090</td>\n",
       "      <td>-0.446067</td>\n",
       "      <td>-0.597195</td>\n",
       "      <td>-0.750544</td>\n",
       "      <td>0.0</td>\n",
       "      <td>0.0</td>\n",
       "      <td>0.0</td>\n",
       "      <td>0.0</td>\n",
       "      <td>1.0</td>\n",
       "    </tr>\n",
       "    <tr>\n",
       "      <th>1</th>\n",
       "      <td>0.569737</td>\n",
       "      <td>1.073615</td>\n",
       "      <td>1.699017</td>\n",
       "      <td>0.921009</td>\n",
       "      <td>-0.299895</td>\n",
       "      <td>-1.107834</td>\n",
       "      <td>0.375175</td>\n",
       "      <td>0.139407</td>\n",
       "      <td>1.620256</td>\n",
       "      <td>0.916290</td>\n",
       "      <td>...</td>\n",
       "      <td>1.686755</td>\n",
       "      <td>-1.279017</td>\n",
       "      <td>1.032027</td>\n",
       "      <td>0.595834</td>\n",
       "      <td>0.963516</td>\n",
       "      <td>0.0</td>\n",
       "      <td>0.0</td>\n",
       "      <td>0.0</td>\n",
       "      <td>0.0</td>\n",
       "      <td>1.0</td>\n",
       "    </tr>\n",
       "    <tr>\n",
       "      <th>2</th>\n",
       "      <td>-0.382346</td>\n",
       "      <td>0.056218</td>\n",
       "      <td>0.996241</td>\n",
       "      <td>0.683503</td>\n",
       "      <td>0.687176</td>\n",
       "      <td>-1.107834</td>\n",
       "      <td>1.808859</td>\n",
       "      <td>1.704711</td>\n",
       "      <td>1.737219</td>\n",
       "      <td>0.409262</td>\n",
       "      <td>...</td>\n",
       "      <td>0.533624</td>\n",
       "      <td>1.090837</td>\n",
       "      <td>1.429365</td>\n",
       "      <td>0.874207</td>\n",
       "      <td>1.508899</td>\n",
       "      <td>0.0</td>\n",
       "      <td>0.0</td>\n",
       "      <td>0.0</td>\n",
       "      <td>0.0</td>\n",
       "      <td>1.0</td>\n",
       "    </tr>\n",
       "    <tr>\n",
       "      <th>3</th>\n",
       "      <td>-0.620367</td>\n",
       "      <td>0.514047</td>\n",
       "      <td>-0.298348</td>\n",
       "      <td>0.193476</td>\n",
       "      <td>0.546983</td>\n",
       "      <td>0.565843</td>\n",
       "      <td>0.202289</td>\n",
       "      <td>-0.146156</td>\n",
       "      <td>-0.287707</td>\n",
       "      <td>0.148066</td>\n",
       "      <td>...</td>\n",
       "      <td>-0.153819</td>\n",
       "      <td>0.926771</td>\n",
       "      <td>-1.510930</td>\n",
       "      <td>-0.517660</td>\n",
       "      <td>-0.828456</td>\n",
       "      <td>0.0</td>\n",
       "      <td>1.0</td>\n",
       "      <td>0.0</td>\n",
       "      <td>0.0</td>\n",
       "      <td>0.0</td>\n",
       "    </tr>\n",
       "    <tr>\n",
       "      <th>4</th>\n",
       "      <td>0.093695</td>\n",
       "      <td>0.564916</td>\n",
       "      <td>1.181182</td>\n",
       "      <td>0.656204</td>\n",
       "      <td>0.229404</td>\n",
       "      <td>1.426591</td>\n",
       "      <td>-0.480819</td>\n",
       "      <td>-0.325954</td>\n",
       "      <td>0.004701</td>\n",
       "      <td>-0.282139</td>\n",
       "      <td>...</td>\n",
       "      <td>-1.173897</td>\n",
       "      <td>-0.695669</td>\n",
       "      <td>0.189673</td>\n",
       "      <td>0.436763</td>\n",
       "      <td>0.262310</td>\n",
       "      <td>0.0</td>\n",
       "      <td>1.0</td>\n",
       "      <td>0.0</td>\n",
       "      <td>0.0</td>\n",
       "      <td>0.0</td>\n",
       "    </tr>\n",
       "  </tbody>\n",
       "</table>\n",
       "<p>5 rows × 32 columns</p>\n",
       "</div>"
      ],
      "text/plain": [
       "   Age 21/22   G 21/22  GS 21/22  MP 21/22  FGA 21/22  3P 21/22  2PA 21/22  \\\n",
       "0  -0.858388  0.921005 -0.039430  0.547006   0.326680 -0.215207   0.645045   \n",
       "1   0.569737  1.073615  1.699017  0.921009  -0.299895 -1.107834   0.375175   \n",
       "2  -0.382346  0.056218  0.996241  0.683503   0.687176 -1.107834   1.808859   \n",
       "3  -0.620367  0.514047 -0.298348  0.193476   0.546983  0.565843   0.202289   \n",
       "4   0.093695  0.564916  1.181182  0.656204   0.229404  1.426591  -0.480819   \n",
       "\n",
       "   FT 21/22  DRB 21/22  AST 21/22  ...  TOV% 21/22  USG% 21/22  WS/48 21/22  \\\n",
       "0 -0.177885   1.006198  -0.420419  ...   -0.153819   -0.094090    -0.446067   \n",
       "1  0.139407   1.620256   0.916290  ...    1.686755   -1.279017     1.032027   \n",
       "2  1.704711   1.737219   0.409262  ...    0.533624    1.090837     1.429365   \n",
       "3 -0.146156  -0.287707   0.148066  ...   -0.153819    0.926771    -1.510930   \n",
       "4 -0.325954   0.004701  -0.282139  ...   -1.173897   -0.695669     0.189673   \n",
       "\n",
       "   OBPM 21/22  VORP 21/22  Pos_PG  Pos_SG  Pos_SF  Pos_PF  Pos_C  \n",
       "0   -0.597195   -0.750544     0.0     0.0     0.0     0.0    1.0  \n",
       "1    0.595834    0.963516     0.0     0.0     0.0     0.0    1.0  \n",
       "2    0.874207    1.508899     0.0     0.0     0.0     0.0    1.0  \n",
       "3   -0.517660   -0.828456     0.0     1.0     0.0     0.0    0.0  \n",
       "4    0.436763    0.262310     0.0     1.0     0.0     0.0    0.0  \n",
       "\n",
       "[5 rows x 32 columns]"
      ]
     },
     "execution_count": 40,
     "metadata": {},
     "output_type": "execute_result"
    }
   ],
   "source": [
    "# Instantiate OneHotEncoder\n",
    "ohe = OneHotEncoder(categories = [['PG', 'SG', 'SF', 'PF', 'C']])\n",
    "\n",
    "# Apply one-hot encoder\n",
    "x_ohe = pd.DataFrame(ohe.fit_transform(x['Pos'].to_frame()).toarray())\n",
    "\n",
    "# Get feature names\n",
    "x_ohe.columns = ohe.get_feature_names(['Pos'])\n",
    "\n",
    "# One-hot encoding removed index; put it back\n",
    "x_ohe.index = x.index\n",
    "\n",
    "# Add one-hot encoded columns to numerical features and remove categorical column\n",
    "x = pd.concat([x, x_ohe], axis=1).drop(['Pos'], axis=1)\n",
    "\n",
    "# How does it look like?\n",
    "x.head()"
   ]
  },
  {
   "cell_type": "markdown",
   "id": "95e5c229",
   "metadata": {},
   "source": [
    "### Split Data into train and test"
   ]
  },
  {
   "cell_type": "markdown",
   "id": "e2e4c4ec",
   "metadata": {},
   "source": [
    "회귀 분석을 위한 학습, 테스트 데이터셋 분리한다."
   ]
  },
  {
   "cell_type": "code",
   "execution_count": 41,
   "id": "502cab22",
   "metadata": {},
   "outputs": [
    {
     "name": "stdout",
     "output_type": "stream",
     "text": [
      "(327, 32)\n",
      "(327,)\n",
      "(82, 32)\n",
      "(82,)\n"
     ]
    }
   ],
   "source": [
    "# Split data using train_test_split\n",
    "x_train, x_test, y_train, y_test = train_test_split(x, y, test_size = 0.2, random_state = 0)\n",
    "\n",
    "print(x_train.shape)\n",
    "print(y_train.shape)\n",
    "print(x_test.shape)\n",
    "print(y_test.shape)"
   ]
  },
  {
   "cell_type": "markdown",
   "id": "974063e7",
   "metadata": {},
   "source": [
    "### Normalise y"
   ]
  },
  {
   "cell_type": "markdown",
   "id": "b9c09391",
   "metadata": {},
   "source": [
    "앞서 종속 변수(dependent variable)가 정규 분포를 근사적으로 따르지 않는 것을 확인했다.<br>\n",
    "그러므로 머신러닝 모델을 구현하기 위해서 정규화를 해준다."
   ]
  },
  {
   "cell_type": "code",
   "execution_count": 42,
   "id": "91cc7796",
   "metadata": {},
   "outputs": [
    {
     "name": "stderr",
     "output_type": "stream",
     "text": [
      "C:\\Users\\borus\\anaconda3\\lib\\site-packages\\seaborn\\distributions.py:2619: FutureWarning: `distplot` is a deprecated function and will be removed in a future version. Please adapt your code to use either `displot` (a figure-level function with similar flexibility) or `histplot` (an axes-level function for histograms).\n",
      "  warnings.warn(msg, FutureWarning)\n",
      "C:\\Users\\borus\\anaconda3\\lib\\site-packages\\seaborn\\distributions.py:2619: FutureWarning: `distplot` is a deprecated function and will be removed in a future version. Please adapt your code to use either `displot` (a figure-level function with similar flexibility) or `histplot` (an axes-level function for histograms).\n",
      "  warnings.warn(msg, FutureWarning)\n"
     ]
    },
    {
     "data": {
      "text/plain": [
       "<AxesSubplot:xlabel='y_test', ylabel='Density'>"
      ]
     },
     "execution_count": 42,
     "metadata": {},
     "output_type": "execute_result"
    },
    {
     "data": {
      "image/png": "[encoded data removed]",
      "text/plain": [
       "<Figure size 720x360 with 2 Axes>"
      ]
     },
     "metadata": {},
     "output_type": "display_data"
    }
   ],
   "source": [
    "#Apply cube-root transformation\n",
    "y_train = pd.DataFrame(np.cbrt([y_train])).T\n",
    "y_test = pd.DataFrame(np.cbrt([y_test])).T\n",
    "y = pd.DataFrame(np.cbrt([y])).T\n",
    "\n",
    "#transformed histogram and normal probability plot\n",
    "f, axes = plt.subplots(1, 2, figsize = (10, 5), sharex = True)\n",
    "sns.distplot(y_train, color = \"skyblue\", fit = norm, ax = axes[0], axlabel = \"y_train\")\n",
    "sns.distplot(y_test, color = \"olive\",fit = norm, ax = axes[1], axlabel = \"y_test\")\n",
    "#sns.distplot(y, color = \"olive\",fit = norm, axlabel = \"y\")"
   ]
  },
  {
   "cell_type": "markdown",
   "id": "48305858",
   "metadata": {},
   "source": [
    "## 4. Building Machine Learning Models"
   ]
  },
  {
   "cell_type": "markdown",
   "id": "05085ae6",
   "metadata": {},
   "source": [
    "### Basic machine learning algorithms"
   ]
  },
  {
   "cell_type": "markdown",
   "id": "2d532842",
   "metadata": {},
   "source": [
    "Model 평가 기준으로 RMS(Root-Mean-Squared Error)와 R-Squared를 활용한다.\n",
    "\n",
    "1. RMSE score: 실제값과 예측값의 차이를 절대값으로 나타낸 것으로, 해당 값이 높을수록 예측이 부정확하다는 뜻이다.\n",
    "\n",
    "\n",
    "2. R-Squared score: 회귀 분석으로 추정한 모델이 주어진 데이터를 얼마나 잘 설명하는지 나타내는 점수로, 데이터를 잘 설명하는 모델일수록 1에 가깝다."
   ]
  },
  {
   "cell_type": "code",
   "execution_count": 43,
   "id": "e3bc42d8",
   "metadata": {},
   "outputs": [],
   "source": [
    "# Function which uses an algorithm as input and returns the desired accuracy metrics and some predictions\n",
    "\n",
    "def alg_fit(alg, x_train, y_train, x_test, name, y_true, df, mse, r2):\n",
    "    \n",
    "    # Model selection\n",
    "    mod = alg.fit(x_train, y_train)\n",
    "    \n",
    "    # Prediction\n",
    "    y_pred = mod.predict(x_test)\n",
    "    \n",
    "    # Accuracy\n",
    "    acc1 = round(mse(y_test, y_pred), 4)\n",
    "    acc2 = round(r2(y_test, y_pred), 4)\n",
    "    \n",
    "    # Accuracy table\n",
    "    x_test['y_pred'] = mod.predict(x_test)\n",
    "    df_acc = pd.merge(df, x_test, how = 'right')\n",
    "    x_test.drop(['y_pred'], axis = 1, inplace = True)\n",
    "    df_acc = df_acc[[name, y_true, 'y_pred']]\n",
    "    df_acc.sort_values(by = y_true, ascending = False, inplace = True)\n",
    "    df_acc['y_pred'] = df_acc['y_pred']**3\n",
    "    \n",
    "    return y_pred, acc1, acc2, df_acc"
   ]
  },
  {
   "cell_type": "markdown",
   "id": "a1081d02",
   "metadata": {},
   "source": [
    "### Linear Regression"
   ]
  },
  {
   "cell_type": "code",
   "execution_count": 44,
   "id": "bf122173",
   "metadata": {},
   "outputs": [
    {
     "name": "stdout",
     "output_type": "stream",
     "text": [
      "Root Mean Squared Error: 3.8856\n",
      "R-squared: 0.6933\n"
     ]
    },
    {
     "data": {
      "text/html": [
       "<div>\n",
       "<style scoped>\n",
       "    .dataframe tbody tr th:only-of-type {\n",
       "        vertical-align: middle;\n",
       "    }\n",
       "\n",
       "    .dataframe tbody tr th {\n",
       "        vertical-align: top;\n",
       "    }\n",
       "\n",
       "    .dataframe thead th {\n",
       "        text-align: right;\n",
       "    }\n",
       "</style>\n",
       "<table border=\"1\" class=\"dataframe\">\n",
       "  <thead>\n",
       "    <tr style=\"text-align: right;\">\n",
       "      <th></th>\n",
       "      <th>Player</th>\n",
       "      <th>Salary 22/23</th>\n",
       "      <th>y_pred</th>\n",
       "    </tr>\n",
       "  </thead>\n",
       "  <tbody>\n",
       "    <tr>\n",
       "      <th>76</th>\n",
       "      <td>Giannis Antetokounmpo</td>\n",
       "      <td>42492.492</td>\n",
       "      <td>59731.383830</td>\n",
       "    </tr>\n",
       "    <tr>\n",
       "      <th>69</th>\n",
       "      <td>Klay Thompson</td>\n",
       "      <td>40600.080</td>\n",
       "      <td>22576.393981</td>\n",
       "    </tr>\n",
       "    <tr>\n",
       "      <th>16</th>\n",
       "      <td>Kyrie Irving</td>\n",
       "      <td>36934.550</td>\n",
       "      <td>19990.313771</td>\n",
       "    </tr>\n",
       "    <tr>\n",
       "      <th>23</th>\n",
       "      <td>Andrew Wiggins</td>\n",
       "      <td>33616.770</td>\n",
       "      <td>16127.067928</td>\n",
       "    </tr>\n",
       "    <tr>\n",
       "      <th>52</th>\n",
       "      <td>Nikola Jokić</td>\n",
       "      <td>33047.803</td>\n",
       "      <td>58484.822043</td>\n",
       "    </tr>\n",
       "    <tr>\n",
       "      <th>66</th>\n",
       "      <td>James Harden</td>\n",
       "      <td>33000.000</td>\n",
       "      <td>39816.310938</td>\n",
       "    </tr>\n",
       "    <tr>\n",
       "      <th>49</th>\n",
       "      <td>Brandon Ingram</td>\n",
       "      <td>31650.600</td>\n",
       "      <td>19881.151873</td>\n",
       "    </tr>\n",
       "    <tr>\n",
       "      <th>1</th>\n",
       "      <td>Jayson Tatum</td>\n",
       "      <td>30351.780</td>\n",
       "      <td>42368.570583</td>\n",
       "    </tr>\n",
       "    <tr>\n",
       "      <th>20</th>\n",
       "      <td>Gordon Hayward</td>\n",
       "      <td>30075.000</td>\n",
       "      <td>13761.682952</td>\n",
       "    </tr>\n",
       "    <tr>\n",
       "      <th>62</th>\n",
       "      <td>Jalen Brunson</td>\n",
       "      <td>27733.332</td>\n",
       "      <td>11394.933372</td>\n",
       "    </tr>\n",
       "  </tbody>\n",
       "</table>\n",
       "</div>"
      ],
      "text/plain": [
       "                   Player  Salary 22/23        y_pred\n",
       "76  Giannis Antetokounmpo     42492.492  59731.383830\n",
       "69          Klay Thompson     40600.080  22576.393981\n",
       "16           Kyrie Irving     36934.550  19990.313771\n",
       "23         Andrew Wiggins     33616.770  16127.067928\n",
       "52           Nikola Jokić     33047.803  58484.822043\n",
       "66           James Harden     33000.000  39816.310938\n",
       "49         Brandon Ingram     31650.600  19881.151873\n",
       "1            Jayson Tatum     30351.780  42368.570583\n",
       "20         Gordon Hayward     30075.000  13761.682952\n",
       "62          Jalen Brunson     27733.332  11394.933372"
      ]
     },
     "execution_count": 44,
     "metadata": {},
     "output_type": "execute_result"
    }
   ],
   "source": [
    "# Linear Regression\n",
    "y_pred_lin, mse_lin, r2_lin, df_acc_lin = alg_fit(LinearRegression(), x_train, y_train, x_test, 'Player', 'Salary 22/23', \n",
    "                                                  df1, metrics.mean_squared_error, metrics.r2_score)\n",
    "\n",
    "print(\"Root Mean Squared Error: %s\" % round(np.sqrt(mse_lin), 4))\n",
    "print(\"R-squared: %s\" % r2_lin)\n",
    "df_acc_lin.head(10)"
   ]
  },
  {
   "cell_type": "markdown",
   "id": "65eb4a2d",
   "metadata": {},
   "source": [
    "### Ridge Regression"
   ]
  },
  {
   "cell_type": "markdown",
   "id": "1a999a9c",
   "metadata": {},
   "source": [
    "선형 회귀(Linear Regression) 모델은 다중 공선성 문제를 가지기 때문에 이에 대한 적합한 해결책을 찾아야 한다.<br>\n",
    "다중 공선성 문제는 부정확한 추정을 유발하고 큰 표준 오차를 가지게 한다.<br> \n",
    "Ridge regression은 람다 값을 조절해 추정에 개선된 효율성을 제공하여 해당 문제를 완화한다."
   ]
  },
  {
   "cell_type": "code",
   "execution_count": 45,
   "id": "b71f0a67",
   "metadata": {},
   "outputs": [
    {
     "name": "stdout",
     "output_type": "stream",
     "text": [
      "Root Mean Squared Error: 3.79\n",
      "R-squared: 0.7082\n"
     ]
    },
    {
     "data": {
      "text/html": [
       "<div>\n",
       "<style scoped>\n",
       "    .dataframe tbody tr th:only-of-type {\n",
       "        vertical-align: middle;\n",
       "    }\n",
       "\n",
       "    .dataframe tbody tr th {\n",
       "        vertical-align: top;\n",
       "    }\n",
       "\n",
       "    .dataframe thead th {\n",
       "        text-align: right;\n",
       "    }\n",
       "</style>\n",
       "<table border=\"1\" class=\"dataframe\">\n",
       "  <thead>\n",
       "    <tr style=\"text-align: right;\">\n",
       "      <th></th>\n",
       "      <th>Player</th>\n",
       "      <th>Salary 22/23</th>\n",
       "      <th>y_pred</th>\n",
       "    </tr>\n",
       "  </thead>\n",
       "  <tbody>\n",
       "    <tr>\n",
       "      <th>76</th>\n",
       "      <td>Giannis Antetokounmpo</td>\n",
       "      <td>42492.492</td>\n",
       "      <td>54627.392934</td>\n",
       "    </tr>\n",
       "    <tr>\n",
       "      <th>69</th>\n",
       "      <td>Klay Thompson</td>\n",
       "      <td>40600.080</td>\n",
       "      <td>21316.157720</td>\n",
       "    </tr>\n",
       "    <tr>\n",
       "      <th>16</th>\n",
       "      <td>Kyrie Irving</td>\n",
       "      <td>36934.550</td>\n",
       "      <td>20255.658641</td>\n",
       "    </tr>\n",
       "    <tr>\n",
       "      <th>23</th>\n",
       "      <td>Andrew Wiggins</td>\n",
       "      <td>33616.770</td>\n",
       "      <td>17166.992925</td>\n",
       "    </tr>\n",
       "    <tr>\n",
       "      <th>52</th>\n",
       "      <td>Nikola Jokić</td>\n",
       "      <td>33047.803</td>\n",
       "      <td>52640.956232</td>\n",
       "    </tr>\n",
       "    <tr>\n",
       "      <th>66</th>\n",
       "      <td>James Harden</td>\n",
       "      <td>33000.000</td>\n",
       "      <td>37577.001448</td>\n",
       "    </tr>\n",
       "    <tr>\n",
       "      <th>49</th>\n",
       "      <td>Brandon Ingram</td>\n",
       "      <td>31650.600</td>\n",
       "      <td>20472.171229</td>\n",
       "    </tr>\n",
       "    <tr>\n",
       "      <th>1</th>\n",
       "      <td>Jayson Tatum</td>\n",
       "      <td>30351.780</td>\n",
       "      <td>39550.904853</td>\n",
       "    </tr>\n",
       "    <tr>\n",
       "      <th>20</th>\n",
       "      <td>Gordon Hayward</td>\n",
       "      <td>30075.000</td>\n",
       "      <td>14598.786890</td>\n",
       "    </tr>\n",
       "    <tr>\n",
       "      <th>62</th>\n",
       "      <td>Jalen Brunson</td>\n",
       "      <td>27733.332</td>\n",
       "      <td>11678.919075</td>\n",
       "    </tr>\n",
       "  </tbody>\n",
       "</table>\n",
       "</div>"
      ],
      "text/plain": [
       "                   Player  Salary 22/23        y_pred\n",
       "76  Giannis Antetokounmpo     42492.492  54627.392934\n",
       "69          Klay Thompson     40600.080  21316.157720\n",
       "16           Kyrie Irving     36934.550  20255.658641\n",
       "23         Andrew Wiggins     33616.770  17166.992925\n",
       "52           Nikola Jokić     33047.803  52640.956232\n",
       "66           James Harden     33000.000  37577.001448\n",
       "49         Brandon Ingram     31650.600  20472.171229\n",
       "1            Jayson Tatum     30351.780  39550.904853\n",
       "20         Gordon Hayward     30075.000  14598.786890\n",
       "62          Jalen Brunson     27733.332  11678.919075"
      ]
     },
     "execution_count": 45,
     "metadata": {},
     "output_type": "execute_result"
    }
   ],
   "source": [
    "# Ridge Regression\n",
    "y_pred_rid, mse_rid, r2_rid, df_acc_rid = alg_fit(Ridge(alpha = 1), x_train, y_train, x_test, 'Player', 'Salary 22/23',\n",
    "                                                  df1, metrics.mean_squared_error, metrics.r2_score)\n",
    "\n",
    "print(\"Root Mean Squared Error: %s\" % round(np.sqrt(mse_rid), 4))\n",
    "print(\"R-squared: %s\" % r2_rid)\n",
    "df_acc_rid.head(10)"
   ]
  },
  {
   "cell_type": "markdown",
   "id": "cb198943",
   "metadata": {},
   "source": [
    "### Lasso Regression"
   ]
  },
  {
   "cell_type": "markdown",
   "id": "f76545db",
   "metadata": {},
   "source": [
    "Lasso Regression는 Ridge Regression과 개념적으로 매우 유사하다. 0이 아닌 계수에 대해 패널티를 추가로 부여하며, Ridge Regression과 다르게 계수의 제곱합이 아닌 계수의 절대값으로 제한한다."
   ]
  },
  {
   "cell_type": "code",
   "execution_count": 46,
   "id": "28079dd5",
   "metadata": {},
   "outputs": [
    {
     "name": "stdout",
     "output_type": "stream",
     "text": [
      "Root Mean Squared Error: 3.8648\n",
      "R-squared: 0.6966\n"
     ]
    },
    {
     "name": "stderr",
     "output_type": "stream",
     "text": [
      "C:\\Users\\borus\\anaconda3\\lib\\site-packages\\sklearn\\linear_model\\_coordinate_descent.py:647: ConvergenceWarning: Objective did not converge. You might want to increase the number of iterations, check the scale of the features or consider increasing regularisation. Duality gap: 1.451e+03, tolerance: 1.556e+00\n",
      "  model = cd_fast.enet_coordinate_descent(\n"
     ]
    },
    {
     "data": {
      "text/html": [
       "<div>\n",
       "<style scoped>\n",
       "    .dataframe tbody tr th:only-of-type {\n",
       "        vertical-align: middle;\n",
       "    }\n",
       "\n",
       "    .dataframe tbody tr th {\n",
       "        vertical-align: top;\n",
       "    }\n",
       "\n",
       "    .dataframe thead th {\n",
       "        text-align: right;\n",
       "    }\n",
       "</style>\n",
       "<table border=\"1\" class=\"dataframe\">\n",
       "  <thead>\n",
       "    <tr style=\"text-align: right;\">\n",
       "      <th></th>\n",
       "      <th>Player</th>\n",
       "      <th>Salary 22/23</th>\n",
       "      <th>y_pred</th>\n",
       "    </tr>\n",
       "  </thead>\n",
       "  <tbody>\n",
       "    <tr>\n",
       "      <th>76</th>\n",
       "      <td>Giannis Antetokounmpo</td>\n",
       "      <td>42492.492</td>\n",
       "      <td>58924.786829</td>\n",
       "    </tr>\n",
       "    <tr>\n",
       "      <th>69</th>\n",
       "      <td>Klay Thompson</td>\n",
       "      <td>40600.080</td>\n",
       "      <td>22622.242458</td>\n",
       "    </tr>\n",
       "    <tr>\n",
       "      <th>16</th>\n",
       "      <td>Kyrie Irving</td>\n",
       "      <td>36934.550</td>\n",
       "      <td>20332.399395</td>\n",
       "    </tr>\n",
       "    <tr>\n",
       "      <th>23</th>\n",
       "      <td>Andrew Wiggins</td>\n",
       "      <td>33616.770</td>\n",
       "      <td>16432.980208</td>\n",
       "    </tr>\n",
       "    <tr>\n",
       "      <th>52</th>\n",
       "      <td>Nikola Jokić</td>\n",
       "      <td>33047.803</td>\n",
       "      <td>57119.586172</td>\n",
       "    </tr>\n",
       "    <tr>\n",
       "      <th>66</th>\n",
       "      <td>James Harden</td>\n",
       "      <td>33000.000</td>\n",
       "      <td>39553.579669</td>\n",
       "    </tr>\n",
       "    <tr>\n",
       "      <th>49</th>\n",
       "      <td>Brandon Ingram</td>\n",
       "      <td>31650.600</td>\n",
       "      <td>19827.380669</td>\n",
       "    </tr>\n",
       "    <tr>\n",
       "      <th>1</th>\n",
       "      <td>Jayson Tatum</td>\n",
       "      <td>30351.780</td>\n",
       "      <td>41247.310983</td>\n",
       "    </tr>\n",
       "    <tr>\n",
       "      <th>20</th>\n",
       "      <td>Gordon Hayward</td>\n",
       "      <td>30075.000</td>\n",
       "      <td>14053.676132</td>\n",
       "    </tr>\n",
       "    <tr>\n",
       "      <th>62</th>\n",
       "      <td>Jalen Brunson</td>\n",
       "      <td>27733.332</td>\n",
       "      <td>11499.315611</td>\n",
       "    </tr>\n",
       "  </tbody>\n",
       "</table>\n",
       "</div>"
      ],
      "text/plain": [
       "                   Player  Salary 22/23        y_pred\n",
       "76  Giannis Antetokounmpo     42492.492  58924.786829\n",
       "69          Klay Thompson     40600.080  22622.242458\n",
       "16           Kyrie Irving     36934.550  20332.399395\n",
       "23         Andrew Wiggins     33616.770  16432.980208\n",
       "52           Nikola Jokić     33047.803  57119.586172\n",
       "66           James Harden     33000.000  39553.579669\n",
       "49         Brandon Ingram     31650.600  19827.380669\n",
       "1            Jayson Tatum     30351.780  41247.310983\n",
       "20         Gordon Hayward     30075.000  14053.676132\n",
       "62          Jalen Brunson     27733.332  11499.315611"
      ]
     },
     "execution_count": 46,
     "metadata": {},
     "output_type": "execute_result"
    }
   ],
   "source": [
    "# Lasso Regression\n",
    "y_pred_las, mse_las, r2_las, df_acc_las = alg_fit(Lasso(alpha = 0.001), x_train, y_train, x_test, 'Player', 'Salary 22/23',\n",
    "                                                  df1, metrics.mean_squared_error, metrics.r2_score)\n",
    "\n",
    "print(\"Root Mean Squared Error: %s\" % round(np.sqrt(mse_las), 4))\n",
    "print(\"R-squared: %s\" % r2_las)\n",
    "df_acc_las.head(10)"
   ]
  },
  {
   "cell_type": "markdown",
   "id": "932e4518",
   "metadata": {},
   "source": [
    "### Cross Validation"
   ]
  },
  {
   "cell_type": "markdown",
   "id": "e19fdd03",
   "metadata": {},
   "source": [
    "Cross Validation을 통해 보다 정교한 정확도 측정을 제공한다."
   ]
  },
  {
   "cell_type": "code",
   "execution_count": 47,
   "id": "cee67a21",
   "metadata": {},
   "outputs": [],
   "source": [
    "def alg_fit_cv(alg, x, y, mse, r2):\n",
    "    \n",
    "    # Cross validation\n",
    "    cv = KFold(shuffle = True, random_state = 0, n_splits = 5)\n",
    "    \n",
    "    # Accuracy\n",
    "    scores1 = cross_val_score(alg, x, y, cv = cv, scoring = mse)\n",
    "    scores2 = cross_val_score(alg, x, y, cv = cv, scoring = r2)\n",
    "    acc1_cv = round(scores1.mean(), 4)\n",
    "    acc2_cv = round(scores2.mean(), 4)\n",
    "    \n",
    "    return acc1_cv, acc2_cv"
   ]
  },
  {
   "cell_type": "code",
   "execution_count": 48,
   "id": "f9605c47",
   "metadata": {},
   "outputs": [
    {
     "name": "stdout",
     "output_type": "stream",
     "text": [
      "Root Mean Squared Error: 4.0602\n",
      "R-squared: 0.6549\n"
     ]
    }
   ],
   "source": [
    "# Linear Regression\n",
    "\n",
    "mse_cv_lin, r2_cv_lin = alg_fit_cv(LinearRegression(), x, y, 'neg_mean_squared_error', 'r2')\n",
    "\n",
    "print(\"Root Mean Squared Error: %s\" % round(np.sqrt(mse_cv_lin*-1), 4))\n",
    "print(\"R-squared: %s\" % r2_cv_lin)"
   ]
  },
  {
   "cell_type": "code",
   "execution_count": 49,
   "id": "9b21590b",
   "metadata": {},
   "outputs": [
    {
     "name": "stdout",
     "output_type": "stream",
     "text": [
      "Root Mean Squared Error: 3.9691\n",
      "R-squared: 0.6681\n"
     ]
    }
   ],
   "source": [
    "# Ridge Regression\n",
    "mse_cv_rid, r2_cv_rid = alg_fit_cv(Ridge(alpha = 23), x, y, 'neg_mean_squared_error', 'r2')\n",
    "\n",
    "print(\"Root Mean Squared Error: %s\" % round(np.sqrt(mse_cv_rid*-1), 4))\n",
    "print(\"R-squared: %s\" % r2_cv_rid)"
   ]
  },
  {
   "cell_type": "code",
   "execution_count": 50,
   "id": "3e98e5ef",
   "metadata": {},
   "outputs": [
    {
     "name": "stdout",
     "output_type": "stream",
     "text": [
      "Root Mean Squared Error: 4.349\n",
      "R-squared: 0.6035\n"
     ]
    }
   ],
   "source": [
    "# Lasso Regression\n",
    "mse_cv_las, r2_cv_las = alg_fit_cv(Lasso(), x, y, 'neg_mean_squared_error', 'r2')\n",
    "\n",
    "print(\"Root Mean Squared Error: %s\" % round(np.sqrt(mse_cv_las*-1), 4))\n",
    "print(\"R-squared: %s\" % r2_cv_las)"
   ]
  },
  {
   "cell_type": "markdown",
   "id": "4028d341",
   "metadata": {},
   "source": [
    "### Advanced models\n"
   ]
  },
  {
   "cell_type": "markdown",
   "id": "0ef8f897",
   "metadata": {},
   "source": [
    "### LightGBM Regressor"
   ]
  },
  {
   "cell_type": "code",
   "execution_count": 51,
   "id": "06d6f2d8",
   "metadata": {},
   "outputs": [
    {
     "name": "stdout",
     "output_type": "stream",
     "text": [
      "[LightGBM] [Warning] feature_fraction is set=0.2, colsample_bytree=1.0 will be ignored. Current value: feature_fraction=0.2\n",
      "[LightGBM] [Warning] bagging_fraction is set=0.85, subsample=1.0 will be ignored. Current value: bagging_fraction=0.85\n",
      "[LightGBM] [Warning] bagging_freq is set=4, subsample_freq=0 will be ignored. Current value: bagging_freq=4\n",
      "[LightGBM] [Warning] feature_fraction is set=0.2, colsample_bytree=1.0 will be ignored. Current value: feature_fraction=0.2\n",
      "[LightGBM] [Warning] bagging_fraction is set=0.85, subsample=1.0 will be ignored. Current value: bagging_fraction=0.85\n",
      "[LightGBM] [Warning] bagging_freq is set=4, subsample_freq=0 will be ignored. Current value: bagging_freq=4\n",
      "[LightGBM] [Warning] feature_fraction is set=0.2, colsample_bytree=1.0 will be ignored. Current value: feature_fraction=0.2\n",
      "[LightGBM] [Warning] bagging_fraction is set=0.85, subsample=1.0 will be ignored. Current value: bagging_fraction=0.85\n",
      "[LightGBM] [Warning] bagging_freq is set=4, subsample_freq=0 will be ignored. Current value: bagging_freq=4\n",
      "[LightGBM] [Warning] feature_fraction is set=0.2, colsample_bytree=1.0 will be ignored. Current value: feature_fraction=0.2\n",
      "[LightGBM] [Warning] bagging_fraction is set=0.85, subsample=1.0 will be ignored. Current value: bagging_fraction=0.85\n",
      "[LightGBM] [Warning] bagging_freq is set=4, subsample_freq=0 will be ignored. Current value: bagging_freq=4\n",
      "[LightGBM] [Warning] feature_fraction is set=0.2, colsample_bytree=1.0 will be ignored. Current value: feature_fraction=0.2\n",
      "[LightGBM] [Warning] bagging_fraction is set=0.85, subsample=1.0 will be ignored. Current value: bagging_fraction=0.85\n",
      "[LightGBM] [Warning] bagging_freq is set=4, subsample_freq=0 will be ignored. Current value: bagging_freq=4\n",
      "[LightGBM] [Warning] feature_fraction is set=0.2, colsample_bytree=1.0 will be ignored. Current value: feature_fraction=0.2\n",
      "[LightGBM] [Warning] bagging_fraction is set=0.85, subsample=1.0 will be ignored. Current value: bagging_fraction=0.85\n",
      "[LightGBM] [Warning] bagging_freq is set=4, subsample_freq=0 will be ignored. Current value: bagging_freq=4\n",
      "[LightGBM] [Warning] feature_fraction is set=0.2, colsample_bytree=1.0 will be ignored. Current value: feature_fraction=0.2\n",
      "[LightGBM] [Warning] bagging_fraction is set=0.85, subsample=1.0 will be ignored. Current value: bagging_fraction=0.85\n",
      "[LightGBM] [Warning] bagging_freq is set=4, subsample_freq=0 will be ignored. Current value: bagging_freq=4\n",
      "[LightGBM] [Warning] feature_fraction is set=0.2, colsample_bytree=1.0 will be ignored. Current value: feature_fraction=0.2\n",
      "[LightGBM] [Warning] bagging_fraction is set=0.85, subsample=1.0 will be ignored. Current value: bagging_fraction=0.85\n",
      "[LightGBM] [Warning] bagging_freq is set=4, subsample_freq=0 will be ignored. Current value: bagging_freq=4\n",
      "[LightGBM] [Warning] feature_fraction is set=0.2, colsample_bytree=1.0 will be ignored. Current value: feature_fraction=0.2\n",
      "[LightGBM] [Warning] bagging_fraction is set=0.85, subsample=1.0 will be ignored. Current value: bagging_fraction=0.85\n",
      "[LightGBM] [Warning] bagging_freq is set=4, subsample_freq=0 will be ignored. Current value: bagging_freq=4\n",
      "[LightGBM] [Warning] feature_fraction is set=0.2, colsample_bytree=1.0 will be ignored. Current value: feature_fraction=0.2\n",
      "[LightGBM] [Warning] bagging_fraction is set=0.85, subsample=1.0 will be ignored. Current value: bagging_fraction=0.85\n",
      "[LightGBM] [Warning] bagging_freq is set=4, subsample_freq=0 will be ignored. Current value: bagging_freq=4\n",
      "Root Mean Squared Error: 4.0509\n",
      "R-squared: 0.6556\n"
     ]
    }
   ],
   "source": [
    "# LightGBM Regressor (after some parameter tuning)\n",
    "lgbm = LGBMRegressor(objective = 'regression',\n",
    "                     num_leaves = 20,\n",
    "                     learning_rate = 0.03,\n",
    "                     n_estimators = 200,\n",
    "                     max_bin = 50,\n",
    "                     bagging_fraction = 0.85,\n",
    "                     bagging_freq = 4,\n",
    "                     bagging_seed = 6,\n",
    "                     feature_fraction = 0.2,\n",
    "                     feature_fraction_seed = 7,\n",
    "                     verbose = -1)\n",
    "\n",
    "mse_cv_lgbm, r2_cv_lgbm = alg_fit_cv(lgbm, x, y, 'neg_mean_squared_error', 'r2')\n",
    "\n",
    "print(\"Root Mean Squared Error: %s\" % round(np.sqrt(mse_cv_lgbm*-1), 4))\n",
    "print(\"R-squared: %s\" % r2_cv_lgbm)"
   ]
  },
  {
   "cell_type": "markdown",
   "id": "58b3a5e5",
   "metadata": {},
   "source": [
    "### XGB-Regressor"
   ]
  },
  {
   "cell_type": "code",
   "execution_count": 52,
   "id": "185d78d4",
   "metadata": {},
   "outputs": [
    {
     "name": "stdout",
     "output_type": "stream",
     "text": [
      "Root Mean Squared Error: 3.8072\n",
      "R-squared: 0.6957\n"
     ]
    }
   ],
   "source": [
    "# XGB-Regressor (after some parameter tuning)\n",
    "xgb = XGBRegressor(n_estimators = 300,\n",
    "                   max_depth = 2,\n",
    "                   min_child_weight = 0,\n",
    "                   gamma = 8,\n",
    "                   subsample = 0.6,\n",
    "                   colsample_bytree = 0.9,\n",
    "                   objective = 'reg:squarederror',\n",
    "                   nthread = -1,\n",
    "                   scale_pos_weight = 1,\n",
    "                   seed = 27,\n",
    "                   learning_rate = 0.02,\n",
    "                   reg_alpha = 0.006)\n",
    "\n",
    "mse_cv_xgb, r2_cv_xgb = alg_fit_cv(xgb, x, y, 'neg_mean_squared_error', 'r2')\n",
    "\n",
    "print(\"Root Mean Squared Error: %s\" % round(np.sqrt(mse_cv_xgb*-1), 4))\n",
    "print(\"R-squared: %s\" % r2_cv_xgb)"
   ]
  },
  {
   "cell_type": "markdown",
   "id": "2517c9e2",
   "metadata": {},
   "source": [
    "### Feature importance"
   ]
  },
  {
   "cell_type": "markdown",
   "id": "dd2276a1",
   "metadata": {},
   "source": [
    "XGB-Regressor를 사용하여 가장 높은 정확도 점수를 얻었기 때문에 이를 이용한 모델로 Feature importance를 측정한다."
   ]
  },
  {
   "cell_type": "code",
   "execution_count": 53,
   "id": "7a810b54",
   "metadata": {},
   "outputs": [
    {
     "data": {
      "text/html": [
       "<div>\n",
       "<style scoped>\n",
       "    .dataframe tbody tr th:only-of-type {\n",
       "        vertical-align: middle;\n",
       "    }\n",
       "\n",
       "    .dataframe tbody tr th {\n",
       "        vertical-align: top;\n",
       "    }\n",
       "\n",
       "    .dataframe thead th {\n",
       "        text-align: right;\n",
       "    }\n",
       "</style>\n",
       "<table border=\"1\" class=\"dataframe\">\n",
       "  <thead>\n",
       "    <tr style=\"text-align: right;\">\n",
       "      <th></th>\n",
       "      <th>feature importance</th>\n",
       "    </tr>\n",
       "  </thead>\n",
       "  <tbody>\n",
       "    <tr>\n",
       "      <th>PTS 21/22</th>\n",
       "      <td>0.216269</td>\n",
       "    </tr>\n",
       "    <tr>\n",
       "      <th>FGA 21/22</th>\n",
       "      <td>0.152253</td>\n",
       "    </tr>\n",
       "    <tr>\n",
       "      <th>VORP 21/22</th>\n",
       "      <td>0.078079</td>\n",
       "    </tr>\n",
       "    <tr>\n",
       "      <th>GS 21/22</th>\n",
       "      <td>0.076530</td>\n",
       "    </tr>\n",
       "    <tr>\n",
       "      <th>OBPM 21/22</th>\n",
       "      <td>0.059482</td>\n",
       "    </tr>\n",
       "    <tr>\n",
       "      <th>USG% 21/22</th>\n",
       "      <td>0.046082</td>\n",
       "    </tr>\n",
       "    <tr>\n",
       "      <th>Age 21/22</th>\n",
       "      <td>0.032772</td>\n",
       "    </tr>\n",
       "    <tr>\n",
       "      <th>FT 21/22</th>\n",
       "      <td>0.030347</td>\n",
       "    </tr>\n",
       "    <tr>\n",
       "      <th>PER 21/22</th>\n",
       "      <td>0.029042</td>\n",
       "    </tr>\n",
       "    <tr>\n",
       "      <th>DRB 21/22</th>\n",
       "      <td>0.026476</td>\n",
       "    </tr>\n",
       "    <tr>\n",
       "      <th>2PA 21/22</th>\n",
       "      <td>0.020041</td>\n",
       "    </tr>\n",
       "    <tr>\n",
       "      <th>3P 21/22</th>\n",
       "      <td>0.016934</td>\n",
       "    </tr>\n",
       "    <tr>\n",
       "      <th>G 21/22</th>\n",
       "      <td>0.016498</td>\n",
       "    </tr>\n",
       "    <tr>\n",
       "      <th>TOV 21/22</th>\n",
       "      <td>0.016410</td>\n",
       "    </tr>\n",
       "    <tr>\n",
       "      <th>AST 21/22</th>\n",
       "      <td>0.015722</td>\n",
       "    </tr>\n",
       "    <tr>\n",
       "      <th>AST% 21/22</th>\n",
       "      <td>0.015308</td>\n",
       "    </tr>\n",
       "    <tr>\n",
       "      <th>PF 21/22</th>\n",
       "      <td>0.014925</td>\n",
       "    </tr>\n",
       "    <tr>\n",
       "      <th>MP 21/22</th>\n",
       "      <td>0.013114</td>\n",
       "    </tr>\n",
       "    <tr>\n",
       "      <th>STL% 21/22</th>\n",
       "      <td>0.012700</td>\n",
       "    </tr>\n",
       "    <tr>\n",
       "      <th>BLK% 21/22</th>\n",
       "      <td>0.012440</td>\n",
       "    </tr>\n",
       "    <tr>\n",
       "      <th>BLK 21/22</th>\n",
       "      <td>0.012150</td>\n",
       "    </tr>\n",
       "    <tr>\n",
       "      <th>Pos_SG</th>\n",
       "      <td>0.012144</td>\n",
       "    </tr>\n",
       "    <tr>\n",
       "      <th>WS/48 21/22</th>\n",
       "      <td>0.011787</td>\n",
       "    </tr>\n",
       "    <tr>\n",
       "      <th>STL 21/22</th>\n",
       "      <td>0.011552</td>\n",
       "    </tr>\n",
       "    <tr>\n",
       "      <th>FTr 21/22</th>\n",
       "      <td>0.010960</td>\n",
       "    </tr>\n",
       "    <tr>\n",
       "      <th>3PAr 21/22</th>\n",
       "      <td>0.010959</td>\n",
       "    </tr>\n",
       "    <tr>\n",
       "      <th>TOV% 21/22</th>\n",
       "      <td>0.010898</td>\n",
       "    </tr>\n",
       "    <tr>\n",
       "      <th>Pos_PG</th>\n",
       "      <td>0.009224</td>\n",
       "    </tr>\n",
       "    <tr>\n",
       "      <th>TS% 21/22</th>\n",
       "      <td>0.008903</td>\n",
       "    </tr>\n",
       "    <tr>\n",
       "      <th>Pos_SF</th>\n",
       "      <td>0.000000</td>\n",
       "    </tr>\n",
       "    <tr>\n",
       "      <th>Pos_PF</th>\n",
       "      <td>0.000000</td>\n",
       "    </tr>\n",
       "    <tr>\n",
       "      <th>Pos_C</th>\n",
       "      <td>0.000000</td>\n",
       "    </tr>\n",
       "  </tbody>\n",
       "</table>\n",
       "</div>"
      ],
      "text/plain": [
       "             feature importance\n",
       "PTS 21/22              0.216269\n",
       "FGA 21/22              0.152253\n",
       "VORP 21/22             0.078079\n",
       "GS 21/22               0.076530\n",
       "OBPM 21/22             0.059482\n",
       "USG% 21/22             0.046082\n",
       "Age 21/22              0.032772\n",
       "FT 21/22               0.030347\n",
       "PER 21/22              0.029042\n",
       "DRB 21/22              0.026476\n",
       "2PA 21/22              0.020041\n",
       "3P 21/22               0.016934\n",
       "G 21/22                0.016498\n",
       "TOV 21/22              0.016410\n",
       "AST 21/22              0.015722\n",
       "AST% 21/22             0.015308\n",
       "PF 21/22               0.014925\n",
       "MP 21/22               0.013114\n",
       "STL% 21/22             0.012700\n",
       "BLK% 21/22             0.012440\n",
       "BLK 21/22              0.012150\n",
       "Pos_SG                 0.012144\n",
       "WS/48 21/22            0.011787\n",
       "STL 21/22              0.011552\n",
       "FTr 21/22              0.010960\n",
       "3PAr 21/22             0.010959\n",
       "TOV% 21/22             0.010898\n",
       "Pos_PG                 0.009224\n",
       "TS% 21/22              0.008903\n",
       "Pos_SF                 0.000000\n",
       "Pos_PF                 0.000000\n",
       "Pos_C                  0.000000"
      ]
     },
     "execution_count": 53,
     "metadata": {},
     "output_type": "execute_result"
    }
   ],
   "source": [
    "# Model\n",
    "mod = xgb.fit(x, y)\n",
    "\n",
    "# Feature importance\n",
    "df_feature_importance = pd.DataFrame(xgb.feature_importances_, index = x.columns, \n",
    "                                     columns = ['feature importance']).sort_values('feature importance', ascending = False)\n",
    "df_feature_importance"
   ]
  },
  {
   "cell_type": "markdown",
   "id": "fb7fa190",
   "metadata": {},
   "source": [
    "### New features"
   ]
  },
  {
   "cell_type": "markdown",
   "id": "24a52a11",
   "metadata": {},
   "source": [
    "높은 중요도를 가진 특징을 사용한다. 다만 일부 특징의 경우, 중복되거나 다른 특징에 가깝기 때문에 사용할 수 없다. 예를 들어, 경기당 필드골(FG)은 이미 경기당 포인트(PTS)에 포함되기 때문에 필요하지 않다."
   ]
  },
  {
   "cell_type": "code",
   "execution_count": 54,
   "id": "95de9f59",
   "metadata": {},
   "outputs": [],
   "source": [
    "# Drop out features with low importance or which are redundant\n",
    "x_new = x.loc[:, ['Age 21/22', 'GS 21/22', 'FGA 21/22','3P 21/22', '2PA 21/22', 'FT 21/22',\n",
    "    'DRB 21/22', 'AST 21/22', 'PTS 21/22', 'PER 21/22', 'USG% 21/22','OBPM 21/22', 'VORP 21/22']]"
   ]
  },
  {
   "cell_type": "markdown",
   "id": "b1ebe1d8",
   "metadata": {},
   "source": [
    "### Final Model\n"
   ]
  },
  {
   "cell_type": "code",
   "execution_count": 55,
   "id": "363efc03",
   "metadata": {},
   "outputs": [
    {
     "name": "stdout",
     "output_type": "stream",
     "text": [
      "Root Mean Squared Error: 3.7863\n",
      "R-squared: 0.6993\n"
     ]
    }
   ],
   "source": [
    "# XGB-Regressor (after some parameter tuning)\n",
    "xgb_new = XGBRegressor(n_estimators = 270,\n",
    "                       max_depth = 2,\n",
    "                       min_child_weight = 0,\n",
    "                       gamma = 18,\n",
    "                       subsample = 0.7,\n",
    "                       colsample_bytree = 0.9,\n",
    "                       objective = 'reg:squarederror',\n",
    "                       nthread = -1,\n",
    "                       scale_pos_weight = 1,\n",
    "                       seed = 27,\n",
    "                       learning_rate = 0.023,\n",
    "                       reg_alpha = 0.02)\n",
    "\n",
    "mse_cv_xgb, r2_cv_xgb = alg_fit_cv(xgb_new, x_new, y, 'neg_mean_squared_error', 'r2')\n",
    "\n",
    "print(\"Root Mean Squared Error: %s\" % round(np.sqrt(mse_cv_xgb*-1), 4))\n",
    "print(\"R-squared: %s\" % r2_cv_xgb)"
   ]
  },
  {
   "cell_type": "markdown",
   "id": "fc8fb5e7",
   "metadata": {},
   "source": [
    "### Let's see how it performs on some test data"
   ]
  },
  {
   "cell_type": "code",
   "execution_count": 56,
   "id": "bad76cfb",
   "metadata": {
    "scrolled": true
   },
   "outputs": [
    {
     "name": "stdout",
     "output_type": "stream",
     "text": [
      "Root Mean Squared Error: 3.4604\n",
      "R-squared: 0.7568\n"
     ]
    },
    {
     "data": {
      "text/html": [
       "<div>\n",
       "<style scoped>\n",
       "    .dataframe tbody tr th:only-of-type {\n",
       "        vertical-align: middle;\n",
       "    }\n",
       "\n",
       "    .dataframe tbody tr th {\n",
       "        vertical-align: top;\n",
       "    }\n",
       "\n",
       "    .dataframe thead th {\n",
       "        text-align: right;\n",
       "    }\n",
       "</style>\n",
       "<table border=\"1\" class=\"dataframe\">\n",
       "  <thead>\n",
       "    <tr style=\"text-align: right;\">\n",
       "      <th></th>\n",
       "      <th>Player</th>\n",
       "      <th>Salary 22/23</th>\n",
       "      <th>y_pred</th>\n",
       "    </tr>\n",
       "  </thead>\n",
       "  <tbody>\n",
       "    <tr>\n",
       "      <th>76</th>\n",
       "      <td>Giannis Antetokounmpo</td>\n",
       "      <td>42492.492</td>\n",
       "      <td>36416.914062</td>\n",
       "    </tr>\n",
       "    <tr>\n",
       "      <th>69</th>\n",
       "      <td>Klay Thompson</td>\n",
       "      <td>40600.080</td>\n",
       "      <td>24270.738281</td>\n",
       "    </tr>\n",
       "    <tr>\n",
       "      <th>16</th>\n",
       "      <td>Kyrie Irving</td>\n",
       "      <td>36934.550</td>\n",
       "      <td>32994.105469</td>\n",
       "    </tr>\n",
       "    <tr>\n",
       "      <th>23</th>\n",
       "      <td>Andrew Wiggins</td>\n",
       "      <td>33616.770</td>\n",
       "      <td>15185.351562</td>\n",
       "    </tr>\n",
       "    <tr>\n",
       "      <th>52</th>\n",
       "      <td>Nikola Jokić</td>\n",
       "      <td>33047.803</td>\n",
       "      <td>33036.679688</td>\n",
       "    </tr>\n",
       "    <tr>\n",
       "      <th>66</th>\n",
       "      <td>James Harden</td>\n",
       "      <td>33000.000</td>\n",
       "      <td>38974.101562</td>\n",
       "    </tr>\n",
       "    <tr>\n",
       "      <th>49</th>\n",
       "      <td>Brandon Ingram</td>\n",
       "      <td>31650.600</td>\n",
       "      <td>34730.261719</td>\n",
       "    </tr>\n",
       "    <tr>\n",
       "      <th>1</th>\n",
       "      <td>Jayson Tatum</td>\n",
       "      <td>30351.780</td>\n",
       "      <td>26630.937500</td>\n",
       "    </tr>\n",
       "    <tr>\n",
       "      <th>20</th>\n",
       "      <td>Gordon Hayward</td>\n",
       "      <td>30075.000</td>\n",
       "      <td>15767.200195</td>\n",
       "    </tr>\n",
       "    <tr>\n",
       "      <th>62</th>\n",
       "      <td>Jalen Brunson</td>\n",
       "      <td>27733.332</td>\n",
       "      <td>15219.522461</td>\n",
       "    </tr>\n",
       "  </tbody>\n",
       "</table>\n",
       "</div>"
      ],
      "text/plain": [
       "                   Player  Salary 22/23        y_pred\n",
       "76  Giannis Antetokounmpo     42492.492  36416.914062\n",
       "69          Klay Thompson     40600.080  24270.738281\n",
       "16           Kyrie Irving     36934.550  32994.105469\n",
       "23         Andrew Wiggins     33616.770  15185.351562\n",
       "52           Nikola Jokić     33047.803  33036.679688\n",
       "66           James Harden     33000.000  38974.101562\n",
       "49         Brandon Ingram     31650.600  34730.261719\n",
       "1            Jayson Tatum     30351.780  26630.937500\n",
       "20         Gordon Hayward     30075.000  15767.200195\n",
       "62          Jalen Brunson     27733.332  15219.522461"
      ]
     },
     "execution_count": 56,
     "metadata": {},
     "output_type": "execute_result"
    }
   ],
   "source": [
    "# Split data now with x_new\n",
    "x_train, x_test, y_train, y_test = train_test_split(x_new, y, test_size = 0.2, random_state = 0)\n",
    "\n",
    "# Use function to fit algorithm\n",
    "y_pred_xgb, mse_xgb, r2_xgb, df_acc_xgb = alg_fit(xgb_new, x_train, y_train, x_test, 'Player', 'Salary 22/23', \n",
    "                                                  df1, metrics.mean_squared_error, metrics.r2_score)\n",
    "\n",
    "print(\"Root Mean Squared Error: %s\" % round(np.sqrt(mse_xgb), 4))\n",
    "print(\"R-squared: %s\" % r2_xgb)\n",
    "df_acc_xgb.head(10)"
   ]
  },
  {
   "cell_type": "markdown",
   "id": "a5c33ead",
   "metadata": {},
   "source": [
    "### Visualization"
   ]
  },
  {
   "cell_type": "markdown",
   "id": "393efbd0",
   "metadata": {},
   "source": [
    "예상 연봉과 실제 연봉 비교한다."
   ]
  },
  {
   "cell_type": "code",
   "execution_count": 57,
   "id": "0bc90bbc",
   "metadata": {},
   "outputs": [
    {
     "data": {
      "text/plain": [
       "<AxesSubplot:xlabel='Player'>"
      ]
     },
     "execution_count": 57,
     "metadata": {},
     "output_type": "execute_result"
    },
    {
     "data": {
      "image/png": "[encoded data removed]",
      "text/plain": [
       "<Figure size 432x288 with 1 Axes>"
      ]
     },
     "metadata": {},
     "output_type": "display_data"
    }
   ],
   "source": [
    "df_acc_xgb.head(20).plot(x='Player', y=['Salary 22/23', 'y_pred'], kind=\"bar\")"
   ]
  },
  {
   "cell_type": "code",
   "execution_count": null,
   "id": "70c8267a",
   "metadata": {},
   "outputs": [],
   "source": []
  }
 ],
 "metadata": {
  "kernelspec": {
   "display_name": "Python 3 (ipykernel)",
   "language": "python",
   "name": "python3"
  },
  "language_info": {
   "codemirror_mode": {
    "name": "ipython",
    "version": 3
   },
   "file_extension": ".py",
   "mimetype": "text/x-python",
   "name": "python",
   "nbconvert_exporter": "python",
   "pygments_lexer": "ipython3",
   "version": "3.9.12"
  }
 },
 "nbformat": 4,
 "nbformat_minor": 5
}
